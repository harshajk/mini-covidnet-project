{
 "cells": [
  {
   "cell_type": "code",
   "execution_count": 1,
   "metadata": {},
   "outputs": [
    {
     "name": "stdout",
     "output_type": "stream",
     "text": [
      "WARNING:tensorflow:From C:\\Users\\212733771\\AppData\\Local\\Temp\\ipykernel_11464\\1348540267.py:2: is_gpu_available (from tensorflow.python.framework.test_util) is deprecated and will be removed in a future version.\n",
      "Instructions for updating:\n",
      "Use `tf.config.list_physical_devices('GPU')` instead.\n"
     ]
    },
    {
     "data": {
      "text/plain": [
       "True"
      ]
     },
     "execution_count": 1,
     "metadata": {},
     "output_type": "execute_result"
    }
   ],
   "source": [
    "import tensorflow as tf\n",
    "tf.test.is_gpu_available()\n",
    "#tf.test.is_built_with_cuda()"
   ]
  },
  {
   "cell_type": "code",
   "execution_count": 2,
   "metadata": {},
   "outputs": [],
   "source": [
    "import argparse\n",
    "import os\n",
    "\n",
    "import cv2\n",
    "import matplotlib.pyplot as plt\n",
    "import numpy as np\n",
    "import tensorflow as tf\n",
    "from tensorflow import keras \n",
    "from imutils import paths\n",
    "from sklearn.metrics import classification_report, confusion_matrix\n",
    "from sklearn.preprocessing import LabelBinarizer\n",
    "from keras.callbacks import (\n",
    "    EarlyStopping, ModelCheckpoint, ReduceLROnPlateau\n",
    ")\n",
    "from keras.optimizers import Adam\n",
    "from keras.preprocessing.image import ImageDataGenerator\n",
    "from keras.utils import to_categorical\n",
    "\n",
    "from model_mobile import get_model\n",
    "\n",
    "os.environ[\"CUDA_VISIBLE_DEVICES\"]=\"1\""
   ]
  },
  {
   "cell_type": "code",
   "execution_count": 3,
   "metadata": {},
   "outputs": [],
   "source": [
    "DATA_DIR = 'C:/Users/212733771/Documents/Covid-Ultrasound/selected_frames/'\n",
    "MODEL_DIR = 'C:/Users/212733771/Documents/Covid-Ultrasound/mobilenet_models'\n",
    "FOLD = 0\n",
    "LR = 1e-4\n",
    "EPOCHS = 50\n",
    "BATCH_SIZE = 16\n",
    "TRAINABLE_BASE_LAYERS = 1\n",
    "IMG_WIDTH, IMG_HEIGHT = (224,224)"
   ]
  },
  {
   "cell_type": "code",
   "execution_count": 4,
   "metadata": {},
   "outputs": [],
   "source": [
    "\n",
    "model_name = 'pocus_fold_{0}'\n",
    "plot_path = 'pocus_fold_{0}'\n",
    "\n",
    "if not os.path.exists(MODEL_DIR):\n",
    "    os.makedirs(MODEL_DIR)\n",
    "\n",
    "# # grab the list of images in our dataset directory, then initialize\n",
    "# # the list of data (i.e., images) and class images\n",
    "# print('Loading images...')\n",
    "# imagePaths = list(paths.list_images(DATA_DIR))\n",
    "# data = []\n",
    "# labels = []\n",
    "\n",
    "# print(f'Model is called : {model_name}')\n",
    "# print(f'selected fold: {FOLD}')\n",
    "\n",
    "# train_labels, test_labels = [], []\n",
    "# train_data, test_data = [], []"
   ]
  },
  {
   "cell_type": "code",
   "execution_count": 5,
   "metadata": {},
   "outputs": [
    {
     "name": "stdout",
     "output_type": "stream",
     "text": [
      "covid\n",
      "165\n",
      "regular\n",
      "83\n",
      "pneumonia\n",
      "267\n",
      "covid\n",
      "187\n",
      "regular\n",
      "126\n",
      "pneumonia\n",
      "173\n",
      "covid\n",
      "404\n",
      "regular\n",
      "122\n",
      "pneumonia\n",
      "392\n",
      "covid\n",
      "458\n",
      "regular\n",
      "83\n",
      "pneumonia\n",
      "81\n",
      "covid\n",
      "177\n",
      "regular\n",
      "98\n",
      "pneumonia\n",
      "352\n"
     ]
    }
   ],
   "source": [
    "train_val_test={}\n",
    "label_dict = {'cov':'covid','reg':'regular','pneu':'pneumonia'}\n",
    "for test_train_dir in os.listdir(DATA_DIR):\n",
    "    #print(test_train_dir)\n",
    "    save_image_dir_foldwide = os.path.join(DATA_DIR,test_train_dir)\n",
    "    label_flod={}\n",
    "    # label_flod.append(test_train_dir)\n",
    "    for key,label_folder in label_dict.items():\n",
    "        print(label_folder)\n",
    "        fold_path = os.path.join(save_image_dir_foldwide,label_folder)\n",
    "        print(len(os.listdir(fold_path)))\n",
    "        # label_flod.append(os.listdir(fold_path))\n",
    "        label_flod[key]=[os.path.join(fold_path, f) for f in os.listdir(fold_path)] #os.listdir(fold_path)\n",
    "    train_val_test[test_train_dir] = label_flod"
   ]
  },
  {
   "cell_type": "code",
   "execution_count": 6,
   "metadata": {},
   "outputs": [
    {
     "name": "stdout",
     "output_type": "stream",
     "text": [
      "train_test_1\n",
      "cov\n",
      "165\n",
      "reg\n",
      "83\n",
      "pneu\n",
      "267\n",
      "train_test_2\n",
      "cov\n",
      "187\n",
      "reg\n",
      "126\n",
      "pneu\n",
      "173\n",
      "train_test_3\n",
      "cov\n",
      "404\n",
      "reg\n",
      "122\n",
      "pneu\n",
      "392\n",
      "train_test_4\n",
      "cov\n",
      "458\n",
      "reg\n",
      "83\n",
      "pneu\n",
      "81\n",
      "train_test_5\n",
      "cov\n",
      "177\n",
      "reg\n",
      "98\n",
      "pneu\n",
      "352\n",
      "\n",
      "Number of training samples: 1919 \n",
      "Number of testing samples: 627\n"
     ]
    }
   ],
   "source": [
    "train_folders=['train_test_1','train_test_2','train_test_3']\n",
    "val_folders=['train_test_4']\n",
    "test_folders=['train_test_5']\n",
    "train_path=[]\n",
    "train_data=[]\n",
    "train_labels=[]\n",
    "val_path=[]\n",
    "val_data=[]\n",
    "val_labels=[]\n",
    "test_path=[]\n",
    "test_data=[]\n",
    "test_labels=[]\n",
    "for path_key,folder in train_val_test.items():\n",
    "    print(path_key)\n",
    "    for type_key,paths in folder.items():\n",
    "        print(type_key)\n",
    "        print(len(paths))\n",
    "        if (path_key in train_folders):\n",
    "           train_path+= paths\n",
    "           for imagePath in paths:\n",
    "                image_org = np.load(imagePath,allow_pickle=False)\n",
    "                assert image_org.shape[0] == 3\n",
    "                image=np.zeros(shape=(IMG_WIDTH, IMG_HEIGHT,image_org.shape[0])).astype(image_org.dtype)\n",
    "                for i in range(len(image_org)):\n",
    "                    # image[i] = cv2.cvtColor(image[i], cv2.COLOR_BGR2RGB)  \n",
    "                    image[:,:,i] = cv2.resize(cv2.cvtColor(image_org[i], cv2.COLOR_BGR2GRAY), (IMG_WIDTH, IMG_HEIGHT)) \n",
    "                train_labels.append(type_key)\n",
    "                train_data.append(image)                      \n",
    "        if (path_key in val_folders):\n",
    "           val_path+= paths\n",
    "           for imagePath in paths:\n",
    "                image_org = np.load(imagePath,allow_pickle=False)\n",
    "                assert image_org.shape[0] == 3\n",
    "                image=np.zeros(shape=(IMG_WIDTH, IMG_HEIGHT,image_org.shape[0])).astype(image_org.dtype)\n",
    "                for i in range(len(image_org)):\n",
    "                    # image[i] = cv2.cvtColor(image[i], cv2.COLOR_BGR2RGB)  \n",
    "                    image[:,:,i] = cv2.resize(cv2.cvtColor(image_org[i], cv2.COLOR_BGR2GRAY), (IMG_WIDTH, IMG_HEIGHT)) \n",
    "                val_labels.append(type_key)\n",
    "                val_data.append(image)             \n",
    "        if (path_key in test_folders):\n",
    "           test_path+= paths   \n",
    "           for imagePath in paths:\n",
    "                image_org = np.load(imagePath,allow_pickle=False)\n",
    "                assert image_org.shape[0] == 3\n",
    "                image=np.zeros(shape=(IMG_WIDTH, IMG_HEIGHT,image_org.shape[0])).astype(image_org.dtype)\n",
    "                for i in range(len(image_org)):\n",
    "                    # image[i] = cv2.cvtColor(image[i], cv2.COLOR_BGR2RGB)  \n",
    "                    image[:,:,i] = cv2.resize(cv2.cvtColor(image_org[i], cv2.COLOR_BGR2GRAY), (IMG_WIDTH, IMG_HEIGHT)) \n",
    "                test_labels.append(type_key)\n",
    "                test_data.append(image)                     \n",
    "\n",
    "print(\n",
    "    '\\nNumber of training samples: '+str(len(train_labels))+' \\n'\n",
    "    'Number of testing samples: '+str(len(test_labels))+''\n",
    ")\n",
    "\n",
    "train_data = np.array(train_data)\n",
    "test_data = np.array(test_data)\n",
    "val_data = np.array(val_data)"
   ]
  },
  {
   "cell_type": "code",
   "execution_count": 26,
   "metadata": {},
   "outputs": [],
   "source": [
    "# for imagePath in imagePaths:\n",
    "#     path_parts = imagePath.split(os.path.sep)\n",
    "#     # extract the split\n",
    "#     train_test = path_parts[-3][-1]\n",
    "#     # extract the class label from the filename\n",
    "#     label = path_parts[-2]\n",
    "#     # load the image, swap color channels, and resize it to be a fixed\n",
    "#     # 224x224 pixels while ignoring aspect ratio\n",
    "#     image = cv2.imread(imagePath)\n",
    "#     image = cv2.cvtColor(image, cv2.COLOR_BGR2RGB)\n",
    "#     image = cv2.resize(image, (IMG_WIDTH, IMG_HEIGHT))\n",
    "\n",
    "#     # update the data and labels lists, respectively\n",
    "#     if train_test == str(FOLD+1):\n",
    "#         test_labels.append(label)\n",
    "#         test_data.append(image)\n",
    "#     else:\n",
    "#         train_labels.append(label)\n",
    "#         train_data.append(image)\n",
    "\n"
   ]
  },
  {
   "cell_type": "code",
   "execution_count": 7,
   "metadata": {},
   "outputs": [
    {
     "data": {
      "text/plain": [
       "627"
      ]
     },
     "execution_count": 7,
     "metadata": {},
     "output_type": "execute_result"
    }
   ],
   "source": [
    "len(test_labels)"
   ]
  },
  {
   "cell_type": "code",
   "execution_count": 8,
   "metadata": {},
   "outputs": [],
   "source": [
    "\n",
    "assert len(set(train_labels)) == len(set(test_labels)), (\n",
    "    'Something went wrong. Some classes are only in train or test data.'\n",
    ")  # yapf: disable\n",
    "\n",
    "# convert the data and labels to NumPy arrays while scaling the pixel\n",
    "# intensities to the range [0, 255]\n",
    "train_data = np.array(train_data) / 255.0\n",
    "test_data = np.array(test_data) / 255.0\n",
    "train_labels_text = np.array(train_labels)\n",
    "test_labels_text = np.array(test_labels)\n",
    "\n",
    "num_classes = len(set(train_labels))\n",
    "\n",
    "# perform one-hot encoding on the labels\n",
    "lb = LabelBinarizer()\n",
    "lb.fit(train_labels_text)\n",
    "\n",
    "train_labels = lb.transform(train_labels_text)\n",
    "test_labels = lb.transform(test_labels_text)"
   ]
  },
  {
   "cell_type": "code",
   "execution_count": 9,
   "metadata": {},
   "outputs": [
    {
     "name": "stdout",
     "output_type": "stream",
     "text": [
      "Class mappings are: ['cov' 'pneu' 'reg']\n"
     ]
    }
   ],
   "source": [
    "\n",
    "if num_classes == 2:\n",
    "    train_labels = to_categorical(train_labels, num_classes=num_classes)\n",
    "    test_labels = to_categorical(test_labels, num_classes=num_classes)\n",
    "\n",
    "trainX = train_data\n",
    "trainY = train_labels\n",
    "testX = test_data\n",
    "testY = test_labels\n",
    "print('Class mappings are:', lb.classes_)\n",
    "\n",
    "# initialize the training data augmentation object\n",
    "trainAug = ImageDataGenerator(\n",
    "    rotation_range=10,\n",
    "    fill_mode='nearest',\n",
    "    horizontal_flip=True,\n",
    "    vertical_flip=True,\n",
    "    width_shift_range=0.1,\n",
    "    height_shift_range=0.1\n",
    ")\n",
    "\n",
    "# Load the VGG16 network\n",
    "model = get_model(\n",
    "    input_size=(IMG_WIDTH, IMG_HEIGHT, 3), num_classes=num_classes\n",
    ")"
   ]
  },
  {
   "cell_type": "code",
   "execution_count": 10,
   "metadata": {},
   "outputs": [
    {
     "data": {
      "text/plain": [
       "776"
      ]
     },
     "execution_count": 10,
     "metadata": {},
     "output_type": "execute_result"
    }
   ],
   "source": [
    "num_layers = len(model.layers)\n",
    "num_layers"
   ]
  },
  {
   "cell_type": "code",
   "execution_count": 11,
   "metadata": {},
   "outputs": [
    {
     "name": "stdout",
     "output_type": "stream",
     "text": [
      "WARNING:tensorflow:`epsilon` argument is deprecated and will be removed, use `min_delta` instead.\n",
      "Compiling model...\n",
      "Model has {model.count_params()} parameters\n",
      "Model summary {model.summary()}\n",
      "Model: \"model\"\n",
      "__________________________________________________________________________________________________\n",
      " Layer (type)                   Output Shape         Param #     Connected to                     \n",
      "==================================================================================================\n",
      " input_1 (InputLayer)           [(None, 224, 224, 3  0           []                               \n",
      "                                )]                                                                \n",
      "                                                                                                  \n",
      " stem_conv1 (Conv2D)            (None, 111, 111, 32  864         ['input_1[0][0]']                \n",
      "                                )                                                                 \n",
      "                                                                                                  \n",
      " stem_bn1 (BatchNormalization)  (None, 111, 111, 32  128         ['stem_conv1[0][0]']             \n",
      "                                )                                                                 \n",
      "                                                                                                  \n",
      " activation (Activation)        (None, 111, 111, 32  0           ['stem_bn1[0][0]']               \n",
      "                                )                                                                 \n",
      "                                                                                                  \n",
      " reduction_conv_1_stem_1 (Conv2  (None, 111, 111, 11  352        ['activation[0][0]']             \n",
      " D)                             )                                                                 \n",
      "                                                                                                  \n",
      " reduction_bn_1_stem_1 (BatchNo  (None, 111, 111, 11  44         ['reduction_conv_1_stem_1[0][0]']\n",
      " rmalization)                   )                                                                 \n",
      "                                                                                                  \n",
      " activation_1 (Activation)      (None, 111, 111, 11  0           ['reduction_bn_1_stem_1[0][0]']  \n",
      "                                )                                                                 \n",
      "                                                                                                  \n",
      " activation_3 (Activation)      (None, 111, 111, 32  0           ['stem_bn1[0][0]']               \n",
      "                                )                                                                 \n",
      "                                                                                                  \n",
      " separable_conv_1_pad_reduction  (None, 115, 115, 11  0          ['activation_1[0][0]']           \n",
      " _left1_stem_1 (ZeroPadding2D)  )                                                                 \n",
      "                                                                                                  \n",
      " separable_conv_1_pad_reduction  (None, 117, 117, 32  0          ['activation_3[0][0]']           \n",
      " _right1_stem_1 (ZeroPadding2D)  )                                                                \n",
      "                                                                                                  \n",
      " separable_conv_1_reduction_lef  (None, 56, 56, 11)  396         ['separable_conv_1_pad_reduction_\n",
      " t1_stem_1 (SeparableConv2D)                                     left1_stem_1[0][0]']             \n",
      "                                                                                                  \n",
      " separable_conv_1_reduction_rig  (None, 56, 56, 11)  1920        ['separable_conv_1_pad_reduction_\n",
      " ht1_stem_1 (SeparableConv2D)                                    right1_stem_1[0][0]']            \n",
      "                                                                                                  \n",
      " separable_conv_1_bn_reduction_  (None, 56, 56, 11)  44          ['separable_conv_1_reduction_left\n",
      " left1_stem_1 (BatchNormalizati                                  1_stem_1[0][0]']                 \n",
      " on)                                                                                              \n",
      "                                                                                                  \n",
      " separable_conv_1_bn_reduction_  (None, 56, 56, 11)  44          ['separable_conv_1_reduction_righ\n",
      " right1_stem_1 (BatchNormalizat                                  t1_stem_1[0][0]']                \n",
      " ion)                                                                                             \n",
      "                                                                                                  \n",
      " activation_2 (Activation)      (None, 56, 56, 11)   0           ['separable_conv_1_bn_reduction_l\n",
      "                                                                 eft1_stem_1[0][0]']              \n",
      "                                                                                                  \n",
      " activation_4 (Activation)      (None, 56, 56, 11)   0           ['separable_conv_1_bn_reduction_r\n",
      "                                                                 ight1_stem_1[0][0]']             \n",
      "                                                                                                  \n",
      " separable_conv_2_reduction_lef  (None, 56, 56, 11)  396         ['activation_2[0][0]']           \n",
      " t1_stem_1 (SeparableConv2D)                                                                      \n",
      "                                                                                                  \n",
      " separable_conv_2_reduction_rig  (None, 56, 56, 11)  660         ['activation_4[0][0]']           \n",
      " ht1_stem_1 (SeparableConv2D)                                                                     \n",
      "                                                                                                  \n",
      " activation_5 (Activation)      (None, 111, 111, 32  0           ['stem_bn1[0][0]']               \n",
      "                                )                                                                 \n",
      "                                                                                                  \n",
      " separable_conv_2_bn_reduction_  (None, 56, 56, 11)  44          ['separable_conv_2_reduction_left\n",
      " left1_stem_1 (BatchNormalizati                                  1_stem_1[0][0]']                 \n",
      " on)                                                                                              \n",
      "                                                                                                  \n",
      " separable_conv_2_bn_reduction_  (None, 56, 56, 11)  44          ['separable_conv_2_reduction_righ\n",
      " right1_stem_1 (BatchNormalizat                                  t1_stem_1[0][0]']                \n",
      " ion)                                                                                             \n",
      "                                                                                                  \n",
      " separable_conv_1_pad_reduction  (None, 117, 117, 32  0          ['activation_5[0][0]']           \n",
      " _right2_stem_1 (ZeroPadding2D)  )                                                                \n",
      "                                                                                                  \n",
      " activation_7 (Activation)      (None, 111, 111, 32  0           ['stem_bn1[0][0]']               \n",
      "                                )                                                                 \n",
      "                                                                                                  \n",
      " reduction_add_1_stem_1 (Add)   (None, 56, 56, 11)   0           ['separable_conv_2_bn_reduction_l\n",
      "                                                                 eft1_stem_1[0][0]',              \n",
      "                                                                  'separable_conv_2_bn_reduction_r\n",
      "                                                                 ight1_stem_1[0][0]']             \n",
      "                                                                                                  \n",
      " separable_conv_1_reduction_rig  (None, 56, 56, 11)  1920        ['separable_conv_1_pad_reduction_\n",
      " ht2_stem_1 (SeparableConv2D)                                    right2_stem_1[0][0]']            \n",
      "                                                                                                  \n",
      " separable_conv_1_pad_reduction  (None, 115, 115, 32  0          ['activation_7[0][0]']           \n",
      " _right3_stem_1 (ZeroPadding2D)  )                                                                \n",
      "                                                                                                  \n",
      " activation_9 (Activation)      (None, 56, 56, 11)   0           ['reduction_add_1_stem_1[0][0]'] \n",
      "                                                                                                  \n",
      " separable_conv_1_bn_reduction_  (None, 56, 56, 11)  44          ['separable_conv_1_reduction_righ\n",
      " right2_stem_1 (BatchNormalizat                                  t2_stem_1[0][0]']                \n",
      " ion)                                                                                             \n",
      "                                                                                                  \n",
      " separable_conv_1_reduction_rig  (None, 56, 56, 11)  1152        ['separable_conv_1_pad_reduction_\n",
      " ht3_stem_1 (SeparableConv2D)                                    right3_stem_1[0][0]']            \n",
      "                                                                                                  \n",
      " separable_conv_1_reduction_lef  (None, 56, 56, 11)  220         ['activation_9[0][0]']           \n",
      " t4_stem_1 (SeparableConv2D)                                                                      \n",
      "                                                                                                  \n",
      " activation_6 (Activation)      (None, 56, 56, 11)   0           ['separable_conv_1_bn_reduction_r\n",
      "                                                                 ight2_stem_1[0][0]']             \n",
      "                                                                                                  \n",
      " separable_conv_1_bn_reduction_  (None, 56, 56, 11)  44          ['separable_conv_1_reduction_righ\n",
      " right3_stem_1 (BatchNormalizat                                  t3_stem_1[0][0]']                \n",
      " ion)                                                                                             \n",
      "                                                                                                  \n",
      " separable_conv_1_bn_reduction_  (None, 56, 56, 11)  44          ['separable_conv_1_reduction_left\n",
      " left4_stem_1 (BatchNormalizati                                  4_stem_1[0][0]']                 \n",
      " on)                                                                                              \n",
      "                                                                                                  \n",
      " reduction_pad_1_stem_1 (ZeroPa  (None, 113, 113, 11  0          ['reduction_bn_1_stem_1[0][0]']  \n",
      " dding2D)                       )                                                                 \n",
      "                                                                                                  \n",
      " separable_conv_2_reduction_rig  (None, 56, 56, 11)  660         ['activation_6[0][0]']           \n",
      " ht2_stem_1 (SeparableConv2D)                                                                     \n",
      "                                                                                                  \n",
      " activation_8 (Activation)      (None, 56, 56, 11)   0           ['separable_conv_1_bn_reduction_r\n",
      "                                                                 ight3_stem_1[0][0]']             \n",
      "                                                                                                  \n",
      " activation_10 (Activation)     (None, 56, 56, 11)   0           ['separable_conv_1_bn_reduction_l\n",
      "                                                                 eft4_stem_1[0][0]']              \n",
      "                                                                                                  \n",
      " reduction_left2_stem_1 (MaxPoo  (None, 56, 56, 11)  0           ['reduction_pad_1_stem_1[0][0]'] \n",
      " ling2D)                                                                                          \n",
      "                                                                                                  \n",
      " separable_conv_2_bn_reduction_  (None, 56, 56, 11)  44          ['separable_conv_2_reduction_righ\n",
      " right2_stem_1 (BatchNormalizat                                  t2_stem_1[0][0]']                \n",
      " ion)                                                                                             \n",
      "                                                                                                  \n",
      " separable_conv_2_reduction_rig  (None, 56, 56, 11)  396         ['activation_8[0][0]']           \n",
      " ht3_stem_1 (SeparableConv2D)                                                                     \n",
      "                                                                                                  \n",
      " separable_conv_2_reduction_lef  (None, 56, 56, 11)  220         ['activation_10[0][0]']          \n",
      " t4_stem_1 (SeparableConv2D)                                                                      \n",
      "                                                                                                  \n",
      " adjust_relu_1_stem_2 (Activati  (None, 111, 111, 32  0          ['stem_bn1[0][0]']               \n",
      " on)                            )                                                                 \n",
      "                                                                                                  \n",
      " reduction_add_2_stem_1 (Add)   (None, 56, 56, 11)   0           ['reduction_left2_stem_1[0][0]', \n",
      "                                                                  'separable_conv_2_bn_reduction_r\n",
      "                                                                 ight2_stem_1[0][0]']             \n",
      "                                                                                                  \n",
      " reduction_left3_stem_1 (Averag  (None, 56, 56, 11)  0           ['reduction_pad_1_stem_1[0][0]'] \n",
      " ePooling2D)                                                                                      \n",
      "                                                                                                  \n",
      " separable_conv_2_bn_reduction_  (None, 56, 56, 11)  44          ['separable_conv_2_reduction_righ\n",
      " right3_stem_1 (BatchNormalizat                                  t3_stem_1[0][0]']                \n",
      " ion)                                                                                             \n",
      "                                                                                                  \n",
      " reduction_left4_stem_1 (Averag  (None, 56, 56, 11)  0           ['reduction_add_1_stem_1[0][0]'] \n",
      " ePooling2D)                                                                                      \n",
      "                                                                                                  \n",
      " separable_conv_2_bn_reduction_  (None, 56, 56, 11)  44          ['separable_conv_2_reduction_left\n",
      " left4_stem_1 (BatchNormalizati                                  4_stem_1[0][0]']                 \n",
      " on)                                                                                              \n",
      "                                                                                                  \n",
      " reduction_right5_stem_1 (MaxPo  (None, 56, 56, 11)  0           ['reduction_pad_1_stem_1[0][0]'] \n",
      " oling2D)                                                                                         \n",
      "                                                                                                  \n",
      " zero_padding2d (ZeroPadding2D)  (None, 112, 112, 32  0          ['adjust_relu_1_stem_2[0][0]']   \n",
      "                                )                                                                 \n",
      "                                                                                                  \n",
      " reduction_add3_stem_1 (Add)    (None, 56, 56, 11)   0           ['reduction_left3_stem_1[0][0]', \n",
      "                                                                  'separable_conv_2_bn_reduction_r\n",
      "                                                                 ight3_stem_1[0][0]']             \n",
      "                                                                                                  \n",
      " add (Add)                      (None, 56, 56, 11)   0           ['reduction_add_2_stem_1[0][0]', \n",
      "                                                                  'reduction_left4_stem_1[0][0]'] \n",
      "                                                                                                  \n",
      " reduction_add4_stem_1 (Add)    (None, 56, 56, 11)   0           ['separable_conv_2_bn_reduction_l\n",
      "                                                                 eft4_stem_1[0][0]',              \n",
      "                                                                  'reduction_right5_stem_1[0][0]']\n",
      "                                                                                                  \n",
      " cropping2d (Cropping2D)        (None, 111, 111, 32  0           ['zero_padding2d[0][0]']         \n",
      "                                )                                                                 \n",
      "                                                                                                  \n",
      " reduction_concat_stem_1 (Conca  (None, 56, 56, 44)  0           ['reduction_add_2_stem_1[0][0]', \n",
      " tenate)                                                          'reduction_add3_stem_1[0][0]',  \n",
      "                                                                  'add[0][0]',                    \n",
      "                                                                  'reduction_add4_stem_1[0][0]']  \n",
      "                                                                                                  \n",
      " adjust_avg_pool_1_stem_2 (Aver  (None, 56, 56, 32)  0           ['adjust_relu_1_stem_2[0][0]']   \n",
      " agePooling2D)                                                                                    \n",
      "                                                                                                  \n",
      " adjust_avg_pool_2_stem_2 (Aver  (None, 56, 56, 32)  0           ['cropping2d[0][0]']             \n",
      " agePooling2D)                                                                                    \n",
      "                                                                                                  \n",
      " activation_11 (Activation)     (None, 56, 56, 44)   0           ['reduction_concat_stem_1[0][0]']\n",
      "                                                                                                  \n",
      " adjust_conv_1_stem_2 (Conv2D)  (None, 56, 56, 11)   352         ['adjust_avg_pool_1_stem_2[0][0]'\n",
      "                                                                 ]                                \n",
      "                                                                                                  \n",
      " adjust_conv_2_stem_2 (Conv2D)  (None, 56, 56, 11)   352         ['adjust_avg_pool_2_stem_2[0][0]'\n",
      "                                                                 ]                                \n",
      "                                                                                                  \n",
      " reduction_conv_1_stem_2 (Conv2  (None, 56, 56, 22)  968         ['activation_11[0][0]']          \n",
      " D)                                                                                               \n",
      "                                                                                                  \n",
      " concatenate (Concatenate)      (None, 56, 56, 22)   0           ['adjust_conv_1_stem_2[0][0]',   \n",
      "                                                                  'adjust_conv_2_stem_2[0][0]']   \n",
      "                                                                                                  \n",
      " reduction_bn_1_stem_2 (BatchNo  (None, 56, 56, 22)  88          ['reduction_conv_1_stem_2[0][0]']\n",
      " rmalization)                                                                                     \n",
      "                                                                                                  \n",
      " adjust_bn_stem_2 (BatchNormali  (None, 56, 56, 22)  88          ['concatenate[0][0]']            \n",
      " zation)                                                                                          \n",
      "                                                                                                  \n",
      " activation_12 (Activation)     (None, 56, 56, 22)   0           ['reduction_bn_1_stem_2[0][0]']  \n",
      "                                                                                                  \n",
      " activation_14 (Activation)     (None, 56, 56, 22)   0           ['adjust_bn_stem_2[0][0]']       \n",
      "                                                                                                  \n",
      " separable_conv_1_pad_reduction  (None, 59, 59, 22)  0           ['activation_12[0][0]']          \n",
      " _left1_stem_2 (ZeroPadding2D)                                                                    \n",
      "                                                                                                  \n",
      " separable_conv_1_pad_reduction  (None, 61, 61, 22)  0           ['activation_14[0][0]']          \n",
      " _right1_stem_2 (ZeroPadding2D)                                                                   \n",
      "                                                                                                  \n",
      " separable_conv_1_reduction_lef  (None, 28, 28, 22)  1034        ['separable_conv_1_pad_reduction_\n",
      " t1_stem_2 (SeparableConv2D)                                     left1_stem_2[0][0]']             \n",
      "                                                                                                  \n",
      " separable_conv_1_reduction_rig  (None, 28, 28, 22)  1562        ['separable_conv_1_pad_reduction_\n",
      " ht1_stem_2 (SeparableConv2D)                                    right1_stem_2[0][0]']            \n",
      "                                                                                                  \n",
      " separable_conv_1_bn_reduction_  (None, 28, 28, 22)  88          ['separable_conv_1_reduction_left\n",
      " left1_stem_2 (BatchNormalizati                                  1_stem_2[0][0]']                 \n",
      " on)                                                                                              \n",
      "                                                                                                  \n",
      " separable_conv_1_bn_reduction_  (None, 28, 28, 22)  88          ['separable_conv_1_reduction_righ\n",
      " right1_stem_2 (BatchNormalizat                                  t1_stem_2[0][0]']                \n",
      " ion)                                                                                             \n",
      "                                                                                                  \n",
      " activation_13 (Activation)     (None, 28, 28, 22)   0           ['separable_conv_1_bn_reduction_l\n",
      "                                                                 eft1_stem_2[0][0]']              \n",
      "                                                                                                  \n",
      " activation_15 (Activation)     (None, 28, 28, 22)   0           ['separable_conv_1_bn_reduction_r\n",
      "                                                                 ight1_stem_2[0][0]']             \n",
      "                                                                                                  \n",
      " separable_conv_2_reduction_lef  (None, 28, 28, 22)  1034        ['activation_13[0][0]']          \n",
      " t1_stem_2 (SeparableConv2D)                                                                      \n",
      "                                                                                                  \n",
      " separable_conv_2_reduction_rig  (None, 28, 28, 22)  1562        ['activation_15[0][0]']          \n",
      " ht1_stem_2 (SeparableConv2D)                                                                     \n",
      "                                                                                                  \n",
      " activation_16 (Activation)     (None, 56, 56, 22)   0           ['adjust_bn_stem_2[0][0]']       \n",
      "                                                                                                  \n",
      " separable_conv_2_bn_reduction_  (None, 28, 28, 22)  88          ['separable_conv_2_reduction_left\n",
      " left1_stem_2 (BatchNormalizati                                  1_stem_2[0][0]']                 \n",
      " on)                                                                                              \n"
     ]
    },
    {
     "name": "stderr",
     "output_type": "stream",
     "text": [
      "c:\\Users\\212733771\\AppData\\Local\\anaconda3\\lib\\site-packages\\keras\\optimizers\\optimizer_v2\\adam.py:114: UserWarning: The `lr` argument is deprecated, use `learning_rate` instead.\n",
      "  super().__init__(name, **kwargs)\n"
     ]
    },
    {
     "name": "stdout",
     "output_type": "stream",
     "text": [
      "                                                                                                  \n",
      " separable_conv_2_bn_reduction_  (None, 28, 28, 22)  88          ['separable_conv_2_reduction_righ\n",
      " right1_stem_2 (BatchNormalizat                                  t1_stem_2[0][0]']                \n",
      " ion)                                                                                             \n",
      "                                                                                                  \n",
      " separable_conv_1_pad_reduction  (None, 61, 61, 22)  0           ['activation_16[0][0]']          \n",
      " _right2_stem_2 (ZeroPadding2D)                                                                   \n",
      "                                                                                                  \n",
      " activation_18 (Activation)     (None, 56, 56, 22)   0           ['adjust_bn_stem_2[0][0]']       \n",
      "                                                                                                  \n",
      " reduction_add_1_stem_2 (Add)   (None, 28, 28, 22)   0           ['separable_conv_2_bn_reduction_l\n",
      "                                                                 eft1_stem_2[0][0]',              \n",
      "                                                                  'separable_conv_2_bn_reduction_r\n",
      "                                                                 ight1_stem_2[0][0]']             \n",
      "                                                                                                  \n",
      " separable_conv_1_reduction_rig  (None, 28, 28, 22)  1562        ['separable_conv_1_pad_reduction_\n",
      " ht2_stem_2 (SeparableConv2D)                                    right2_stem_2[0][0]']            \n",
      "                                                                                                  \n",
      " separable_conv_1_pad_reduction  (None, 59, 59, 22)  0           ['activation_18[0][0]']          \n",
      " _right3_stem_2 (ZeroPadding2D)                                                                   \n",
      "                                                                                                  \n",
      " activation_20 (Activation)     (None, 28, 28, 22)   0           ['reduction_add_1_stem_2[0][0]'] \n",
      "                                                                                                  \n",
      " separable_conv_1_bn_reduction_  (None, 28, 28, 22)  88          ['separable_conv_1_reduction_righ\n",
      " right2_stem_2 (BatchNormalizat                                  t2_stem_2[0][0]']                \n",
      " ion)                                                                                             \n",
      "                                                                                                  \n",
      " separable_conv_1_reduction_rig  (None, 28, 28, 22)  1034        ['separable_conv_1_pad_reduction_\n",
      " ht3_stem_2 (SeparableConv2D)                                    right3_stem_2[0][0]']            \n",
      "                                                                                                  \n",
      " separable_conv_1_reduction_lef  (None, 28, 28, 22)  682         ['activation_20[0][0]']          \n",
      " t4_stem_2 (SeparableConv2D)                                                                      \n",
      "                                                                                                  \n",
      " activation_17 (Activation)     (None, 28, 28, 22)   0           ['separable_conv_1_bn_reduction_r\n",
      "                                                                 ight2_stem_2[0][0]']             \n",
      "                                                                                                  \n",
      " separable_conv_1_bn_reduction_  (None, 28, 28, 22)  88          ['separable_conv_1_reduction_righ\n",
      " right3_stem_2 (BatchNormalizat                                  t3_stem_2[0][0]']                \n",
      " ion)                                                                                             \n",
      "                                                                                                  \n",
      " separable_conv_1_bn_reduction_  (None, 28, 28, 22)  88          ['separable_conv_1_reduction_left\n",
      " left4_stem_2 (BatchNormalizati                                  4_stem_2[0][0]']                 \n",
      " on)                                                                                              \n",
      "                                                                                                  \n",
      " reduction_pad_1_stem_2 (ZeroPa  (None, 57, 57, 22)  0           ['reduction_bn_1_stem_2[0][0]']  \n",
      " dding2D)                                                                                         \n",
      "                                                                                                  \n",
      " separable_conv_2_reduction_rig  (None, 28, 28, 22)  1562        ['activation_17[0][0]']          \n",
      " ht2_stem_2 (SeparableConv2D)                                                                     \n",
      "                                                                                                  \n",
      " activation_19 (Activation)     (None, 28, 28, 22)   0           ['separable_conv_1_bn_reduction_r\n",
      "                                                                 ight3_stem_2[0][0]']             \n",
      "                                                                                                  \n",
      " activation_21 (Activation)     (None, 28, 28, 22)   0           ['separable_conv_1_bn_reduction_l\n",
      "                                                                 eft4_stem_2[0][0]']              \n",
      "                                                                                                  \n",
      " reduction_left2_stem_2 (MaxPoo  (None, 28, 28, 22)  0           ['reduction_pad_1_stem_2[0][0]'] \n",
      " ling2D)                                                                                          \n",
      "                                                                                                  \n",
      " separable_conv_2_bn_reduction_  (None, 28, 28, 22)  88          ['separable_conv_2_reduction_righ\n",
      " right2_stem_2 (BatchNormalizat                                  t2_stem_2[0][0]']                \n",
      " ion)                                                                                             \n",
      "                                                                                                  \n",
      " separable_conv_2_reduction_rig  (None, 28, 28, 22)  1034        ['activation_19[0][0]']          \n",
      " ht3_stem_2 (SeparableConv2D)                                                                     \n",
      "                                                                                                  \n",
      " separable_conv_2_reduction_lef  (None, 28, 28, 22)  682         ['activation_21[0][0]']          \n",
      " t4_stem_2 (SeparableConv2D)                                                                      \n",
      "                                                                                                  \n",
      " adjust_relu_1_0 (Activation)   (None, 56, 56, 44)   0           ['reduction_concat_stem_1[0][0]']\n",
      "                                                                                                  \n",
      " reduction_add_2_stem_2 (Add)   (None, 28, 28, 22)   0           ['reduction_left2_stem_2[0][0]', \n",
      "                                                                  'separable_conv_2_bn_reduction_r\n",
      "                                                                 ight2_stem_2[0][0]']             \n",
      "                                                                                                  \n",
      " reduction_left3_stem_2 (Averag  (None, 28, 28, 22)  0           ['reduction_pad_1_stem_2[0][0]'] \n",
      " ePooling2D)                                                                                      \n",
      "                                                                                                  \n",
      " separable_conv_2_bn_reduction_  (None, 28, 28, 22)  88          ['separable_conv_2_reduction_righ\n",
      " right3_stem_2 (BatchNormalizat                                  t3_stem_2[0][0]']                \n",
      " ion)                                                                                             \n",
      "                                                                                                  \n",
      " reduction_left4_stem_2 (Averag  (None, 28, 28, 22)  0           ['reduction_add_1_stem_2[0][0]'] \n",
      " ePooling2D)                                                                                      \n",
      "                                                                                                  \n",
      " separable_conv_2_bn_reduction_  (None, 28, 28, 22)  88          ['separable_conv_2_reduction_left\n",
      " left4_stem_2 (BatchNormalizati                                  4_stem_2[0][0]']                 \n",
      " on)                                                                                              \n",
      "                                                                                                  \n",
      " reduction_right5_stem_2 (MaxPo  (None, 28, 28, 22)  0           ['reduction_pad_1_stem_2[0][0]'] \n",
      " oling2D)                                                                                         \n",
      "                                                                                                  \n",
      " zero_padding2d_1 (ZeroPadding2  (None, 57, 57, 44)  0           ['adjust_relu_1_0[0][0]']        \n",
      " D)                                                                                               \n",
      "                                                                                                  \n",
      " reduction_add3_stem_2 (Add)    (None, 28, 28, 22)   0           ['reduction_left3_stem_2[0][0]', \n",
      "                                                                  'separable_conv_2_bn_reduction_r\n",
      "                                                                 ight3_stem_2[0][0]']             \n",
      "                                                                                                  \n",
      " add_1 (Add)                    (None, 28, 28, 22)   0           ['reduction_add_2_stem_2[0][0]', \n",
      "                                                                  'reduction_left4_stem_2[0][0]'] \n",
      "                                                                                                  \n",
      " reduction_add4_stem_2 (Add)    (None, 28, 28, 22)   0           ['separable_conv_2_bn_reduction_l\n",
      "                                                                 eft4_stem_2[0][0]',              \n",
      "                                                                  'reduction_right5_stem_2[0][0]']\n",
      "                                                                                                  \n",
      " cropping2d_1 (Cropping2D)      (None, 56, 56, 44)   0           ['zero_padding2d_1[0][0]']       \n",
      "                                                                                                  \n",
      " reduction_concat_stem_2 (Conca  (None, 28, 28, 88)  0           ['reduction_add_2_stem_2[0][0]', \n",
      " tenate)                                                          'reduction_add3_stem_2[0][0]',  \n",
      "                                                                  'add_1[0][0]',                  \n",
      "                                                                  'reduction_add4_stem_2[0][0]']  \n",
      "                                                                                                  \n",
      " adjust_avg_pool_1_0 (AveragePo  (None, 28, 28, 44)  0           ['adjust_relu_1_0[0][0]']        \n",
      " oling2D)                                                                                         \n",
      "                                                                                                  \n",
      " adjust_avg_pool_2_0 (AveragePo  (None, 28, 28, 44)  0           ['cropping2d_1[0][0]']           \n",
      " oling2D)                                                                                         \n",
      "                                                                                                  \n",
      " adjust_conv_1_0 (Conv2D)       (None, 28, 28, 22)   968         ['adjust_avg_pool_1_0[0][0]']    \n",
      "                                                                                                  \n",
      " adjust_conv_2_0 (Conv2D)       (None, 28, 28, 22)   968         ['adjust_avg_pool_2_0[0][0]']    \n",
      "                                                                                                  \n",
      " activation_22 (Activation)     (None, 28, 28, 88)   0           ['reduction_concat_stem_2[0][0]']\n",
      "                                                                                                  \n",
      " concatenate_1 (Concatenate)    (None, 28, 28, 44)   0           ['adjust_conv_1_0[0][0]',        \n",
      "                                                                  'adjust_conv_2_0[0][0]']        \n",
      "                                                                                                  \n",
      " normal_conv_1_0 (Conv2D)       (None, 28, 28, 44)   3872        ['activation_22[0][0]']          \n",
      "                                                                                                  \n",
      " adjust_bn_0 (BatchNormalizatio  (None, 28, 28, 44)  176         ['concatenate_1[0][0]']          \n",
      " n)                                                                                               \n",
      "                                                                                                  \n",
      " normal_bn_1_0 (BatchNormalizat  (None, 28, 28, 44)  176         ['normal_conv_1_0[0][0]']        \n",
      " ion)                                                                                             \n",
      "                                                                                                  \n",
      " activation_23 (Activation)     (None, 28, 28, 44)   0           ['normal_bn_1_0[0][0]']          \n",
      "                                                                                                  \n",
      " activation_25 (Activation)     (None, 28, 28, 44)   0           ['adjust_bn_0[0][0]']            \n",
      "                                                                                                  \n",
      " activation_27 (Activation)     (None, 28, 28, 44)   0           ['adjust_bn_0[0][0]']            \n",
      "                                                                                                  \n",
      " activation_29 (Activation)     (None, 28, 28, 44)   0           ['adjust_bn_0[0][0]']            \n",
      "                                                                                                  \n",
      " activation_31 (Activation)     (None, 28, 28, 44)   0           ['normal_bn_1_0[0][0]']          \n",
      "                                                                                                  \n",
      " separable_conv_1_normal_left1_  (None, 28, 28, 44)  3036        ['activation_23[0][0]']          \n",
      " 0 (SeparableConv2D)                                                                              \n",
      "                                                                                                  \n",
      " separable_conv_1_normal_right1  (None, 28, 28, 44)  2332        ['activation_25[0][0]']          \n",
      " _0 (SeparableConv2D)                                                                             \n",
      "                                                                                                  \n",
      " separable_conv_1_normal_left2_  (None, 28, 28, 44)  3036        ['activation_27[0][0]']          \n",
      " 0 (SeparableConv2D)                                                                              \n",
      "                                                                                                  \n",
      " separable_conv_1_normal_right2  (None, 28, 28, 44)  2332        ['activation_29[0][0]']          \n",
      " _0 (SeparableConv2D)                                                                             \n",
      "                                                                                                  \n",
      " separable_conv_1_normal_left5_  (None, 28, 28, 44)  2332        ['activation_31[0][0]']          \n",
      " 0 (SeparableConv2D)                                                                              \n",
      "                                                                                                  \n",
      " separable_conv_1_bn_normal_lef  (None, 28, 28, 44)  176         ['separable_conv_1_normal_left1_0\n",
      " t1_0 (BatchNormalization)                                       [0][0]']                         \n",
      "                                                                                                  \n",
      " separable_conv_1_bn_normal_rig  (None, 28, 28, 44)  176         ['separable_conv_1_normal_right1_\n",
      " ht1_0 (BatchNormalization)                                      0[0][0]']                        \n",
      "                                                                                                  \n",
      " separable_conv_1_bn_normal_lef  (None, 28, 28, 44)  176         ['separable_conv_1_normal_left2_0\n",
      " t2_0 (BatchNormalization)                                       [0][0]']                         \n",
      "                                                                                                  \n",
      " separable_conv_1_bn_normal_rig  (None, 28, 28, 44)  176         ['separable_conv_1_normal_right2_\n",
      " ht2_0 (BatchNormalization)                                      0[0][0]']                        \n",
      "                                                                                                  \n",
      " separable_conv_1_bn_normal_lef  (None, 28, 28, 44)  176         ['separable_conv_1_normal_left5_0\n",
      " t5_0 (BatchNormalization)                                       [0][0]']                         \n",
      "                                                                                                  \n",
      " activation_24 (Activation)     (None, 28, 28, 44)   0           ['separable_conv_1_bn_normal_left\n",
      "                                                                 1_0[0][0]']                      \n",
      "                                                                                                  \n",
      " activation_26 (Activation)     (None, 28, 28, 44)   0           ['separable_conv_1_bn_normal_righ\n",
      "                                                                 t1_0[0][0]']                     \n",
      "                                                                                                  \n",
      " activation_28 (Activation)     (None, 28, 28, 44)   0           ['separable_conv_1_bn_normal_left\n",
      "                                                                 2_0[0][0]']                      \n",
      "                                                                                                  \n",
      " activation_30 (Activation)     (None, 28, 28, 44)   0           ['separable_conv_1_bn_normal_righ\n",
      "                                                                 t2_0[0][0]']                     \n",
      "                                                                                                  \n",
      " activation_32 (Activation)     (None, 28, 28, 44)   0           ['separable_conv_1_bn_normal_left\n",
      "                                                                 5_0[0][0]']                      \n",
      "                                                                                                  \n",
      " separable_conv_2_normal_left1_  (None, 28, 28, 44)  3036        ['activation_24[0][0]']          \n",
      " 0 (SeparableConv2D)                                                                              \n",
      "                                                                                                  \n",
      " separable_conv_2_normal_right1  (None, 28, 28, 44)  2332        ['activation_26[0][0]']          \n",
      " _0 (SeparableConv2D)                                                                             \n",
      "                                                                                                  \n",
      " separable_conv_2_normal_left2_  (None, 28, 28, 44)  3036        ['activation_28[0][0]']          \n",
      " 0 (SeparableConv2D)                                                                              \n",
      "                                                                                                  \n",
      " separable_conv_2_normal_right2  (None, 28, 28, 44)  2332        ['activation_30[0][0]']          \n",
      " _0 (SeparableConv2D)                                                                             \n",
      "                                                                                                  \n",
      " separable_conv_2_normal_left5_  (None, 28, 28, 44)  2332        ['activation_32[0][0]']          \n",
      " 0 (SeparableConv2D)                                                                              \n",
      "                                                                                                  \n",
      " separable_conv_2_bn_normal_lef  (None, 28, 28, 44)  176         ['separable_conv_2_normal_left1_0\n",
      " t1_0 (BatchNormalization)                                       [0][0]']                         \n",
      "                                                                                                  \n",
      " separable_conv_2_bn_normal_rig  (None, 28, 28, 44)  176         ['separable_conv_2_normal_right1_\n",
      " ht1_0 (BatchNormalization)                                      0[0][0]']                        \n",
      "                                                                                                  \n",
      " separable_conv_2_bn_normal_lef  (None, 28, 28, 44)  176         ['separable_conv_2_normal_left2_0\n",
      " t2_0 (BatchNormalization)                                       [0][0]']                         \n",
      "                                                                                                  \n",
      " separable_conv_2_bn_normal_rig  (None, 28, 28, 44)  176         ['separable_conv_2_normal_right2_\n",
      " ht2_0 (BatchNormalization)                                      0[0][0]']                        \n",
      "                                                                                                  \n",
      " normal_left3_0 (AveragePooling  (None, 28, 28, 44)  0           ['normal_bn_1_0[0][0]']          \n",
      " 2D)                                                                                              \n",
      "                                                                                                  \n",
      " normal_left4_0 (AveragePooling  (None, 28, 28, 44)  0           ['adjust_bn_0[0][0]']            \n",
      " 2D)                                                                                              \n",
      "                                                                                                  \n",
      " normal_right4_0 (AveragePoolin  (None, 28, 28, 44)  0           ['adjust_bn_0[0][0]']            \n",
      " g2D)                                                                                             \n",
      "                                                                                                  \n",
      " separable_conv_2_bn_normal_lef  (None, 28, 28, 44)  176         ['separable_conv_2_normal_left5_0\n",
      " t5_0 (BatchNormalization)                                       [0][0]']                         \n",
      "                                                                                                  \n",
      " normal_add_1_0 (Add)           (None, 28, 28, 44)   0           ['separable_conv_2_bn_normal_left\n",
      "                                                                 1_0[0][0]',                      \n",
      "                                                                  'separable_conv_2_bn_normal_righ\n",
      "                                                                 t1_0[0][0]']                     \n",
      "                                                                                                  \n",
      " normal_add_2_0 (Add)           (None, 28, 28, 44)   0           ['separable_conv_2_bn_normal_left\n",
      "                                                                 2_0[0][0]',                      \n",
      "                                                                  'separable_conv_2_bn_normal_righ\n",
      "                                                                 t2_0[0][0]']                     \n",
      "                                                                                                  \n",
      " normal_add_3_0 (Add)           (None, 28, 28, 44)   0           ['normal_left3_0[0][0]',         \n",
      "                                                                  'adjust_bn_0[0][0]']            \n",
      "                                                                                                  \n",
      " normal_add_4_0 (Add)           (None, 28, 28, 44)   0           ['normal_left4_0[0][0]',         \n",
      "                                                                  'normal_right4_0[0][0]']        \n",
      "                                                                                                  \n",
      " normal_add_5_0 (Add)           (None, 28, 28, 44)   0           ['separable_conv_2_bn_normal_left\n",
      "                                                                 5_0[0][0]',                      \n",
      "                                                                  'normal_bn_1_0[0][0]']          \n",
      "                                                                                                  \n",
      " normal_concat_0 (Concatenate)  (None, 28, 28, 264)  0           ['adjust_bn_0[0][0]',            \n",
      "                                                                  'normal_add_1_0[0][0]',         \n",
      "                                                                  'normal_add_2_0[0][0]',         \n",
      "                                                                  'normal_add_3_0[0][0]',         \n",
      "                                                                  'normal_add_4_0[0][0]',         \n",
      "                                                                  'normal_add_5_0[0][0]']         \n",
      "                                                                                                  \n",
      " activation_33 (Activation)     (None, 28, 28, 88)   0           ['reduction_concat_stem_2[0][0]']\n",
      "                                                                                                  \n",
      " activation_34 (Activation)     (None, 28, 28, 264)  0           ['normal_concat_0[0][0]']        \n",
      "                                                                                                  \n",
      " adjust_conv_projection_1 (Conv  (None, 28, 28, 44)  3872        ['activation_33[0][0]']          \n",
      " 2D)                                                                                              \n",
      "                                                                                                  \n",
      " normal_conv_1_1 (Conv2D)       (None, 28, 28, 44)   11616       ['activation_34[0][0]']          \n",
      "                                                                                                  \n",
      " adjust_bn_1 (BatchNormalizatio  (None, 28, 28, 44)  176         ['adjust_conv_projection_1[0][0]'\n",
      " n)                                                              ]                                \n",
      "                                                                                                  \n",
      " normal_bn_1_1 (BatchNormalizat  (None, 28, 28, 44)  176         ['normal_conv_1_1[0][0]']        \n",
      " ion)                                                                                             \n",
      "                                                                                                  \n",
      " activation_35 (Activation)     (None, 28, 28, 44)   0           ['normal_bn_1_1[0][0]']          \n",
      "                                                                                                  \n",
      " activation_37 (Activation)     (None, 28, 28, 44)   0           ['adjust_bn_1[0][0]']            \n",
      "                                                                                                  \n",
      " activation_39 (Activation)     (None, 28, 28, 44)   0           ['adjust_bn_1[0][0]']            \n",
      "                                                                                                  \n",
      " activation_41 (Activation)     (None, 28, 28, 44)   0           ['adjust_bn_1[0][0]']            \n",
      "                                                                                                  \n",
      " activation_43 (Activation)     (None, 28, 28, 44)   0           ['normal_bn_1_1[0][0]']          \n",
      "                                                                                                  \n",
      " separable_conv_1_normal_left1_  (None, 28, 28, 44)  3036        ['activation_35[0][0]']          \n",
      " 1 (SeparableConv2D)                                                                              \n",
      "                                                                                                  \n",
      " separable_conv_1_normal_right1  (None, 28, 28, 44)  2332        ['activation_37[0][0]']          \n",
      " _1 (SeparableConv2D)                                                                             \n",
      "                                                                                                  \n",
      " separable_conv_1_normal_left2_  (None, 28, 28, 44)  3036        ['activation_39[0][0]']          \n",
      " 1 (SeparableConv2D)                                                                              \n",
      "                                                                                                  \n",
      " separable_conv_1_normal_right2  (None, 28, 28, 44)  2332        ['activation_41[0][0]']          \n",
      " _1 (SeparableConv2D)                                                                             \n",
      "                                                                                                  \n",
      " separable_conv_1_normal_left5_  (None, 28, 28, 44)  2332        ['activation_43[0][0]']          \n",
      " 1 (SeparableConv2D)                                                                              \n",
      "                                                                                                  \n",
      " separable_conv_1_bn_normal_lef  (None, 28, 28, 44)  176         ['separable_conv_1_normal_left1_1\n",
      " t1_1 (BatchNormalization)                                       [0][0]']                         \n",
      "                                                                                                  \n",
      " separable_conv_1_bn_normal_rig  (None, 28, 28, 44)  176         ['separable_conv_1_normal_right1_\n",
      " ht1_1 (BatchNormalization)                                      1[0][0]']                        \n",
      "                                                                                                  \n",
      " separable_conv_1_bn_normal_lef  (None, 28, 28, 44)  176         ['separable_conv_1_normal_left2_1\n",
      " t2_1 (BatchNormalization)                                       [0][0]']                         \n",
      "                                                                                                  \n",
      " separable_conv_1_bn_normal_rig  (None, 28, 28, 44)  176         ['separable_conv_1_normal_right2_\n",
      " ht2_1 (BatchNormalization)                                      1[0][0]']                        \n",
      "                                                                                                  \n",
      " separable_conv_1_bn_normal_lef  (None, 28, 28, 44)  176         ['separable_conv_1_normal_left5_1\n",
      " t5_1 (BatchNormalization)                                       [0][0]']                         \n",
      "                                                                                                  \n",
      " activation_36 (Activation)     (None, 28, 28, 44)   0           ['separable_conv_1_bn_normal_left\n",
      "                                                                 1_1[0][0]']                      \n",
      "                                                                                                  \n",
      " activation_38 (Activation)     (None, 28, 28, 44)   0           ['separable_conv_1_bn_normal_righ\n",
      "                                                                 t1_1[0][0]']                     \n",
      "                                                                                                  \n",
      " activation_40 (Activation)     (None, 28, 28, 44)   0           ['separable_conv_1_bn_normal_left\n",
      "                                                                 2_1[0][0]']                      \n",
      "                                                                                                  \n",
      " activation_42 (Activation)     (None, 28, 28, 44)   0           ['separable_conv_1_bn_normal_righ\n",
      "                                                                 t2_1[0][0]']                     \n",
      "                                                                                                  \n",
      " activation_44 (Activation)     (None, 28, 28, 44)   0           ['separable_conv_1_bn_normal_left\n",
      "                                                                 5_1[0][0]']                      \n",
      "                                                                                                  \n",
      " separable_conv_2_normal_left1_  (None, 28, 28, 44)  3036        ['activation_36[0][0]']          \n",
      " 1 (SeparableConv2D)                                                                              \n",
      "                                                                                                  \n",
      " separable_conv_2_normal_right1  (None, 28, 28, 44)  2332        ['activation_38[0][0]']          \n",
      " _1 (SeparableConv2D)                                                                             \n",
      "                                                                                                  \n",
      " separable_conv_2_normal_left2_  (None, 28, 28, 44)  3036        ['activation_40[0][0]']          \n",
      " 1 (SeparableConv2D)                                                                              \n",
      "                                                                                                  \n",
      " separable_conv_2_normal_right2  (None, 28, 28, 44)  2332        ['activation_42[0][0]']          \n",
      " _1 (SeparableConv2D)                                                                             \n",
      "                                                                                                  \n",
      " separable_conv_2_normal_left5_  (None, 28, 28, 44)  2332        ['activation_44[0][0]']          \n",
      " 1 (SeparableConv2D)                                                                              \n",
      "                                                                                                  \n",
      " separable_conv_2_bn_normal_lef  (None, 28, 28, 44)  176         ['separable_conv_2_normal_left1_1\n",
      " t1_1 (BatchNormalization)                                       [0][0]']                         \n",
      "                                                                                                  \n",
      " separable_conv_2_bn_normal_rig  (None, 28, 28, 44)  176         ['separable_conv_2_normal_right1_\n",
      " ht1_1 (BatchNormalization)                                      1[0][0]']                        \n",
      "                                                                                                  \n",
      " separable_conv_2_bn_normal_lef  (None, 28, 28, 44)  176         ['separable_conv_2_normal_left2_1\n",
      " t2_1 (BatchNormalization)                                       [0][0]']                         \n",
      "                                                                                                  \n",
      " separable_conv_2_bn_normal_rig  (None, 28, 28, 44)  176         ['separable_conv_2_normal_right2_\n",
      " ht2_1 (BatchNormalization)                                      1[0][0]']                        \n",
      "                                                                                                  \n",
      " normal_left3_1 (AveragePooling  (None, 28, 28, 44)  0           ['normal_bn_1_1[0][0]']          \n",
      " 2D)                                                                                              \n",
      "                                                                                                  \n",
      " normal_left4_1 (AveragePooling  (None, 28, 28, 44)  0           ['adjust_bn_1[0][0]']            \n",
      " 2D)                                                                                              \n",
      "                                                                                                  \n",
      " normal_right4_1 (AveragePoolin  (None, 28, 28, 44)  0           ['adjust_bn_1[0][0]']            \n",
      " g2D)                                                                                             \n",
      "                                                                                                  \n",
      " separable_conv_2_bn_normal_lef  (None, 28, 28, 44)  176         ['separable_conv_2_normal_left5_1\n",
      " t5_1 (BatchNormalization)                                       [0][0]']                         \n",
      "                                                                                                  \n",
      " normal_add_1_1 (Add)           (None, 28, 28, 44)   0           ['separable_conv_2_bn_normal_left\n",
      "                                                                 1_1[0][0]',                      \n",
      "                                                                  'separable_conv_2_bn_normal_righ\n",
      "                                                                 t1_1[0][0]']                     \n",
      "                                                                                                  \n",
      " normal_add_2_1 (Add)           (None, 28, 28, 44)   0           ['separable_conv_2_bn_normal_left\n",
      "                                                                 2_1[0][0]',                      \n",
      "                                                                  'separable_conv_2_bn_normal_righ\n",
      "                                                                 t2_1[0][0]']                     \n",
      "                                                                                                  \n",
      " normal_add_3_1 (Add)           (None, 28, 28, 44)   0           ['normal_left3_1[0][0]',         \n",
      "                                                                  'adjust_bn_1[0][0]']            \n",
      "                                                                                                  \n",
      " normal_add_4_1 (Add)           (None, 28, 28, 44)   0           ['normal_left4_1[0][0]',         \n",
      "                                                                  'normal_right4_1[0][0]']        \n",
      "                                                                                                  \n",
      " normal_add_5_1 (Add)           (None, 28, 28, 44)   0           ['separable_conv_2_bn_normal_left\n",
      "                                                                 5_1[0][0]',                      \n",
      "                                                                  'normal_bn_1_1[0][0]']          \n",
      "                                                                                                  \n",
      " normal_concat_1 (Concatenate)  (None, 28, 28, 264)  0           ['adjust_bn_1[0][0]',            \n",
      "                                                                  'normal_add_1_1[0][0]',         \n",
      "                                                                  'normal_add_2_1[0][0]',         \n",
      "                                                                  'normal_add_3_1[0][0]',         \n",
      "                                                                  'normal_add_4_1[0][0]',         \n",
      "                                                                  'normal_add_5_1[0][0]']         \n",
      "                                                                                                  \n",
      " activation_45 (Activation)     (None, 28, 28, 264)  0           ['normal_concat_0[0][0]']        \n",
      "                                                                                                  \n",
      " activation_46 (Activation)     (None, 28, 28, 264)  0           ['normal_concat_1[0][0]']        \n",
      "                                                                                                  \n",
      " adjust_conv_projection_2 (Conv  (None, 28, 28, 44)  11616       ['activation_45[0][0]']          \n",
      " 2D)                                                                                              \n",
      "                                                                                                  \n",
      " normal_conv_1_2 (Conv2D)       (None, 28, 28, 44)   11616       ['activation_46[0][0]']          \n",
      "                                                                                                  \n",
      " adjust_bn_2 (BatchNormalizatio  (None, 28, 28, 44)  176         ['adjust_conv_projection_2[0][0]'\n",
      " n)                                                              ]                                \n",
      "                                                                                                  \n",
      " normal_bn_1_2 (BatchNormalizat  (None, 28, 28, 44)  176         ['normal_conv_1_2[0][0]']        \n",
      " ion)                                                                                             \n",
      "                                                                                                  \n",
      " activation_47 (Activation)     (None, 28, 28, 44)   0           ['normal_bn_1_2[0][0]']          \n",
      "                                                                                                  \n",
      " activation_49 (Activation)     (None, 28, 28, 44)   0           ['adjust_bn_2[0][0]']            \n",
      "                                                                                                  \n",
      " activation_51 (Activation)     (None, 28, 28, 44)   0           ['adjust_bn_2[0][0]']            \n",
      "                                                                                                  \n",
      " activation_53 (Activation)     (None, 28, 28, 44)   0           ['adjust_bn_2[0][0]']            \n",
      "                                                                                                  \n",
      " activation_55 (Activation)     (None, 28, 28, 44)   0           ['normal_bn_1_2[0][0]']          \n",
      "                                                                                                  \n",
      " separable_conv_1_normal_left1_  (None, 28, 28, 44)  3036        ['activation_47[0][0]']          \n",
      " 2 (SeparableConv2D)                                                                              \n",
      "                                                                                                  \n",
      " separable_conv_1_normal_right1  (None, 28, 28, 44)  2332        ['activation_49[0][0]']          \n",
      " _2 (SeparableConv2D)                                                                             \n",
      "                                                                                                  \n",
      " separable_conv_1_normal_left2_  (None, 28, 28, 44)  3036        ['activation_51[0][0]']          \n",
      " 2 (SeparableConv2D)                                                                              \n",
      "                                                                                                  \n",
      " separable_conv_1_normal_right2  (None, 28, 28, 44)  2332        ['activation_53[0][0]']          \n",
      " _2 (SeparableConv2D)                                                                             \n",
      "                                                                                                  \n",
      " separable_conv_1_normal_left5_  (None, 28, 28, 44)  2332        ['activation_55[0][0]']          \n",
      " 2 (SeparableConv2D)                                                                              \n",
      "                                                                                                  \n",
      " separable_conv_1_bn_normal_lef  (None, 28, 28, 44)  176         ['separable_conv_1_normal_left1_2\n",
      " t1_2 (BatchNormalization)                                       [0][0]']                         \n",
      "                                                                                                  \n",
      " separable_conv_1_bn_normal_rig  (None, 28, 28, 44)  176         ['separable_conv_1_normal_right1_\n",
      " ht1_2 (BatchNormalization)                                      2[0][0]']                        \n",
      "                                                                                                  \n",
      " separable_conv_1_bn_normal_lef  (None, 28, 28, 44)  176         ['separable_conv_1_normal_left2_2\n",
      " t2_2 (BatchNormalization)                                       [0][0]']                         \n",
      "                                                                                                  \n",
      " separable_conv_1_bn_normal_rig  (None, 28, 28, 44)  176         ['separable_conv_1_normal_right2_\n",
      " ht2_2 (BatchNormalization)                                      2[0][0]']                        \n",
      "                                                                                                  \n",
      " separable_conv_1_bn_normal_lef  (None, 28, 28, 44)  176         ['separable_conv_1_normal_left5_2\n",
      " t5_2 (BatchNormalization)                                       [0][0]']                         \n",
      "                                                                                                  \n",
      " activation_48 (Activation)     (None, 28, 28, 44)   0           ['separable_conv_1_bn_normal_left\n",
      "                                                                 1_2[0][0]']                      \n",
      "                                                                                                  \n",
      " activation_50 (Activation)     (None, 28, 28, 44)   0           ['separable_conv_1_bn_normal_righ\n",
      "                                                                 t1_2[0][0]']                     \n",
      "                                                                                                  \n",
      " activation_52 (Activation)     (None, 28, 28, 44)   0           ['separable_conv_1_bn_normal_left\n",
      "                                                                 2_2[0][0]']                      \n",
      "                                                                                                  \n",
      " activation_54 (Activation)     (None, 28, 28, 44)   0           ['separable_conv_1_bn_normal_righ\n",
      "                                                                 t2_2[0][0]']                     \n",
      "                                                                                                  \n",
      " activation_56 (Activation)     (None, 28, 28, 44)   0           ['separable_conv_1_bn_normal_left\n",
      "                                                                 5_2[0][0]']                      \n",
      "                                                                                                  \n",
      " separable_conv_2_normal_left1_  (None, 28, 28, 44)  3036        ['activation_48[0][0]']          \n",
      " 2 (SeparableConv2D)                                                                              \n",
      "                                                                                                  \n",
      " separable_conv_2_normal_right1  (None, 28, 28, 44)  2332        ['activation_50[0][0]']          \n",
      " _2 (SeparableConv2D)                                                                             \n",
      "                                                                                                  \n",
      " separable_conv_2_normal_left2_  (None, 28, 28, 44)  3036        ['activation_52[0][0]']          \n",
      " 2 (SeparableConv2D)                                                                              \n",
      "                                                                                                  \n",
      " separable_conv_2_normal_right2  (None, 28, 28, 44)  2332        ['activation_54[0][0]']          \n",
      " _2 (SeparableConv2D)                                                                             \n",
      "                                                                                                  \n",
      " separable_conv_2_normal_left5_  (None, 28, 28, 44)  2332        ['activation_56[0][0]']          \n",
      " 2 (SeparableConv2D)                                                                              \n",
      "                                                                                                  \n",
      " separable_conv_2_bn_normal_lef  (None, 28, 28, 44)  176         ['separable_conv_2_normal_left1_2\n",
      " t1_2 (BatchNormalization)                                       [0][0]']                         \n",
      "                                                                                                  \n",
      " separable_conv_2_bn_normal_rig  (None, 28, 28, 44)  176         ['separable_conv_2_normal_right1_\n",
      " ht1_2 (BatchNormalization)                                      2[0][0]']                        \n",
      "                                                                                                  \n",
      " separable_conv_2_bn_normal_lef  (None, 28, 28, 44)  176         ['separable_conv_2_normal_left2_2\n",
      " t2_2 (BatchNormalization)                                       [0][0]']                         \n",
      "                                                                                                  \n",
      " separable_conv_2_bn_normal_rig  (None, 28, 28, 44)  176         ['separable_conv_2_normal_right2_\n",
      " ht2_2 (BatchNormalization)                                      2[0][0]']                        \n",
      "                                                                                                  \n",
      " normal_left3_2 (AveragePooling  (None, 28, 28, 44)  0           ['normal_bn_1_2[0][0]']          \n",
      " 2D)                                                                                              \n",
      "                                                                                                  \n",
      " normal_left4_2 (AveragePooling  (None, 28, 28, 44)  0           ['adjust_bn_2[0][0]']            \n",
      " 2D)                                                                                              \n",
      "                                                                                                  \n",
      " normal_right4_2 (AveragePoolin  (None, 28, 28, 44)  0           ['adjust_bn_2[0][0]']            \n",
      " g2D)                                                                                             \n",
      "                                                                                                  \n",
      " separable_conv_2_bn_normal_lef  (None, 28, 28, 44)  176         ['separable_conv_2_normal_left5_2\n",
      " t5_2 (BatchNormalization)                                       [0][0]']                         \n",
      "                                                                                                  \n",
      " normal_add_1_2 (Add)           (None, 28, 28, 44)   0           ['separable_conv_2_bn_normal_left\n",
      "                                                                 1_2[0][0]',                      \n",
      "                                                                  'separable_conv_2_bn_normal_righ\n",
      "                                                                 t1_2[0][0]']                     \n",
      "                                                                                                  \n",
      " normal_add_2_2 (Add)           (None, 28, 28, 44)   0           ['separable_conv_2_bn_normal_left\n",
      "                                                                 2_2[0][0]',                      \n",
      "                                                                  'separable_conv_2_bn_normal_righ\n",
      "                                                                 t2_2[0][0]']                     \n",
      "                                                                                                  \n",
      " normal_add_3_2 (Add)           (None, 28, 28, 44)   0           ['normal_left3_2[0][0]',         \n",
      "                                                                  'adjust_bn_2[0][0]']            \n",
      "                                                                                                  \n",
      " normal_add_4_2 (Add)           (None, 28, 28, 44)   0           ['normal_left4_2[0][0]',         \n",
      "                                                                  'normal_right4_2[0][0]']        \n",
      "                                                                                                  \n",
      " normal_add_5_2 (Add)           (None, 28, 28, 44)   0           ['separable_conv_2_bn_normal_left\n",
      "                                                                 5_2[0][0]',                      \n",
      "                                                                  'normal_bn_1_2[0][0]']          \n",
      "                                                                                                  \n",
      " normal_concat_2 (Concatenate)  (None, 28, 28, 264)  0           ['adjust_bn_2[0][0]',            \n",
      "                                                                  'normal_add_1_2[0][0]',         \n",
      "                                                                  'normal_add_2_2[0][0]',         \n",
      "                                                                  'normal_add_3_2[0][0]',         \n",
      "                                                                  'normal_add_4_2[0][0]',         \n",
      "                                                                  'normal_add_5_2[0][0]']         \n",
      "                                                                                                  \n",
      " activation_57 (Activation)     (None, 28, 28, 264)  0           ['normal_concat_1[0][0]']        \n",
      "                                                                                                  \n",
      " activation_58 (Activation)     (None, 28, 28, 264)  0           ['normal_concat_2[0][0]']        \n",
      "                                                                                                  \n",
      " adjust_conv_projection_3 (Conv  (None, 28, 28, 44)  11616       ['activation_57[0][0]']          \n",
      " 2D)                                                                                              \n",
      "                                                                                                  \n",
      " normal_conv_1_3 (Conv2D)       (None, 28, 28, 44)   11616       ['activation_58[0][0]']          \n",
      "                                                                                                  \n",
      " adjust_bn_3 (BatchNormalizatio  (None, 28, 28, 44)  176         ['adjust_conv_projection_3[0][0]'\n",
      " n)                                                              ]                                \n",
      "                                                                                                  \n",
      " normal_bn_1_3 (BatchNormalizat  (None, 28, 28, 44)  176         ['normal_conv_1_3[0][0]']        \n",
      " ion)                                                                                             \n",
      "                                                                                                  \n",
      " activation_59 (Activation)     (None, 28, 28, 44)   0           ['normal_bn_1_3[0][0]']          \n",
      "                                                                                                  \n",
      " activation_61 (Activation)     (None, 28, 28, 44)   0           ['adjust_bn_3[0][0]']            \n",
      "                                                                                                  \n",
      " activation_63 (Activation)     (None, 28, 28, 44)   0           ['adjust_bn_3[0][0]']            \n",
      "                                                                                                  \n",
      " activation_65 (Activation)     (None, 28, 28, 44)   0           ['adjust_bn_3[0][0]']            \n",
      "                                                                                                  \n",
      " activation_67 (Activation)     (None, 28, 28, 44)   0           ['normal_bn_1_3[0][0]']          \n",
      "                                                                                                  \n",
      " separable_conv_1_normal_left1_  (None, 28, 28, 44)  3036        ['activation_59[0][0]']          \n",
      " 3 (SeparableConv2D)                                                                              \n",
      "                                                                                                  \n",
      " separable_conv_1_normal_right1  (None, 28, 28, 44)  2332        ['activation_61[0][0]']          \n",
      " _3 (SeparableConv2D)                                                                             \n",
      "                                                                                                  \n",
      " separable_conv_1_normal_left2_  (None, 28, 28, 44)  3036        ['activation_63[0][0]']          \n",
      " 3 (SeparableConv2D)                                                                              \n",
      "                                                                                                  \n",
      " separable_conv_1_normal_right2  (None, 28, 28, 44)  2332        ['activation_65[0][0]']          \n",
      " _3 (SeparableConv2D)                                                                             \n",
      "                                                                                                  \n",
      " separable_conv_1_normal_left5_  (None, 28, 28, 44)  2332        ['activation_67[0][0]']          \n",
      " 3 (SeparableConv2D)                                                                              \n",
      "                                                                                                  \n",
      " separable_conv_1_bn_normal_lef  (None, 28, 28, 44)  176         ['separable_conv_1_normal_left1_3\n",
      " t1_3 (BatchNormalization)                                       [0][0]']                         \n",
      "                                                                                                  \n",
      " separable_conv_1_bn_normal_rig  (None, 28, 28, 44)  176         ['separable_conv_1_normal_right1_\n",
      " ht1_3 (BatchNormalization)                                      3[0][0]']                        \n",
      "                                                                                                  \n",
      " separable_conv_1_bn_normal_lef  (None, 28, 28, 44)  176         ['separable_conv_1_normal_left2_3\n",
      " t2_3 (BatchNormalization)                                       [0][0]']                         \n",
      "                                                                                                  \n",
      " separable_conv_1_bn_normal_rig  (None, 28, 28, 44)  176         ['separable_conv_1_normal_right2_\n",
      " ht2_3 (BatchNormalization)                                      3[0][0]']                        \n",
      "                                                                                                  \n",
      " separable_conv_1_bn_normal_lef  (None, 28, 28, 44)  176         ['separable_conv_1_normal_left5_3\n",
      " t5_3 (BatchNormalization)                                       [0][0]']                         \n",
      "                                                                                                  \n",
      " activation_60 (Activation)     (None, 28, 28, 44)   0           ['separable_conv_1_bn_normal_left\n",
      "                                                                 1_3[0][0]']                      \n",
      "                                                                                                  \n",
      " activation_62 (Activation)     (None, 28, 28, 44)   0           ['separable_conv_1_bn_normal_righ\n",
      "                                                                 t1_3[0][0]']                     \n",
      "                                                                                                  \n",
      " activation_64 (Activation)     (None, 28, 28, 44)   0           ['separable_conv_1_bn_normal_left\n",
      "                                                                 2_3[0][0]']                      \n",
      "                                                                                                  \n",
      " activation_66 (Activation)     (None, 28, 28, 44)   0           ['separable_conv_1_bn_normal_righ\n",
      "                                                                 t2_3[0][0]']                     \n",
      "                                                                                                  \n",
      " activation_68 (Activation)     (None, 28, 28, 44)   0           ['separable_conv_1_bn_normal_left\n",
      "                                                                 5_3[0][0]']                      \n",
      "                                                                                                  \n",
      " separable_conv_2_normal_left1_  (None, 28, 28, 44)  3036        ['activation_60[0][0]']          \n",
      " 3 (SeparableConv2D)                                                                              \n",
      "                                                                                                  \n",
      " separable_conv_2_normal_right1  (None, 28, 28, 44)  2332        ['activation_62[0][0]']          \n",
      " _3 (SeparableConv2D)                                                                             \n",
      "                                                                                                  \n",
      " separable_conv_2_normal_left2_  (None, 28, 28, 44)  3036        ['activation_64[0][0]']          \n",
      " 3 (SeparableConv2D)                                                                              \n",
      "                                                                                                  \n",
      " separable_conv_2_normal_right2  (None, 28, 28, 44)  2332        ['activation_66[0][0]']          \n",
      " _3 (SeparableConv2D)                                                                             \n",
      "                                                                                                  \n",
      " separable_conv_2_normal_left5_  (None, 28, 28, 44)  2332        ['activation_68[0][0]']          \n",
      " 3 (SeparableConv2D)                                                                              \n",
      "                                                                                                  \n",
      " separable_conv_2_bn_normal_lef  (None, 28, 28, 44)  176         ['separable_conv_2_normal_left1_3\n",
      " t1_3 (BatchNormalization)                                       [0][0]']                         \n",
      "                                                                                                  \n",
      " separable_conv_2_bn_normal_rig  (None, 28, 28, 44)  176         ['separable_conv_2_normal_right1_\n",
      " ht1_3 (BatchNormalization)                                      3[0][0]']                        \n",
      "                                                                                                  \n",
      " separable_conv_2_bn_normal_lef  (None, 28, 28, 44)  176         ['separable_conv_2_normal_left2_3\n",
      " t2_3 (BatchNormalization)                                       [0][0]']                         \n",
      "                                                                                                  \n",
      " separable_conv_2_bn_normal_rig  (None, 28, 28, 44)  176         ['separable_conv_2_normal_right2_\n",
      " ht2_3 (BatchNormalization)                                      3[0][0]']                        \n",
      "                                                                                                  \n",
      " normal_left3_3 (AveragePooling  (None, 28, 28, 44)  0           ['normal_bn_1_3[0][0]']          \n",
      " 2D)                                                                                              \n",
      "                                                                                                  \n",
      " normal_left4_3 (AveragePooling  (None, 28, 28, 44)  0           ['adjust_bn_3[0][0]']            \n",
      " 2D)                                                                                              \n",
      "                                                                                                  \n",
      " normal_right4_3 (AveragePoolin  (None, 28, 28, 44)  0           ['adjust_bn_3[0][0]']            \n",
      " g2D)                                                                                             \n",
      "                                                                                                  \n",
      " separable_conv_2_bn_normal_lef  (None, 28, 28, 44)  176         ['separable_conv_2_normal_left5_3\n",
      " t5_3 (BatchNormalization)                                       [0][0]']                         \n",
      "                                                                                                  \n",
      " normal_add_1_3 (Add)           (None, 28, 28, 44)   0           ['separable_conv_2_bn_normal_left\n",
      "                                                                 1_3[0][0]',                      \n",
      "                                                                  'separable_conv_2_bn_normal_righ\n",
      "                                                                 t1_3[0][0]']                     \n",
      "                                                                                                  \n",
      " normal_add_2_3 (Add)           (None, 28, 28, 44)   0           ['separable_conv_2_bn_normal_left\n",
      "                                                                 2_3[0][0]',                      \n",
      "                                                                  'separable_conv_2_bn_normal_righ\n",
      "                                                                 t2_3[0][0]']                     \n",
      "                                                                                                  \n",
      " normal_add_3_3 (Add)           (None, 28, 28, 44)   0           ['normal_left3_3[0][0]',         \n",
      "                                                                  'adjust_bn_3[0][0]']            \n",
      "                                                                                                  \n",
      " normal_add_4_3 (Add)           (None, 28, 28, 44)   0           ['normal_left4_3[0][0]',         \n",
      "                                                                  'normal_right4_3[0][0]']        \n",
      "                                                                                                  \n",
      " normal_add_5_3 (Add)           (None, 28, 28, 44)   0           ['separable_conv_2_bn_normal_left\n",
      "                                                                 5_3[0][0]',                      \n",
      "                                                                  'normal_bn_1_3[0][0]']          \n",
      "                                                                                                  \n",
      " normal_concat_3 (Concatenate)  (None, 28, 28, 264)  0           ['adjust_bn_3[0][0]',            \n",
      "                                                                  'normal_add_1_3[0][0]',         \n",
      "                                                                  'normal_add_2_3[0][0]',         \n",
      "                                                                  'normal_add_3_3[0][0]',         \n",
      "                                                                  'normal_add_4_3[0][0]',         \n",
      "                                                                  'normal_add_5_3[0][0]']         \n",
      "                                                                                                  \n",
      " activation_70 (Activation)     (None, 28, 28, 264)  0           ['normal_concat_3[0][0]']        \n",
      "                                                                                                  \n",
      " activation_69 (Activation)     (None, 28, 28, 264)  0           ['normal_concat_2[0][0]']        \n",
      "                                                                                                  \n",
      " reduction_conv_1_reduce_4 (Con  (None, 28, 28, 88)  23232       ['activation_70[0][0]']          \n",
      " v2D)                                                                                             \n",
      "                                                                                                  \n",
      " adjust_conv_projection_reduce_  (None, 28, 28, 88)  23232       ['activation_69[0][0]']          \n",
      " 4 (Conv2D)                                                                                       \n",
      "                                                                                                  \n",
      " reduction_bn_1_reduce_4 (Batch  (None, 28, 28, 88)  352         ['reduction_conv_1_reduce_4[0][0]\n",
      " Normalization)                                                  ']                               \n",
      "                                                                                                  \n",
      " adjust_bn_reduce_4 (BatchNorma  (None, 28, 28, 88)  352         ['adjust_conv_projection_reduce_4\n",
      " lization)                                                       [0][0]']                         \n",
      "                                                                                                  \n",
      " activation_71 (Activation)     (None, 28, 28, 88)   0           ['reduction_bn_1_reduce_4[0][0]']\n",
      "                                                                                                  \n",
      " activation_73 (Activation)     (None, 28, 28, 88)   0           ['adjust_bn_reduce_4[0][0]']     \n",
      "                                                                                                  \n",
      " separable_conv_1_pad_reduction  (None, 31, 31, 88)  0           ['activation_71[0][0]']          \n",
      " _left1_reduce_4 (ZeroPadding2D                                                                   \n",
      " )                                                                                                \n",
      "                                                                                                  \n",
      " separable_conv_1_pad_reduction  (None, 33, 33, 88)  0           ['activation_73[0][0]']          \n",
      " _right1_reduce_4 (ZeroPadding2                                                                   \n",
      " D)                                                                                               \n",
      "                                                                                                  \n",
      " separable_conv_1_reduction_lef  (None, 14, 14, 88)  9944        ['separable_conv_1_pad_reduction_\n",
      " t1_reduce_4 (SeparableConv2D)                                   left1_reduce_4[0][0]']           \n",
      "                                                                                                  \n",
      " separable_conv_1_reduction_rig  (None, 14, 14, 88)  12056       ['separable_conv_1_pad_reduction_\n",
      " ht1_reduce_4 (SeparableConv2D)                                  right1_reduce_4[0][0]']          \n",
      "                                                                                                  \n",
      " separable_conv_1_bn_reduction_  (None, 14, 14, 88)  352         ['separable_conv_1_reduction_left\n",
      " left1_reduce_4 (BatchNormaliza                                  1_reduce_4[0][0]']               \n",
      " tion)                                                                                            \n",
      "                                                                                                  \n",
      " separable_conv_1_bn_reduction_  (None, 14, 14, 88)  352         ['separable_conv_1_reduction_righ\n",
      " right1_reduce_4 (BatchNormaliz                                  t1_reduce_4[0][0]']              \n",
      " ation)                                                                                           \n",
      "                                                                                                  \n",
      " activation_72 (Activation)     (None, 14, 14, 88)   0           ['separable_conv_1_bn_reduction_l\n",
      "                                                                 eft1_reduce_4[0][0]']            \n",
      "                                                                                                  \n",
      " activation_74 (Activation)     (None, 14, 14, 88)   0           ['separable_conv_1_bn_reduction_r\n",
      "                                                                 ight1_reduce_4[0][0]']           \n",
      "                                                                                                  \n",
      " separable_conv_2_reduction_lef  (None, 14, 14, 88)  9944        ['activation_72[0][0]']          \n",
      " t1_reduce_4 (SeparableConv2D)                                                                    \n",
      "                                                                                                  \n",
      " separable_conv_2_reduction_rig  (None, 14, 14, 88)  12056       ['activation_74[0][0]']          \n",
      " ht1_reduce_4 (SeparableConv2D)                                                                   \n",
      "                                                                                                  \n",
      " activation_75 (Activation)     (None, 28, 28, 88)   0           ['adjust_bn_reduce_4[0][0]']     \n",
      "                                                                                                  \n",
      " separable_conv_2_bn_reduction_  (None, 14, 14, 88)  352         ['separable_conv_2_reduction_left\n",
      " left1_reduce_4 (BatchNormaliza                                  1_reduce_4[0][0]']               \n",
      " tion)                                                                                            \n",
      "                                                                                                  \n",
      " separable_conv_2_bn_reduction_  (None, 14, 14, 88)  352         ['separable_conv_2_reduction_righ\n",
      " right1_reduce_4 (BatchNormaliz                                  t1_reduce_4[0][0]']              \n",
      " ation)                                                                                           \n",
      "                                                                                                  \n",
      " separable_conv_1_pad_reduction  (None, 33, 33, 88)  0           ['activation_75[0][0]']          \n",
      " _right2_reduce_4 (ZeroPadding2                                                                   \n",
      " D)                                                                                               \n",
      "                                                                                                  \n",
      " activation_77 (Activation)     (None, 28, 28, 88)   0           ['adjust_bn_reduce_4[0][0]']     \n",
      "                                                                                                  \n",
      " reduction_add_1_reduce_4 (Add)  (None, 14, 14, 88)  0           ['separable_conv_2_bn_reduction_l\n",
      "                                                                 eft1_reduce_4[0][0]',            \n",
      "                                                                  'separable_conv_2_bn_reduction_r\n",
      "                                                                 ight1_reduce_4[0][0]']           \n",
      "                                                                                                  \n",
      " separable_conv_1_reduction_rig  (None, 14, 14, 88)  12056       ['separable_conv_1_pad_reduction_\n",
      " ht2_reduce_4 (SeparableConv2D)                                  right2_reduce_4[0][0]']          \n",
      "                                                                                                  \n",
      " separable_conv_1_pad_reduction  (None, 31, 31, 88)  0           ['activation_77[0][0]']          \n",
      " _right3_reduce_4 (ZeroPadding2                                                                   \n",
      " D)                                                                                               \n",
      "                                                                                                  \n",
      " activation_79 (Activation)     (None, 14, 14, 88)   0           ['reduction_add_1_reduce_4[0][0]'\n",
      "                                                                 ]                                \n",
      "                                                                                                  \n",
      " separable_conv_1_bn_reduction_  (None, 14, 14, 88)  352         ['separable_conv_1_reduction_righ\n",
      " right2_reduce_4 (BatchNormaliz                                  t2_reduce_4[0][0]']              \n",
      " ation)                                                                                           \n",
      "                                                                                                  \n",
      " separable_conv_1_reduction_rig  (None, 14, 14, 88)  9944        ['separable_conv_1_pad_reduction_\n",
      " ht3_reduce_4 (SeparableConv2D)                                  right3_reduce_4[0][0]']          \n",
      "                                                                                                  \n",
      " separable_conv_1_reduction_lef  (None, 14, 14, 88)  8536        ['activation_79[0][0]']          \n",
      " t4_reduce_4 (SeparableConv2D)                                                                    \n",
      "                                                                                                  \n",
      " activation_76 (Activation)     (None, 14, 14, 88)   0           ['separable_conv_1_bn_reduction_r\n",
      "                                                                 ight2_reduce_4[0][0]']           \n",
      "                                                                                                  \n",
      " separable_conv_1_bn_reduction_  (None, 14, 14, 88)  352         ['separable_conv_1_reduction_righ\n",
      " right3_reduce_4 (BatchNormaliz                                  t3_reduce_4[0][0]']              \n",
      " ation)                                                                                           \n",
      "                                                                                                  \n",
      " separable_conv_1_bn_reduction_  (None, 14, 14, 88)  352         ['separable_conv_1_reduction_left\n",
      " left4_reduce_4 (BatchNormaliza                                  4_reduce_4[0][0]']               \n",
      " tion)                                                                                            \n",
      "                                                                                                  \n",
      " reduction_pad_1_reduce_4 (Zero  (None, 29, 29, 88)  0           ['reduction_bn_1_reduce_4[0][0]']\n",
      " Padding2D)                                                                                       \n",
      "                                                                                                  \n",
      " separable_conv_2_reduction_rig  (None, 14, 14, 88)  12056       ['activation_76[0][0]']          \n",
      " ht2_reduce_4 (SeparableConv2D)                                                                   \n",
      "                                                                                                  \n",
      " activation_78 (Activation)     (None, 14, 14, 88)   0           ['separable_conv_1_bn_reduction_r\n",
      "                                                                 ight3_reduce_4[0][0]']           \n",
      "                                                                                                  \n",
      " activation_80 (Activation)     (None, 14, 14, 88)   0           ['separable_conv_1_bn_reduction_l\n",
      "                                                                 eft4_reduce_4[0][0]']            \n",
      "                                                                                                  \n",
      " reduction_left2_reduce_4 (MaxP  (None, 14, 14, 88)  0           ['reduction_pad_1_reduce_4[0][0]'\n",
      " ooling2D)                                                       ]                                \n",
      "                                                                                                  \n",
      " separable_conv_2_bn_reduction_  (None, 14, 14, 88)  352         ['separable_conv_2_reduction_righ\n",
      " right2_reduce_4 (BatchNormaliz                                  t2_reduce_4[0][0]']              \n",
      " ation)                                                                                           \n",
      "                                                                                                  \n",
      " separable_conv_2_reduction_rig  (None, 14, 14, 88)  9944        ['activation_78[0][0]']          \n",
      " ht3_reduce_4 (SeparableConv2D)                                                                   \n",
      "                                                                                                  \n",
      " separable_conv_2_reduction_lef  (None, 14, 14, 88)  8536        ['activation_80[0][0]']          \n",
      " t4_reduce_4 (SeparableConv2D)                                                                    \n",
      "                                                                                                  \n",
      " adjust_relu_1_5 (Activation)   (None, 28, 28, 264)  0           ['normal_concat_3[0][0]']        \n",
      "                                                                                                  \n",
      " reduction_add_2_reduce_4 (Add)  (None, 14, 14, 88)  0           ['reduction_left2_reduce_4[0][0]'\n",
      "                                                                 , 'separable_conv_2_bn_reduction_\n",
      "                                                                 right2_reduce_4[0][0]']          \n",
      "                                                                                                  \n",
      " reduction_left3_reduce_4 (Aver  (None, 14, 14, 88)  0           ['reduction_pad_1_reduce_4[0][0]'\n",
      " agePooling2D)                                                   ]                                \n",
      "                                                                                                  \n",
      " separable_conv_2_bn_reduction_  (None, 14, 14, 88)  352         ['separable_conv_2_reduction_righ\n",
      " right3_reduce_4 (BatchNormaliz                                  t3_reduce_4[0][0]']              \n",
      " ation)                                                                                           \n",
      "                                                                                                  \n",
      " reduction_left4_reduce_4 (Aver  (None, 14, 14, 88)  0           ['reduction_add_1_reduce_4[0][0]'\n",
      " agePooling2D)                                                   ]                                \n",
      "                                                                                                  \n",
      " separable_conv_2_bn_reduction_  (None, 14, 14, 88)  352         ['separable_conv_2_reduction_left\n",
      " left4_reduce_4 (BatchNormaliza                                  4_reduce_4[0][0]']               \n",
      " tion)                                                                                            \n",
      "                                                                                                  \n",
      " reduction_right5_reduce_4 (Max  (None, 14, 14, 88)  0           ['reduction_pad_1_reduce_4[0][0]'\n",
      " Pooling2D)                                                      ]                                \n",
      "                                                                                                  \n",
      " zero_padding2d_2 (ZeroPadding2  (None, 29, 29, 264)  0          ['adjust_relu_1_5[0][0]']        \n",
      " D)                                                                                               \n",
      "                                                                                                  \n",
      " reduction_add3_reduce_4 (Add)  (None, 14, 14, 88)   0           ['reduction_left3_reduce_4[0][0]'\n",
      "                                                                 , 'separable_conv_2_bn_reduction_\n",
      "                                                                 right3_reduce_4[0][0]']          \n",
      "                                                                                                  \n",
      " add_2 (Add)                    (None, 14, 14, 88)   0           ['reduction_add_2_reduce_4[0][0]'\n",
      "                                                                 , 'reduction_left4_reduce_4[0][0]\n",
      "                                                                 ']                               \n",
      "                                                                                                  \n",
      " reduction_add4_reduce_4 (Add)  (None, 14, 14, 88)   0           ['separable_conv_2_bn_reduction_l\n",
      "                                                                 eft4_reduce_4[0][0]',            \n",
      "                                                                  'reduction_right5_reduce_4[0][0]\n",
      "                                                                 ']                               \n",
      "                                                                                                  \n",
      " cropping2d_2 (Cropping2D)      (None, 28, 28, 264)  0           ['zero_padding2d_2[0][0]']       \n",
      "                                                                                                  \n",
      " reduction_concat_reduce_4 (Con  (None, 14, 14, 352)  0          ['reduction_add_2_reduce_4[0][0]'\n",
      " catenate)                                                       , 'reduction_add3_reduce_4[0][0]'\n",
      "                                                                 , 'add_2[0][0]',                 \n",
      "                                                                  'reduction_add4_reduce_4[0][0]']\n",
      "                                                                                                  \n",
      " adjust_avg_pool_1_5 (AveragePo  (None, 14, 14, 264)  0          ['adjust_relu_1_5[0][0]']        \n",
      " oling2D)                                                                                         \n",
      "                                                                                                  \n",
      " adjust_avg_pool_2_5 (AveragePo  (None, 14, 14, 264)  0          ['cropping2d_2[0][0]']           \n",
      " oling2D)                                                                                         \n",
      "                                                                                                  \n",
      " adjust_conv_1_5 (Conv2D)       (None, 14, 14, 44)   11616       ['adjust_avg_pool_1_5[0][0]']    \n",
      "                                                                                                  \n",
      " adjust_conv_2_5 (Conv2D)       (None, 14, 14, 44)   11616       ['adjust_avg_pool_2_5[0][0]']    \n",
      "                                                                                                  \n",
      " activation_81 (Activation)     (None, 14, 14, 352)  0           ['reduction_concat_reduce_4[0][0]\n",
      "                                                                 ']                               \n",
      "                                                                                                  \n",
      " concatenate_2 (Concatenate)    (None, 14, 14, 88)   0           ['adjust_conv_1_5[0][0]',        \n",
      "                                                                  'adjust_conv_2_5[0][0]']        \n",
      "                                                                                                  \n",
      " normal_conv_1_5 (Conv2D)       (None, 14, 14, 88)   30976       ['activation_81[0][0]']          \n",
      "                                                                                                  \n",
      " adjust_bn_5 (BatchNormalizatio  (None, 14, 14, 88)  352         ['concatenate_2[0][0]']          \n",
      " n)                                                                                               \n",
      "                                                                                                  \n",
      " normal_bn_1_5 (BatchNormalizat  (None, 14, 14, 88)  352         ['normal_conv_1_5[0][0]']        \n",
      " ion)                                                                                             \n",
      "                                                                                                  \n",
      " activation_82 (Activation)     (None, 14, 14, 88)   0           ['normal_bn_1_5[0][0]']          \n",
      "                                                                                                  \n",
      " activation_84 (Activation)     (None, 14, 14, 88)   0           ['adjust_bn_5[0][0]']            \n",
      "                                                                                                  \n",
      " activation_86 (Activation)     (None, 14, 14, 88)   0           ['adjust_bn_5[0][0]']            \n",
      "                                                                                                  \n",
      " activation_88 (Activation)     (None, 14, 14, 88)   0           ['adjust_bn_5[0][0]']            \n",
      "                                                                                                  \n",
      " activation_90 (Activation)     (None, 14, 14, 88)   0           ['normal_bn_1_5[0][0]']          \n",
      "                                                                                                  \n",
      " separable_conv_1_normal_left1_  (None, 14, 14, 88)  9944        ['activation_82[0][0]']          \n",
      " 5 (SeparableConv2D)                                                                              \n",
      "                                                                                                  \n",
      " separable_conv_1_normal_right1  (None, 14, 14, 88)  8536        ['activation_84[0][0]']          \n",
      " _5 (SeparableConv2D)                                                                             \n",
      "                                                                                                  \n",
      " separable_conv_1_normal_left2_  (None, 14, 14, 88)  9944        ['activation_86[0][0]']          \n",
      " 5 (SeparableConv2D)                                                                              \n",
      "                                                                                                  \n",
      " separable_conv_1_normal_right2  (None, 14, 14, 88)  8536        ['activation_88[0][0]']          \n",
      " _5 (SeparableConv2D)                                                                             \n",
      "                                                                                                  \n",
      " separable_conv_1_normal_left5_  (None, 14, 14, 88)  8536        ['activation_90[0][0]']          \n",
      " 5 (SeparableConv2D)                                                                              \n",
      "                                                                                                  \n",
      " separable_conv_1_bn_normal_lef  (None, 14, 14, 88)  352         ['separable_conv_1_normal_left1_5\n",
      " t1_5 (BatchNormalization)                                       [0][0]']                         \n",
      "                                                                                                  \n",
      " separable_conv_1_bn_normal_rig  (None, 14, 14, 88)  352         ['separable_conv_1_normal_right1_\n",
      " ht1_5 (BatchNormalization)                                      5[0][0]']                        \n",
      "                                                                                                  \n",
      " separable_conv_1_bn_normal_lef  (None, 14, 14, 88)  352         ['separable_conv_1_normal_left2_5\n",
      " t2_5 (BatchNormalization)                                       [0][0]']                         \n",
      "                                                                                                  \n",
      " separable_conv_1_bn_normal_rig  (None, 14, 14, 88)  352         ['separable_conv_1_normal_right2_\n",
      " ht2_5 (BatchNormalization)                                      5[0][0]']                        \n",
      "                                                                                                  \n",
      " separable_conv_1_bn_normal_lef  (None, 14, 14, 88)  352         ['separable_conv_1_normal_left5_5\n",
      " t5_5 (BatchNormalization)                                       [0][0]']                         \n",
      "                                                                                                  \n",
      " activation_83 (Activation)     (None, 14, 14, 88)   0           ['separable_conv_1_bn_normal_left\n",
      "                                                                 1_5[0][0]']                      \n",
      "                                                                                                  \n",
      " activation_85 (Activation)     (None, 14, 14, 88)   0           ['separable_conv_1_bn_normal_righ\n",
      "                                                                 t1_5[0][0]']                     \n",
      "                                                                                                  \n",
      " activation_87 (Activation)     (None, 14, 14, 88)   0           ['separable_conv_1_bn_normal_left\n",
      "                                                                 2_5[0][0]']                      \n",
      "                                                                                                  \n",
      " activation_89 (Activation)     (None, 14, 14, 88)   0           ['separable_conv_1_bn_normal_righ\n",
      "                                                                 t2_5[0][0]']                     \n",
      "                                                                                                  \n",
      " activation_91 (Activation)     (None, 14, 14, 88)   0           ['separable_conv_1_bn_normal_left\n",
      "                                                                 5_5[0][0]']                      \n",
      "                                                                                                  \n",
      " separable_conv_2_normal_left1_  (None, 14, 14, 88)  9944        ['activation_83[0][0]']          \n",
      " 5 (SeparableConv2D)                                                                              \n",
      "                                                                                                  \n",
      " separable_conv_2_normal_right1  (None, 14, 14, 88)  8536        ['activation_85[0][0]']          \n",
      " _5 (SeparableConv2D)                                                                             \n",
      "                                                                                                  \n",
      " separable_conv_2_normal_left2_  (None, 14, 14, 88)  9944        ['activation_87[0][0]']          \n",
      " 5 (SeparableConv2D)                                                                              \n",
      "                                                                                                  \n",
      " separable_conv_2_normal_right2  (None, 14, 14, 88)  8536        ['activation_89[0][0]']          \n",
      " _5 (SeparableConv2D)                                                                             \n",
      "                                                                                                  \n",
      " separable_conv_2_normal_left5_  (None, 14, 14, 88)  8536        ['activation_91[0][0]']          \n",
      " 5 (SeparableConv2D)                                                                              \n",
      "                                                                                                  \n",
      " separable_conv_2_bn_normal_lef  (None, 14, 14, 88)  352         ['separable_conv_2_normal_left1_5\n",
      " t1_5 (BatchNormalization)                                       [0][0]']                         \n",
      "                                                                                                  \n",
      " separable_conv_2_bn_normal_rig  (None, 14, 14, 88)  352         ['separable_conv_2_normal_right1_\n",
      " ht1_5 (BatchNormalization)                                      5[0][0]']                        \n",
      "                                                                                                  \n",
      " separable_conv_2_bn_normal_lef  (None, 14, 14, 88)  352         ['separable_conv_2_normal_left2_5\n",
      " t2_5 (BatchNormalization)                                       [0][0]']                         \n",
      "                                                                                                  \n",
      " separable_conv_2_bn_normal_rig  (None, 14, 14, 88)  352         ['separable_conv_2_normal_right2_\n",
      " ht2_5 (BatchNormalization)                                      5[0][0]']                        \n",
      "                                                                                                  \n",
      " normal_left3_5 (AveragePooling  (None, 14, 14, 88)  0           ['normal_bn_1_5[0][0]']          \n",
      " 2D)                                                                                              \n",
      "                                                                                                  \n",
      " normal_left4_5 (AveragePooling  (None, 14, 14, 88)  0           ['adjust_bn_5[0][0]']            \n",
      " 2D)                                                                                              \n",
      "                                                                                                  \n",
      " normal_right4_5 (AveragePoolin  (None, 14, 14, 88)  0           ['adjust_bn_5[0][0]']            \n",
      " g2D)                                                                                             \n",
      "                                                                                                  \n",
      " separable_conv_2_bn_normal_lef  (None, 14, 14, 88)  352         ['separable_conv_2_normal_left5_5\n",
      " t5_5 (BatchNormalization)                                       [0][0]']                         \n",
      "                                                                                                  \n",
      " normal_add_1_5 (Add)           (None, 14, 14, 88)   0           ['separable_conv_2_bn_normal_left\n",
      "                                                                 1_5[0][0]',                      \n",
      "                                                                  'separable_conv_2_bn_normal_righ\n",
      "                                                                 t1_5[0][0]']                     \n",
      "                                                                                                  \n",
      " normal_add_2_5 (Add)           (None, 14, 14, 88)   0           ['separable_conv_2_bn_normal_left\n",
      "                                                                 2_5[0][0]',                      \n",
      "                                                                  'separable_conv_2_bn_normal_righ\n",
      "                                                                 t2_5[0][0]']                     \n",
      "                                                                                                  \n",
      " normal_add_3_5 (Add)           (None, 14, 14, 88)   0           ['normal_left3_5[0][0]',         \n",
      "                                                                  'adjust_bn_5[0][0]']            \n",
      "                                                                                                  \n",
      " normal_add_4_5 (Add)           (None, 14, 14, 88)   0           ['normal_left4_5[0][0]',         \n",
      "                                                                  'normal_right4_5[0][0]']        \n",
      "                                                                                                  \n",
      " normal_add_5_5 (Add)           (None, 14, 14, 88)   0           ['separable_conv_2_bn_normal_left\n",
      "                                                                 5_5[0][0]',                      \n",
      "                                                                  'normal_bn_1_5[0][0]']          \n",
      "                                                                                                  \n",
      " normal_concat_5 (Concatenate)  (None, 14, 14, 528)  0           ['adjust_bn_5[0][0]',            \n",
      "                                                                  'normal_add_1_5[0][0]',         \n",
      "                                                                  'normal_add_2_5[0][0]',         \n",
      "                                                                  'normal_add_3_5[0][0]',         \n",
      "                                                                  'normal_add_4_5[0][0]',         \n",
      "                                                                  'normal_add_5_5[0][0]']         \n",
      "                                                                                                  \n",
      " activation_92 (Activation)     (None, 14, 14, 352)  0           ['reduction_concat_reduce_4[0][0]\n",
      "                                                                 ']                               \n",
      "                                                                                                  \n",
      " activation_93 (Activation)     (None, 14, 14, 528)  0           ['normal_concat_5[0][0]']        \n",
      "                                                                                                  \n",
      " adjust_conv_projection_6 (Conv  (None, 14, 14, 88)  30976       ['activation_92[0][0]']          \n",
      " 2D)                                                                                              \n",
      "                                                                                                  \n",
      " normal_conv_1_6 (Conv2D)       (None, 14, 14, 88)   46464       ['activation_93[0][0]']          \n",
      "                                                                                                  \n",
      " adjust_bn_6 (BatchNormalizatio  (None, 14, 14, 88)  352         ['adjust_conv_projection_6[0][0]'\n",
      " n)                                                              ]                                \n",
      "                                                                                                  \n",
      " normal_bn_1_6 (BatchNormalizat  (None, 14, 14, 88)  352         ['normal_conv_1_6[0][0]']        \n",
      " ion)                                                                                             \n",
      "                                                                                                  \n",
      " activation_94 (Activation)     (None, 14, 14, 88)   0           ['normal_bn_1_6[0][0]']          \n",
      "                                                                                                  \n",
      " activation_96 (Activation)     (None, 14, 14, 88)   0           ['adjust_bn_6[0][0]']            \n",
      "                                                                                                  \n",
      " activation_98 (Activation)     (None, 14, 14, 88)   0           ['adjust_bn_6[0][0]']            \n",
      "                                                                                                  \n",
      " activation_100 (Activation)    (None, 14, 14, 88)   0           ['adjust_bn_6[0][0]']            \n",
      "                                                                                                  \n",
      " activation_102 (Activation)    (None, 14, 14, 88)   0           ['normal_bn_1_6[0][0]']          \n",
      "                                                                                                  \n",
      " separable_conv_1_normal_left1_  (None, 14, 14, 88)  9944        ['activation_94[0][0]']          \n",
      " 6 (SeparableConv2D)                                                                              \n",
      "                                                                                                  \n",
      " separable_conv_1_normal_right1  (None, 14, 14, 88)  8536        ['activation_96[0][0]']          \n",
      " _6 (SeparableConv2D)                                                                             \n",
      "                                                                                                  \n",
      " separable_conv_1_normal_left2_  (None, 14, 14, 88)  9944        ['activation_98[0][0]']          \n",
      " 6 (SeparableConv2D)                                                                              \n",
      "                                                                                                  \n",
      " separable_conv_1_normal_right2  (None, 14, 14, 88)  8536        ['activation_100[0][0]']         \n",
      " _6 (SeparableConv2D)                                                                             \n",
      "                                                                                                  \n",
      " separable_conv_1_normal_left5_  (None, 14, 14, 88)  8536        ['activation_102[0][0]']         \n",
      " 6 (SeparableConv2D)                                                                              \n",
      "                                                                                                  \n",
      " separable_conv_1_bn_normal_lef  (None, 14, 14, 88)  352         ['separable_conv_1_normal_left1_6\n",
      " t1_6 (BatchNormalization)                                       [0][0]']                         \n",
      "                                                                                                  \n",
      " separable_conv_1_bn_normal_rig  (None, 14, 14, 88)  352         ['separable_conv_1_normal_right1_\n",
      " ht1_6 (BatchNormalization)                                      6[0][0]']                        \n",
      "                                                                                                  \n",
      " separable_conv_1_bn_normal_lef  (None, 14, 14, 88)  352         ['separable_conv_1_normal_left2_6\n",
      " t2_6 (BatchNormalization)                                       [0][0]']                         \n",
      "                                                                                                  \n",
      " separable_conv_1_bn_normal_rig  (None, 14, 14, 88)  352         ['separable_conv_1_normal_right2_\n",
      " ht2_6 (BatchNormalization)                                      6[0][0]']                        \n",
      "                                                                                                  \n",
      " separable_conv_1_bn_normal_lef  (None, 14, 14, 88)  352         ['separable_conv_1_normal_left5_6\n",
      " t5_6 (BatchNormalization)                                       [0][0]']                         \n",
      "                                                                                                  \n",
      " activation_95 (Activation)     (None, 14, 14, 88)   0           ['separable_conv_1_bn_normal_left\n",
      "                                                                 1_6[0][0]']                      \n",
      "                                                                                                  \n",
      " activation_97 (Activation)     (None, 14, 14, 88)   0           ['separable_conv_1_bn_normal_righ\n",
      "                                                                 t1_6[0][0]']                     \n",
      "                                                                                                  \n",
      " activation_99 (Activation)     (None, 14, 14, 88)   0           ['separable_conv_1_bn_normal_left\n",
      "                                                                 2_6[0][0]']                      \n",
      "                                                                                                  \n",
      " activation_101 (Activation)    (None, 14, 14, 88)   0           ['separable_conv_1_bn_normal_righ\n",
      "                                                                 t2_6[0][0]']                     \n",
      "                                                                                                  \n",
      " activation_103 (Activation)    (None, 14, 14, 88)   0           ['separable_conv_1_bn_normal_left\n",
      "                                                                 5_6[0][0]']                      \n",
      "                                                                                                  \n",
      " separable_conv_2_normal_left1_  (None, 14, 14, 88)  9944        ['activation_95[0][0]']          \n",
      " 6 (SeparableConv2D)                                                                              \n",
      "                                                                                                  \n",
      " separable_conv_2_normal_right1  (None, 14, 14, 88)  8536        ['activation_97[0][0]']          \n",
      " _6 (SeparableConv2D)                                                                             \n",
      "                                                                                                  \n",
      " separable_conv_2_normal_left2_  (None, 14, 14, 88)  9944        ['activation_99[0][0]']          \n",
      " 6 (SeparableConv2D)                                                                              \n",
      "                                                                                                  \n",
      " separable_conv_2_normal_right2  (None, 14, 14, 88)  8536        ['activation_101[0][0]']         \n",
      " _6 (SeparableConv2D)                                                                             \n",
      "                                                                                                  \n",
      " separable_conv_2_normal_left5_  (None, 14, 14, 88)  8536        ['activation_103[0][0]']         \n",
      " 6 (SeparableConv2D)                                                                              \n",
      "                                                                                                  \n",
      " separable_conv_2_bn_normal_lef  (None, 14, 14, 88)  352         ['separable_conv_2_normal_left1_6\n",
      " t1_6 (BatchNormalization)                                       [0][0]']                         \n",
      "                                                                                                  \n",
      " separable_conv_2_bn_normal_rig  (None, 14, 14, 88)  352         ['separable_conv_2_normal_right1_\n",
      " ht1_6 (BatchNormalization)                                      6[0][0]']                        \n",
      "                                                                                                  \n",
      " separable_conv_2_bn_normal_lef  (None, 14, 14, 88)  352         ['separable_conv_2_normal_left2_6\n",
      " t2_6 (BatchNormalization)                                       [0][0]']                         \n",
      "                                                                                                  \n",
      " separable_conv_2_bn_normal_rig  (None, 14, 14, 88)  352         ['separable_conv_2_normal_right2_\n",
      " ht2_6 (BatchNormalization)                                      6[0][0]']                        \n",
      "                                                                                                  \n",
      " normal_left3_6 (AveragePooling  (None, 14, 14, 88)  0           ['normal_bn_1_6[0][0]']          \n",
      " 2D)                                                                                              \n",
      "                                                                                                  \n",
      " normal_left4_6 (AveragePooling  (None, 14, 14, 88)  0           ['adjust_bn_6[0][0]']            \n",
      " 2D)                                                                                              \n",
      "                                                                                                  \n",
      " normal_right4_6 (AveragePoolin  (None, 14, 14, 88)  0           ['adjust_bn_6[0][0]']            \n",
      " g2D)                                                                                             \n",
      "                                                                                                  \n",
      " separable_conv_2_bn_normal_lef  (None, 14, 14, 88)  352         ['separable_conv_2_normal_left5_6\n",
      " t5_6 (BatchNormalization)                                       [0][0]']                         \n",
      "                                                                                                  \n",
      " normal_add_1_6 (Add)           (None, 14, 14, 88)   0           ['separable_conv_2_bn_normal_left\n",
      "                                                                 1_6[0][0]',                      \n",
      "                                                                  'separable_conv_2_bn_normal_righ\n",
      "                                                                 t1_6[0][0]']                     \n",
      "                                                                                                  \n",
      " normal_add_2_6 (Add)           (None, 14, 14, 88)   0           ['separable_conv_2_bn_normal_left\n",
      "                                                                 2_6[0][0]',                      \n",
      "                                                                  'separable_conv_2_bn_normal_righ\n",
      "                                                                 t2_6[0][0]']                     \n",
      "                                                                                                  \n",
      " normal_add_3_6 (Add)           (None, 14, 14, 88)   0           ['normal_left3_6[0][0]',         \n",
      "                                                                  'adjust_bn_6[0][0]']            \n",
      "                                                                                                  \n",
      " normal_add_4_6 (Add)           (None, 14, 14, 88)   0           ['normal_left4_6[0][0]',         \n",
      "                                                                  'normal_right4_6[0][0]']        \n",
      "                                                                                                  \n",
      " normal_add_5_6 (Add)           (None, 14, 14, 88)   0           ['separable_conv_2_bn_normal_left\n",
      "                                                                 5_6[0][0]',                      \n",
      "                                                                  'normal_bn_1_6[0][0]']          \n",
      "                                                                                                  \n",
      " normal_concat_6 (Concatenate)  (None, 14, 14, 528)  0           ['adjust_bn_6[0][0]',            \n",
      "                                                                  'normal_add_1_6[0][0]',         \n",
      "                                                                  'normal_add_2_6[0][0]',         \n",
      "                                                                  'normal_add_3_6[0][0]',         \n",
      "                                                                  'normal_add_4_6[0][0]',         \n",
      "                                                                  'normal_add_5_6[0][0]']         \n",
      "                                                                                                  \n",
      " activation_104 (Activation)    (None, 14, 14, 528)  0           ['normal_concat_5[0][0]']        \n",
      "                                                                                                  \n",
      " activation_105 (Activation)    (None, 14, 14, 528)  0           ['normal_concat_6[0][0]']        \n",
      "                                                                                                  \n",
      " adjust_conv_projection_7 (Conv  (None, 14, 14, 88)  46464       ['activation_104[0][0]']         \n",
      " 2D)                                                                                              \n",
      "                                                                                                  \n",
      " normal_conv_1_7 (Conv2D)       (None, 14, 14, 88)   46464       ['activation_105[0][0]']         \n",
      "                                                                                                  \n",
      " adjust_bn_7 (BatchNormalizatio  (None, 14, 14, 88)  352         ['adjust_conv_projection_7[0][0]'\n",
      " n)                                                              ]                                \n",
      "                                                                                                  \n",
      " normal_bn_1_7 (BatchNormalizat  (None, 14, 14, 88)  352         ['normal_conv_1_7[0][0]']        \n",
      " ion)                                                                                             \n",
      "                                                                                                  \n",
      " activation_106 (Activation)    (None, 14, 14, 88)   0           ['normal_bn_1_7[0][0]']          \n",
      "                                                                                                  \n",
      " activation_108 (Activation)    (None, 14, 14, 88)   0           ['adjust_bn_7[0][0]']            \n",
      "                                                                                                  \n",
      " activation_110 (Activation)    (None, 14, 14, 88)   0           ['adjust_bn_7[0][0]']            \n",
      "                                                                                                  \n",
      " activation_112 (Activation)    (None, 14, 14, 88)   0           ['adjust_bn_7[0][0]']            \n",
      "                                                                                                  \n",
      " activation_114 (Activation)    (None, 14, 14, 88)   0           ['normal_bn_1_7[0][0]']          \n",
      "                                                                                                  \n",
      " separable_conv_1_normal_left1_  (None, 14, 14, 88)  9944        ['activation_106[0][0]']         \n",
      " 7 (SeparableConv2D)                                                                              \n",
      "                                                                                                  \n",
      " separable_conv_1_normal_right1  (None, 14, 14, 88)  8536        ['activation_108[0][0]']         \n",
      " _7 (SeparableConv2D)                                                                             \n",
      "                                                                                                  \n",
      " separable_conv_1_normal_left2_  (None, 14, 14, 88)  9944        ['activation_110[0][0]']         \n",
      " 7 (SeparableConv2D)                                                                              \n",
      "                                                                                                  \n",
      " separable_conv_1_normal_right2  (None, 14, 14, 88)  8536        ['activation_112[0][0]']         \n",
      " _7 (SeparableConv2D)                                                                             \n",
      "                                                                                                  \n",
      " separable_conv_1_normal_left5_  (None, 14, 14, 88)  8536        ['activation_114[0][0]']         \n",
      " 7 (SeparableConv2D)                                                                              \n",
      "                                                                                                  \n",
      " separable_conv_1_bn_normal_lef  (None, 14, 14, 88)  352         ['separable_conv_1_normal_left1_7\n",
      " t1_7 (BatchNormalization)                                       [0][0]']                         \n",
      "                                                                                                  \n",
      " separable_conv_1_bn_normal_rig  (None, 14, 14, 88)  352         ['separable_conv_1_normal_right1_\n",
      " ht1_7 (BatchNormalization)                                      7[0][0]']                        \n",
      "                                                                                                  \n",
      " separable_conv_1_bn_normal_lef  (None, 14, 14, 88)  352         ['separable_conv_1_normal_left2_7\n",
      " t2_7 (BatchNormalization)                                       [0][0]']                         \n",
      "                                                                                                  \n",
      " separable_conv_1_bn_normal_rig  (None, 14, 14, 88)  352         ['separable_conv_1_normal_right2_\n",
      " ht2_7 (BatchNormalization)                                      7[0][0]']                        \n",
      "                                                                                                  \n",
      " separable_conv_1_bn_normal_lef  (None, 14, 14, 88)  352         ['separable_conv_1_normal_left5_7\n",
      " t5_7 (BatchNormalization)                                       [0][0]']                         \n",
      "                                                                                                  \n",
      " activation_107 (Activation)    (None, 14, 14, 88)   0           ['separable_conv_1_bn_normal_left\n",
      "                                                                 1_7[0][0]']                      \n",
      "                                                                                                  \n",
      " activation_109 (Activation)    (None, 14, 14, 88)   0           ['separable_conv_1_bn_normal_righ\n",
      "                                                                 t1_7[0][0]']                     \n",
      "                                                                                                  \n",
      " activation_111 (Activation)    (None, 14, 14, 88)   0           ['separable_conv_1_bn_normal_left\n",
      "                                                                 2_7[0][0]']                      \n",
      "                                                                                                  \n",
      " activation_113 (Activation)    (None, 14, 14, 88)   0           ['separable_conv_1_bn_normal_righ\n",
      "                                                                 t2_7[0][0]']                     \n",
      "                                                                                                  \n",
      " activation_115 (Activation)    (None, 14, 14, 88)   0           ['separable_conv_1_bn_normal_left\n",
      "                                                                 5_7[0][0]']                      \n",
      "                                                                                                  \n",
      " separable_conv_2_normal_left1_  (None, 14, 14, 88)  9944        ['activation_107[0][0]']         \n",
      " 7 (SeparableConv2D)                                                                              \n",
      "                                                                                                  \n",
      " separable_conv_2_normal_right1  (None, 14, 14, 88)  8536        ['activation_109[0][0]']         \n",
      " _7 (SeparableConv2D)                                                                             \n",
      "                                                                                                  \n",
      " separable_conv_2_normal_left2_  (None, 14, 14, 88)  9944        ['activation_111[0][0]']         \n",
      " 7 (SeparableConv2D)                                                                              \n",
      "                                                                                                  \n",
      " separable_conv_2_normal_right2  (None, 14, 14, 88)  8536        ['activation_113[0][0]']         \n",
      " _7 (SeparableConv2D)                                                                             \n",
      "                                                                                                  \n",
      " separable_conv_2_normal_left5_  (None, 14, 14, 88)  8536        ['activation_115[0][0]']         \n",
      " 7 (SeparableConv2D)                                                                              \n",
      "                                                                                                  \n",
      " separable_conv_2_bn_normal_lef  (None, 14, 14, 88)  352         ['separable_conv_2_normal_left1_7\n",
      " t1_7 (BatchNormalization)                                       [0][0]']                         \n",
      "                                                                                                  \n",
      " separable_conv_2_bn_normal_rig  (None, 14, 14, 88)  352         ['separable_conv_2_normal_right1_\n",
      " ht1_7 (BatchNormalization)                                      7[0][0]']                        \n",
      "                                                                                                  \n",
      " separable_conv_2_bn_normal_lef  (None, 14, 14, 88)  352         ['separable_conv_2_normal_left2_7\n",
      " t2_7 (BatchNormalization)                                       [0][0]']                         \n",
      "                                                                                                  \n",
      " separable_conv_2_bn_normal_rig  (None, 14, 14, 88)  352         ['separable_conv_2_normal_right2_\n",
      " ht2_7 (BatchNormalization)                                      7[0][0]']                        \n",
      "                                                                                                  \n",
      " normal_left3_7 (AveragePooling  (None, 14, 14, 88)  0           ['normal_bn_1_7[0][0]']          \n",
      " 2D)                                                                                              \n",
      "                                                                                                  \n",
      " normal_left4_7 (AveragePooling  (None, 14, 14, 88)  0           ['adjust_bn_7[0][0]']            \n",
      " 2D)                                                                                              \n",
      "                                                                                                  \n",
      " normal_right4_7 (AveragePoolin  (None, 14, 14, 88)  0           ['adjust_bn_7[0][0]']            \n",
      " g2D)                                                                                             \n",
      "                                                                                                  \n",
      " separable_conv_2_bn_normal_lef  (None, 14, 14, 88)  352         ['separable_conv_2_normal_left5_7\n",
      " t5_7 (BatchNormalization)                                       [0][0]']                         \n",
      "                                                                                                  \n",
      " normal_add_1_7 (Add)           (None, 14, 14, 88)   0           ['separable_conv_2_bn_normal_left\n",
      "                                                                 1_7[0][0]',                      \n",
      "                                                                  'separable_conv_2_bn_normal_righ\n",
      "                                                                 t1_7[0][0]']                     \n",
      "                                                                                                  \n",
      " normal_add_2_7 (Add)           (None, 14, 14, 88)   0           ['separable_conv_2_bn_normal_left\n",
      "                                                                 2_7[0][0]',                      \n",
      "                                                                  'separable_conv_2_bn_normal_righ\n",
      "                                                                 t2_7[0][0]']                     \n",
      "                                                                                                  \n",
      " normal_add_3_7 (Add)           (None, 14, 14, 88)   0           ['normal_left3_7[0][0]',         \n",
      "                                                                  'adjust_bn_7[0][0]']            \n",
      "                                                                                                  \n",
      " normal_add_4_7 (Add)           (None, 14, 14, 88)   0           ['normal_left4_7[0][0]',         \n",
      "                                                                  'normal_right4_7[0][0]']        \n",
      "                                                                                                  \n",
      " normal_add_5_7 (Add)           (None, 14, 14, 88)   0           ['separable_conv_2_bn_normal_left\n",
      "                                                                 5_7[0][0]',                      \n",
      "                                                                  'normal_bn_1_7[0][0]']          \n",
      "                                                                                                  \n",
      " normal_concat_7 (Concatenate)  (None, 14, 14, 528)  0           ['adjust_bn_7[0][0]',            \n",
      "                                                                  'normal_add_1_7[0][0]',         \n",
      "                                                                  'normal_add_2_7[0][0]',         \n",
      "                                                                  'normal_add_3_7[0][0]',         \n",
      "                                                                  'normal_add_4_7[0][0]',         \n",
      "                                                                  'normal_add_5_7[0][0]']         \n",
      "                                                                                                  \n",
      " activation_116 (Activation)    (None, 14, 14, 528)  0           ['normal_concat_6[0][0]']        \n",
      "                                                                                                  \n",
      " activation_117 (Activation)    (None, 14, 14, 528)  0           ['normal_concat_7[0][0]']        \n",
      "                                                                                                  \n",
      " adjust_conv_projection_8 (Conv  (None, 14, 14, 88)  46464       ['activation_116[0][0]']         \n",
      " 2D)                                                                                              \n",
      "                                                                                                  \n",
      " normal_conv_1_8 (Conv2D)       (None, 14, 14, 88)   46464       ['activation_117[0][0]']         \n",
      "                                                                                                  \n",
      " adjust_bn_8 (BatchNormalizatio  (None, 14, 14, 88)  352         ['adjust_conv_projection_8[0][0]'\n",
      " n)                                                              ]                                \n",
      "                                                                                                  \n",
      " normal_bn_1_8 (BatchNormalizat  (None, 14, 14, 88)  352         ['normal_conv_1_8[0][0]']        \n",
      " ion)                                                                                             \n",
      "                                                                                                  \n",
      " activation_118 (Activation)    (None, 14, 14, 88)   0           ['normal_bn_1_8[0][0]']          \n",
      "                                                                                                  \n",
      " activation_120 (Activation)    (None, 14, 14, 88)   0           ['adjust_bn_8[0][0]']            \n",
      "                                                                                                  \n",
      " activation_122 (Activation)    (None, 14, 14, 88)   0           ['adjust_bn_8[0][0]']            \n",
      "                                                                                                  \n",
      " activation_124 (Activation)    (None, 14, 14, 88)   0           ['adjust_bn_8[0][0]']            \n",
      "                                                                                                  \n",
      " activation_126 (Activation)    (None, 14, 14, 88)   0           ['normal_bn_1_8[0][0]']          \n",
      "                                                                                                  \n",
      " separable_conv_1_normal_left1_  (None, 14, 14, 88)  9944        ['activation_118[0][0]']         \n",
      " 8 (SeparableConv2D)                                                                              \n",
      "                                                                                                  \n",
      " separable_conv_1_normal_right1  (None, 14, 14, 88)  8536        ['activation_120[0][0]']         \n",
      " _8 (SeparableConv2D)                                                                             \n",
      "                                                                                                  \n",
      " separable_conv_1_normal_left2_  (None, 14, 14, 88)  9944        ['activation_122[0][0]']         \n",
      " 8 (SeparableConv2D)                                                                              \n",
      "                                                                                                  \n",
      " separable_conv_1_normal_right2  (None, 14, 14, 88)  8536        ['activation_124[0][0]']         \n",
      " _8 (SeparableConv2D)                                                                             \n",
      "                                                                                                  \n",
      " separable_conv_1_normal_left5_  (None, 14, 14, 88)  8536        ['activation_126[0][0]']         \n",
      " 8 (SeparableConv2D)                                                                              \n",
      "                                                                                                  \n",
      " separable_conv_1_bn_normal_lef  (None, 14, 14, 88)  352         ['separable_conv_1_normal_left1_8\n",
      " t1_8 (BatchNormalization)                                       [0][0]']                         \n",
      "                                                                                                  \n",
      " separable_conv_1_bn_normal_rig  (None, 14, 14, 88)  352         ['separable_conv_1_normal_right1_\n",
      " ht1_8 (BatchNormalization)                                      8[0][0]']                        \n",
      "                                                                                                  \n",
      " separable_conv_1_bn_normal_lef  (None, 14, 14, 88)  352         ['separable_conv_1_normal_left2_8\n",
      " t2_8 (BatchNormalization)                                       [0][0]']                         \n",
      "                                                                                                  \n",
      " separable_conv_1_bn_normal_rig  (None, 14, 14, 88)  352         ['separable_conv_1_normal_right2_\n",
      " ht2_8 (BatchNormalization)                                      8[0][0]']                        \n",
      "                                                                                                  \n",
      " separable_conv_1_bn_normal_lef  (None, 14, 14, 88)  352         ['separable_conv_1_normal_left5_8\n",
      " t5_8 (BatchNormalization)                                       [0][0]']                         \n",
      "                                                                                                  \n",
      " activation_119 (Activation)    (None, 14, 14, 88)   0           ['separable_conv_1_bn_normal_left\n",
      "                                                                 1_8[0][0]']                      \n",
      "                                                                                                  \n",
      " activation_121 (Activation)    (None, 14, 14, 88)   0           ['separable_conv_1_bn_normal_righ\n",
      "                                                                 t1_8[0][0]']                     \n",
      "                                                                                                  \n",
      " activation_123 (Activation)    (None, 14, 14, 88)   0           ['separable_conv_1_bn_normal_left\n",
      "                                                                 2_8[0][0]']                      \n",
      "                                                                                                  \n",
      " activation_125 (Activation)    (None, 14, 14, 88)   0           ['separable_conv_1_bn_normal_righ\n",
      "                                                                 t2_8[0][0]']                     \n",
      "                                                                                                  \n",
      " activation_127 (Activation)    (None, 14, 14, 88)   0           ['separable_conv_1_bn_normal_left\n",
      "                                                                 5_8[0][0]']                      \n",
      "                                                                                                  \n",
      " separable_conv_2_normal_left1_  (None, 14, 14, 88)  9944        ['activation_119[0][0]']         \n",
      " 8 (SeparableConv2D)                                                                              \n",
      "                                                                                                  \n",
      " separable_conv_2_normal_right1  (None, 14, 14, 88)  8536        ['activation_121[0][0]']         \n",
      " _8 (SeparableConv2D)                                                                             \n",
      "                                                                                                  \n",
      " separable_conv_2_normal_left2_  (None, 14, 14, 88)  9944        ['activation_123[0][0]']         \n",
      " 8 (SeparableConv2D)                                                                              \n",
      "                                                                                                  \n",
      " separable_conv_2_normal_right2  (None, 14, 14, 88)  8536        ['activation_125[0][0]']         \n",
      " _8 (SeparableConv2D)                                                                             \n",
      "                                                                                                  \n",
      " separable_conv_2_normal_left5_  (None, 14, 14, 88)  8536        ['activation_127[0][0]']         \n",
      " 8 (SeparableConv2D)                                                                              \n",
      "                                                                                                  \n",
      " separable_conv_2_bn_normal_lef  (None, 14, 14, 88)  352         ['separable_conv_2_normal_left1_8\n",
      " t1_8 (BatchNormalization)                                       [0][0]']                         \n",
      "                                                                                                  \n",
      " separable_conv_2_bn_normal_rig  (None, 14, 14, 88)  352         ['separable_conv_2_normal_right1_\n",
      " ht1_8 (BatchNormalization)                                      8[0][0]']                        \n",
      "                                                                                                  \n",
      " separable_conv_2_bn_normal_lef  (None, 14, 14, 88)  352         ['separable_conv_2_normal_left2_8\n",
      " t2_8 (BatchNormalization)                                       [0][0]']                         \n",
      "                                                                                                  \n",
      " separable_conv_2_bn_normal_rig  (None, 14, 14, 88)  352         ['separable_conv_2_normal_right2_\n",
      " ht2_8 (BatchNormalization)                                      8[0][0]']                        \n",
      "                                                                                                  \n",
      " normal_left3_8 (AveragePooling  (None, 14, 14, 88)  0           ['normal_bn_1_8[0][0]']          \n",
      " 2D)                                                                                              \n",
      "                                                                                                  \n",
      " normal_left4_8 (AveragePooling  (None, 14, 14, 88)  0           ['adjust_bn_8[0][0]']            \n",
      " 2D)                                                                                              \n",
      "                                                                                                  \n",
      " normal_right4_8 (AveragePoolin  (None, 14, 14, 88)  0           ['adjust_bn_8[0][0]']            \n",
      " g2D)                                                                                             \n",
      "                                                                                                  \n",
      " separable_conv_2_bn_normal_lef  (None, 14, 14, 88)  352         ['separable_conv_2_normal_left5_8\n",
      " t5_8 (BatchNormalization)                                       [0][0]']                         \n",
      "                                                                                                  \n",
      " normal_add_1_8 (Add)           (None, 14, 14, 88)   0           ['separable_conv_2_bn_normal_left\n",
      "                                                                 1_8[0][0]',                      \n",
      "                                                                  'separable_conv_2_bn_normal_righ\n",
      "                                                                 t1_8[0][0]']                     \n",
      "                                                                                                  \n",
      " normal_add_2_8 (Add)           (None, 14, 14, 88)   0           ['separable_conv_2_bn_normal_left\n",
      "                                                                 2_8[0][0]',                      \n",
      "                                                                  'separable_conv_2_bn_normal_righ\n",
      "                                                                 t2_8[0][0]']                     \n",
      "                                                                                                  \n",
      " normal_add_3_8 (Add)           (None, 14, 14, 88)   0           ['normal_left3_8[0][0]',         \n",
      "                                                                  'adjust_bn_8[0][0]']            \n",
      "                                                                                                  \n",
      " normal_add_4_8 (Add)           (None, 14, 14, 88)   0           ['normal_left4_8[0][0]',         \n",
      "                                                                  'normal_right4_8[0][0]']        \n",
      "                                                                                                  \n",
      " normal_add_5_8 (Add)           (None, 14, 14, 88)   0           ['separable_conv_2_bn_normal_left\n",
      "                                                                 5_8[0][0]',                      \n",
      "                                                                  'normal_bn_1_8[0][0]']          \n",
      "                                                                                                  \n",
      " normal_concat_8 (Concatenate)  (None, 14, 14, 528)  0           ['adjust_bn_8[0][0]',            \n",
      "                                                                  'normal_add_1_8[0][0]',         \n",
      "                                                                  'normal_add_2_8[0][0]',         \n",
      "                                                                  'normal_add_3_8[0][0]',         \n",
      "                                                                  'normal_add_4_8[0][0]',         \n",
      "                                                                  'normal_add_5_8[0][0]']         \n",
      "                                                                                                  \n",
      " activation_129 (Activation)    (None, 14, 14, 528)  0           ['normal_concat_8[0][0]']        \n",
      "                                                                                                  \n",
      " activation_128 (Activation)    (None, 14, 14, 528)  0           ['normal_concat_7[0][0]']        \n",
      "                                                                                                  \n",
      " reduction_conv_1_reduce_8 (Con  (None, 14, 14, 176)  92928      ['activation_129[0][0]']         \n",
      " v2D)                                                                                             \n",
      "                                                                                                  \n",
      " adjust_conv_projection_reduce_  (None, 14, 14, 176)  92928      ['activation_128[0][0]']         \n",
      " 8 (Conv2D)                                                                                       \n",
      "                                                                                                  \n",
      " reduction_bn_1_reduce_8 (Batch  (None, 14, 14, 176)  704        ['reduction_conv_1_reduce_8[0][0]\n",
      " Normalization)                                                  ']                               \n",
      "                                                                                                  \n",
      " adjust_bn_reduce_8 (BatchNorma  (None, 14, 14, 176)  704        ['adjust_conv_projection_reduce_8\n",
      " lization)                                                       [0][0]']                         \n",
      "                                                                                                  \n",
      " activation_130 (Activation)    (None, 14, 14, 176)  0           ['reduction_bn_1_reduce_8[0][0]']\n",
      "                                                                                                  \n",
      " activation_132 (Activation)    (None, 14, 14, 176)  0           ['adjust_bn_reduce_8[0][0]']     \n",
      "                                                                                                  \n",
      " separable_conv_1_pad_reduction  (None, 17, 17, 176)  0          ['activation_130[0][0]']         \n",
      " _left1_reduce_8 (ZeroPadding2D                                                                   \n",
      " )                                                                                                \n",
      "                                                                                                  \n",
      " separable_conv_1_pad_reduction  (None, 19, 19, 176)  0          ['activation_132[0][0]']         \n",
      " _right1_reduce_8 (ZeroPadding2                                                                   \n",
      " D)                                                                                               \n",
      "                                                                                                  \n",
      " separable_conv_1_reduction_lef  (None, 7, 7, 176)   35376       ['separable_conv_1_pad_reduction_\n",
      " t1_reduce_8 (SeparableConv2D)                                   left1_reduce_8[0][0]']           \n",
      "                                                                                                  \n",
      " separable_conv_1_reduction_rig  (None, 7, 7, 176)   39600       ['separable_conv_1_pad_reduction_\n",
      " ht1_reduce_8 (SeparableConv2D)                                  right1_reduce_8[0][0]']          \n",
      "                                                                                                  \n",
      " separable_conv_1_bn_reduction_  (None, 7, 7, 176)   704         ['separable_conv_1_reduction_left\n",
      " left1_reduce_8 (BatchNormaliza                                  1_reduce_8[0][0]']               \n",
      " tion)                                                                                            \n",
      "                                                                                                  \n",
      " separable_conv_1_bn_reduction_  (None, 7, 7, 176)   704         ['separable_conv_1_reduction_righ\n",
      " right1_reduce_8 (BatchNormaliz                                  t1_reduce_8[0][0]']              \n",
      " ation)                                                                                           \n",
      "                                                                                                  \n",
      " activation_131 (Activation)    (None, 7, 7, 176)    0           ['separable_conv_1_bn_reduction_l\n",
      "                                                                 eft1_reduce_8[0][0]']            \n",
      "                                                                                                  \n",
      " activation_133 (Activation)    (None, 7, 7, 176)    0           ['separable_conv_1_bn_reduction_r\n",
      "                                                                 ight1_reduce_8[0][0]']           \n",
      "                                                                                                  \n",
      " separable_conv_2_reduction_lef  (None, 7, 7, 176)   35376       ['activation_131[0][0]']         \n",
      " t1_reduce_8 (SeparableConv2D)                                                                    \n",
      "                                                                                                  \n",
      " separable_conv_2_reduction_rig  (None, 7, 7, 176)   39600       ['activation_133[0][0]']         \n",
      " ht1_reduce_8 (SeparableConv2D)                                                                   \n",
      "                                                                                                  \n",
      " activation_134 (Activation)    (None, 14, 14, 176)  0           ['adjust_bn_reduce_8[0][0]']     \n",
      "                                                                                                  \n",
      " separable_conv_2_bn_reduction_  (None, 7, 7, 176)   704         ['separable_conv_2_reduction_left\n",
      " left1_reduce_8 (BatchNormaliza                                  1_reduce_8[0][0]']               \n",
      " tion)                                                                                            \n",
      "                                                                                                  \n",
      " separable_conv_2_bn_reduction_  (None, 7, 7, 176)   704         ['separable_conv_2_reduction_righ\n",
      " right1_reduce_8 (BatchNormaliz                                  t1_reduce_8[0][0]']              \n",
      " ation)                                                                                           \n",
      "                                                                                                  \n",
      " separable_conv_1_pad_reduction  (None, 19, 19, 176)  0          ['activation_134[0][0]']         \n",
      " _right2_reduce_8 (ZeroPadding2                                                                   \n",
      " D)                                                                                               \n",
      "                                                                                                  \n",
      " activation_136 (Activation)    (None, 14, 14, 176)  0           ['adjust_bn_reduce_8[0][0]']     \n",
      "                                                                                                  \n",
      " reduction_add_1_reduce_8 (Add)  (None, 7, 7, 176)   0           ['separable_conv_2_bn_reduction_l\n",
      "                                                                 eft1_reduce_8[0][0]',            \n",
      "                                                                  'separable_conv_2_bn_reduction_r\n",
      "                                                                 ight1_reduce_8[0][0]']           \n",
      "                                                                                                  \n",
      " separable_conv_1_reduction_rig  (None, 7, 7, 176)   39600       ['separable_conv_1_pad_reduction_\n",
      " ht2_reduce_8 (SeparableConv2D)                                  right2_reduce_8[0][0]']          \n",
      "                                                                                                  \n",
      " separable_conv_1_pad_reduction  (None, 17, 17, 176)  0          ['activation_136[0][0]']         \n",
      " _right3_reduce_8 (ZeroPadding2                                                                   \n",
      " D)                                                                                               \n",
      "                                                                                                  \n",
      " activation_138 (Activation)    (None, 7, 7, 176)    0           ['reduction_add_1_reduce_8[0][0]'\n",
      "                                                                 ]                                \n",
      "                                                                                                  \n",
      " separable_conv_1_bn_reduction_  (None, 7, 7, 176)   704         ['separable_conv_1_reduction_righ\n",
      " right2_reduce_8 (BatchNormaliz                                  t2_reduce_8[0][0]']              \n",
      " ation)                                                                                           \n",
      "                                                                                                  \n",
      " separable_conv_1_reduction_rig  (None, 7, 7, 176)   35376       ['separable_conv_1_pad_reduction_\n",
      " ht3_reduce_8 (SeparableConv2D)                                  right3_reduce_8[0][0]']          \n",
      "                                                                                                  \n",
      " separable_conv_1_reduction_lef  (None, 7, 7, 176)   32560       ['activation_138[0][0]']         \n",
      " t4_reduce_8 (SeparableConv2D)                                                                    \n",
      "                                                                                                  \n",
      " activation_135 (Activation)    (None, 7, 7, 176)    0           ['separable_conv_1_bn_reduction_r\n",
      "                                                                 ight2_reduce_8[0][0]']           \n",
      "                                                                                                  \n",
      " separable_conv_1_bn_reduction_  (None, 7, 7, 176)   704         ['separable_conv_1_reduction_righ\n",
      " right3_reduce_8 (BatchNormaliz                                  t3_reduce_8[0][0]']              \n",
      " ation)                                                                                           \n",
      "                                                                                                  \n",
      " separable_conv_1_bn_reduction_  (None, 7, 7, 176)   704         ['separable_conv_1_reduction_left\n",
      " left4_reduce_8 (BatchNormaliza                                  4_reduce_8[0][0]']               \n",
      " tion)                                                                                            \n",
      "                                                                                                  \n",
      " reduction_pad_1_reduce_8 (Zero  (None, 15, 15, 176)  0          ['reduction_bn_1_reduce_8[0][0]']\n",
      " Padding2D)                                                                                       \n",
      "                                                                                                  \n",
      " separable_conv_2_reduction_rig  (None, 7, 7, 176)   39600       ['activation_135[0][0]']         \n",
      " ht2_reduce_8 (SeparableConv2D)                                                                   \n",
      "                                                                                                  \n",
      " activation_137 (Activation)    (None, 7, 7, 176)    0           ['separable_conv_1_bn_reduction_r\n",
      "                                                                 ight3_reduce_8[0][0]']           \n",
      "                                                                                                  \n",
      " activation_139 (Activation)    (None, 7, 7, 176)    0           ['separable_conv_1_bn_reduction_l\n",
      "                                                                 eft4_reduce_8[0][0]']            \n",
      "                                                                                                  \n",
      " reduction_left2_reduce_8 (MaxP  (None, 7, 7, 176)   0           ['reduction_pad_1_reduce_8[0][0]'\n",
      " ooling2D)                                                       ]                                \n",
      "                                                                                                  \n",
      " separable_conv_2_bn_reduction_  (None, 7, 7, 176)   704         ['separable_conv_2_reduction_righ\n",
      " right2_reduce_8 (BatchNormaliz                                  t2_reduce_8[0][0]']              \n",
      " ation)                                                                                           \n",
      "                                                                                                  \n",
      " separable_conv_2_reduction_rig  (None, 7, 7, 176)   35376       ['activation_137[0][0]']         \n",
      " ht3_reduce_8 (SeparableConv2D)                                                                   \n",
      "                                                                                                  \n",
      " separable_conv_2_reduction_lef  (None, 7, 7, 176)   32560       ['activation_139[0][0]']         \n",
      " t4_reduce_8 (SeparableConv2D)                                                                    \n",
      "                                                                                                  \n",
      " adjust_relu_1_9 (Activation)   (None, 14, 14, 528)  0           ['normal_concat_8[0][0]']        \n",
      "                                                                                                  \n",
      " reduction_add_2_reduce_8 (Add)  (None, 7, 7, 176)   0           ['reduction_left2_reduce_8[0][0]'\n",
      "                                                                 , 'separable_conv_2_bn_reduction_\n",
      "                                                                 right2_reduce_8[0][0]']          \n",
      "                                                                                                  \n",
      " reduction_left3_reduce_8 (Aver  (None, 7, 7, 176)   0           ['reduction_pad_1_reduce_8[0][0]'\n",
      " agePooling2D)                                                   ]                                \n",
      "                                                                                                  \n",
      " separable_conv_2_bn_reduction_  (None, 7, 7, 176)   704         ['separable_conv_2_reduction_righ\n",
      " right3_reduce_8 (BatchNormaliz                                  t3_reduce_8[0][0]']              \n",
      " ation)                                                                                           \n",
      "                                                                                                  \n",
      " reduction_left4_reduce_8 (Aver  (None, 7, 7, 176)   0           ['reduction_add_1_reduce_8[0][0]'\n",
      " agePooling2D)                                                   ]                                \n",
      "                                                                                                  \n",
      " separable_conv_2_bn_reduction_  (None, 7, 7, 176)   704         ['separable_conv_2_reduction_left\n",
      " left4_reduce_8 (BatchNormaliza                                  4_reduce_8[0][0]']               \n",
      " tion)                                                                                            \n",
      "                                                                                                  \n",
      " reduction_right5_reduce_8 (Max  (None, 7, 7, 176)   0           ['reduction_pad_1_reduce_8[0][0]'\n",
      " Pooling2D)                                                      ]                                \n",
      "                                                                                                  \n",
      " zero_padding2d_3 (ZeroPadding2  (None, 15, 15, 528)  0          ['adjust_relu_1_9[0][0]']        \n",
      " D)                                                                                               \n",
      "                                                                                                  \n",
      " reduction_add3_reduce_8 (Add)  (None, 7, 7, 176)    0           ['reduction_left3_reduce_8[0][0]'\n",
      "                                                                 , 'separable_conv_2_bn_reduction_\n",
      "                                                                 right3_reduce_8[0][0]']          \n",
      "                                                                                                  \n",
      " add_3 (Add)                    (None, 7, 7, 176)    0           ['reduction_add_2_reduce_8[0][0]'\n",
      "                                                                 , 'reduction_left4_reduce_8[0][0]\n",
      "                                                                 ']                               \n",
      "                                                                                                  \n",
      " reduction_add4_reduce_8 (Add)  (None, 7, 7, 176)    0           ['separable_conv_2_bn_reduction_l\n",
      "                                                                 eft4_reduce_8[0][0]',            \n",
      "                                                                  'reduction_right5_reduce_8[0][0]\n",
      "                                                                 ']                               \n",
      "                                                                                                  \n",
      " cropping2d_3 (Cropping2D)      (None, 14, 14, 528)  0           ['zero_padding2d_3[0][0]']       \n",
      "                                                                                                  \n",
      " reduction_concat_reduce_8 (Con  (None, 7, 7, 704)   0           ['reduction_add_2_reduce_8[0][0]'\n",
      " catenate)                                                       , 'reduction_add3_reduce_8[0][0]'\n",
      "                                                                 , 'add_3[0][0]',                 \n",
      "                                                                  'reduction_add4_reduce_8[0][0]']\n",
      "                                                                                                  \n",
      " adjust_avg_pool_1_9 (AveragePo  (None, 7, 7, 528)   0           ['adjust_relu_1_9[0][0]']        \n",
      " oling2D)                                                                                         \n",
      "                                                                                                  \n",
      " adjust_avg_pool_2_9 (AveragePo  (None, 7, 7, 528)   0           ['cropping2d_3[0][0]']           \n",
      " oling2D)                                                                                         \n",
      "                                                                                                  \n",
      " adjust_conv_1_9 (Conv2D)       (None, 7, 7, 88)     46464       ['adjust_avg_pool_1_9[0][0]']    \n",
      "                                                                                                  \n",
      " adjust_conv_2_9 (Conv2D)       (None, 7, 7, 88)     46464       ['adjust_avg_pool_2_9[0][0]']    \n",
      "                                                                                                  \n",
      " activation_140 (Activation)    (None, 7, 7, 704)    0           ['reduction_concat_reduce_8[0][0]\n",
      "                                                                 ']                               \n",
      "                                                                                                  \n",
      " concatenate_3 (Concatenate)    (None, 7, 7, 176)    0           ['adjust_conv_1_9[0][0]',        \n",
      "                                                                  'adjust_conv_2_9[0][0]']        \n",
      "                                                                                                  \n",
      " normal_conv_1_9 (Conv2D)       (None, 7, 7, 176)    123904      ['activation_140[0][0]']         \n",
      "                                                                                                  \n",
      " adjust_bn_9 (BatchNormalizatio  (None, 7, 7, 176)   704         ['concatenate_3[0][0]']          \n",
      " n)                                                                                               \n",
      "                                                                                                  \n",
      " normal_bn_1_9 (BatchNormalizat  (None, 7, 7, 176)   704         ['normal_conv_1_9[0][0]']        \n",
      " ion)                                                                                             \n",
      "                                                                                                  \n",
      " activation_141 (Activation)    (None, 7, 7, 176)    0           ['normal_bn_1_9[0][0]']          \n",
      "                                                                                                  \n",
      " activation_143 (Activation)    (None, 7, 7, 176)    0           ['adjust_bn_9[0][0]']            \n",
      "                                                                                                  \n",
      " activation_145 (Activation)    (None, 7, 7, 176)    0           ['adjust_bn_9[0][0]']            \n",
      "                                                                                                  \n",
      " activation_147 (Activation)    (None, 7, 7, 176)    0           ['adjust_bn_9[0][0]']            \n",
      "                                                                                                  \n",
      " activation_149 (Activation)    (None, 7, 7, 176)    0           ['normal_bn_1_9[0][0]']          \n",
      "                                                                                                  \n",
      " separable_conv_1_normal_left1_  (None, 7, 7, 176)   35376       ['activation_141[0][0]']         \n",
      " 9 (SeparableConv2D)                                                                              \n",
      "                                                                                                  \n",
      " separable_conv_1_normal_right1  (None, 7, 7, 176)   32560       ['activation_143[0][0]']         \n",
      " _9 (SeparableConv2D)                                                                             \n",
      "                                                                                                  \n",
      " separable_conv_1_normal_left2_  (None, 7, 7, 176)   35376       ['activation_145[0][0]']         \n",
      " 9 (SeparableConv2D)                                                                              \n",
      "                                                                                                  \n",
      " separable_conv_1_normal_right2  (None, 7, 7, 176)   32560       ['activation_147[0][0]']         \n",
      " _9 (SeparableConv2D)                                                                             \n",
      "                                                                                                  \n",
      " separable_conv_1_normal_left5_  (None, 7, 7, 176)   32560       ['activation_149[0][0]']         \n",
      " 9 (SeparableConv2D)                                                                              \n",
      "                                                                                                  \n",
      " separable_conv_1_bn_normal_lef  (None, 7, 7, 176)   704         ['separable_conv_1_normal_left1_9\n",
      " t1_9 (BatchNormalization)                                       [0][0]']                         \n",
      "                                                                                                  \n",
      " separable_conv_1_bn_normal_rig  (None, 7, 7, 176)   704         ['separable_conv_1_normal_right1_\n",
      " ht1_9 (BatchNormalization)                                      9[0][0]']                        \n",
      "                                                                                                  \n",
      " separable_conv_1_bn_normal_lef  (None, 7, 7, 176)   704         ['separable_conv_1_normal_left2_9\n",
      " t2_9 (BatchNormalization)                                       [0][0]']                         \n",
      "                                                                                                  \n",
      " separable_conv_1_bn_normal_rig  (None, 7, 7, 176)   704         ['separable_conv_1_normal_right2_\n",
      " ht2_9 (BatchNormalization)                                      9[0][0]']                        \n",
      "                                                                                                  \n",
      " separable_conv_1_bn_normal_lef  (None, 7, 7, 176)   704         ['separable_conv_1_normal_left5_9\n",
      " t5_9 (BatchNormalization)                                       [0][0]']                         \n",
      "                                                                                                  \n",
      " activation_142 (Activation)    (None, 7, 7, 176)    0           ['separable_conv_1_bn_normal_left\n",
      "                                                                 1_9[0][0]']                      \n",
      "                                                                                                  \n",
      " activation_144 (Activation)    (None, 7, 7, 176)    0           ['separable_conv_1_bn_normal_righ\n",
      "                                                                 t1_9[0][0]']                     \n",
      "                                                                                                  \n",
      " activation_146 (Activation)    (None, 7, 7, 176)    0           ['separable_conv_1_bn_normal_left\n",
      "                                                                 2_9[0][0]']                      \n",
      "                                                                                                  \n",
      " activation_148 (Activation)    (None, 7, 7, 176)    0           ['separable_conv_1_bn_normal_righ\n",
      "                                                                 t2_9[0][0]']                     \n",
      "                                                                                                  \n",
      " activation_150 (Activation)    (None, 7, 7, 176)    0           ['separable_conv_1_bn_normal_left\n",
      "                                                                 5_9[0][0]']                      \n",
      "                                                                                                  \n",
      " separable_conv_2_normal_left1_  (None, 7, 7, 176)   35376       ['activation_142[0][0]']         \n",
      " 9 (SeparableConv2D)                                                                              \n",
      "                                                                                                  \n",
      " separable_conv_2_normal_right1  (None, 7, 7, 176)   32560       ['activation_144[0][0]']         \n",
      " _9 (SeparableConv2D)                                                                             \n",
      "                                                                                                  \n",
      " separable_conv_2_normal_left2_  (None, 7, 7, 176)   35376       ['activation_146[0][0]']         \n",
      " 9 (SeparableConv2D)                                                                              \n",
      "                                                                                                  \n",
      " separable_conv_2_normal_right2  (None, 7, 7, 176)   32560       ['activation_148[0][0]']         \n",
      " _9 (SeparableConv2D)                                                                             \n",
      "                                                                                                  \n",
      " separable_conv_2_normal_left5_  (None, 7, 7, 176)   32560       ['activation_150[0][0]']         \n",
      " 9 (SeparableConv2D)                                                                              \n",
      "                                                                                                  \n",
      " separable_conv_2_bn_normal_lef  (None, 7, 7, 176)   704         ['separable_conv_2_normal_left1_9\n",
      " t1_9 (BatchNormalization)                                       [0][0]']                         \n",
      "                                                                                                  \n",
      " separable_conv_2_bn_normal_rig  (None, 7, 7, 176)   704         ['separable_conv_2_normal_right1_\n",
      " ht1_9 (BatchNormalization)                                      9[0][0]']                        \n",
      "                                                                                                  \n",
      " separable_conv_2_bn_normal_lef  (None, 7, 7, 176)   704         ['separable_conv_2_normal_left2_9\n",
      " t2_9 (BatchNormalization)                                       [0][0]']                         \n",
      "                                                                                                  \n",
      " separable_conv_2_bn_normal_rig  (None, 7, 7, 176)   704         ['separable_conv_2_normal_right2_\n",
      " ht2_9 (BatchNormalization)                                      9[0][0]']                        \n",
      "                                                                                                  \n",
      " normal_left3_9 (AveragePooling  (None, 7, 7, 176)   0           ['normal_bn_1_9[0][0]']          \n",
      " 2D)                                                                                              \n",
      "                                                                                                  \n",
      " normal_left4_9 (AveragePooling  (None, 7, 7, 176)   0           ['adjust_bn_9[0][0]']            \n",
      " 2D)                                                                                              \n",
      "                                                                                                  \n",
      " normal_right4_9 (AveragePoolin  (None, 7, 7, 176)   0           ['adjust_bn_9[0][0]']            \n",
      " g2D)                                                                                             \n",
      "                                                                                                  \n",
      " separable_conv_2_bn_normal_lef  (None, 7, 7, 176)   704         ['separable_conv_2_normal_left5_9\n",
      " t5_9 (BatchNormalization)                                       [0][0]']                         \n",
      "                                                                                                  \n",
      " normal_add_1_9 (Add)           (None, 7, 7, 176)    0           ['separable_conv_2_bn_normal_left\n",
      "                                                                 1_9[0][0]',                      \n",
      "                                                                  'separable_conv_2_bn_normal_righ\n",
      "                                                                 t1_9[0][0]']                     \n",
      "                                                                                                  \n",
      " normal_add_2_9 (Add)           (None, 7, 7, 176)    0           ['separable_conv_2_bn_normal_left\n",
      "                                                                 2_9[0][0]',                      \n",
      "                                                                  'separable_conv_2_bn_normal_righ\n",
      "                                                                 t2_9[0][0]']                     \n",
      "                                                                                                  \n",
      " normal_add_3_9 (Add)           (None, 7, 7, 176)    0           ['normal_left3_9[0][0]',         \n",
      "                                                                  'adjust_bn_9[0][0]']            \n",
      "                                                                                                  \n",
      " normal_add_4_9 (Add)           (None, 7, 7, 176)    0           ['normal_left4_9[0][0]',         \n",
      "                                                                  'normal_right4_9[0][0]']        \n",
      "                                                                                                  \n",
      " normal_add_5_9 (Add)           (None, 7, 7, 176)    0           ['separable_conv_2_bn_normal_left\n",
      "                                                                 5_9[0][0]',                      \n",
      "                                                                  'normal_bn_1_9[0][0]']          \n",
      "                                                                                                  \n",
      " normal_concat_9 (Concatenate)  (None, 7, 7, 1056)   0           ['adjust_bn_9[0][0]',            \n",
      "                                                                  'normal_add_1_9[0][0]',         \n",
      "                                                                  'normal_add_2_9[0][0]',         \n",
      "                                                                  'normal_add_3_9[0][0]',         \n",
      "                                                                  'normal_add_4_9[0][0]',         \n",
      "                                                                  'normal_add_5_9[0][0]']         \n",
      "                                                                                                  \n",
      " activation_151 (Activation)    (None, 7, 7, 704)    0           ['reduction_concat_reduce_8[0][0]\n",
      "                                                                 ']                               \n",
      "                                                                                                  \n",
      " activation_152 (Activation)    (None, 7, 7, 1056)   0           ['normal_concat_9[0][0]']        \n",
      "                                                                                                  \n",
      " adjust_conv_projection_10 (Con  (None, 7, 7, 176)   123904      ['activation_151[0][0]']         \n",
      " v2D)                                                                                             \n",
      "                                                                                                  \n",
      " normal_conv_1_10 (Conv2D)      (None, 7, 7, 176)    185856      ['activation_152[0][0]']         \n",
      "                                                                                                  \n",
      " adjust_bn_10 (BatchNormalizati  (None, 7, 7, 176)   704         ['adjust_conv_projection_10[0][0]\n",
      " on)                                                             ']                               \n",
      "                                                                                                  \n",
      " normal_bn_1_10 (BatchNormaliza  (None, 7, 7, 176)   704         ['normal_conv_1_10[0][0]']       \n",
      " tion)                                                                                            \n",
      "                                                                                                  \n",
      " activation_153 (Activation)    (None, 7, 7, 176)    0           ['normal_bn_1_10[0][0]']         \n",
      "                                                                                                  \n",
      " activation_155 (Activation)    (None, 7, 7, 176)    0           ['adjust_bn_10[0][0]']           \n",
      "                                                                                                  \n",
      " activation_157 (Activation)    (None, 7, 7, 176)    0           ['adjust_bn_10[0][0]']           \n",
      "                                                                                                  \n",
      " activation_159 (Activation)    (None, 7, 7, 176)    0           ['adjust_bn_10[0][0]']           \n",
      "                                                                                                  \n",
      " activation_161 (Activation)    (None, 7, 7, 176)    0           ['normal_bn_1_10[0][0]']         \n",
      "                                                                                                  \n",
      " separable_conv_1_normal_left1_  (None, 7, 7, 176)   35376       ['activation_153[0][0]']         \n",
      " 10 (SeparableConv2D)                                                                             \n",
      "                                                                                                  \n",
      " separable_conv_1_normal_right1  (None, 7, 7, 176)   32560       ['activation_155[0][0]']         \n",
      " _10 (SeparableConv2D)                                                                            \n",
      "                                                                                                  \n",
      " separable_conv_1_normal_left2_  (None, 7, 7, 176)   35376       ['activation_157[0][0]']         \n",
      " 10 (SeparableConv2D)                                                                             \n",
      "                                                                                                  \n",
      " separable_conv_1_normal_right2  (None, 7, 7, 176)   32560       ['activation_159[0][0]']         \n",
      " _10 (SeparableConv2D)                                                                            \n",
      "                                                                                                  \n",
      " separable_conv_1_normal_left5_  (None, 7, 7, 176)   32560       ['activation_161[0][0]']         \n",
      " 10 (SeparableConv2D)                                                                             \n",
      "                                                                                                  \n",
      " separable_conv_1_bn_normal_lef  (None, 7, 7, 176)   704         ['separable_conv_1_normal_left1_1\n",
      " t1_10 (BatchNormalization)                                      0[0][0]']                        \n",
      "                                                                                                  \n",
      " separable_conv_1_bn_normal_rig  (None, 7, 7, 176)   704         ['separable_conv_1_normal_right1_\n",
      " ht1_10 (BatchNormalization)                                     10[0][0]']                       \n",
      "                                                                                                  \n",
      " separable_conv_1_bn_normal_lef  (None, 7, 7, 176)   704         ['separable_conv_1_normal_left2_1\n",
      " t2_10 (BatchNormalization)                                      0[0][0]']                        \n",
      "                                                                                                  \n",
      " separable_conv_1_bn_normal_rig  (None, 7, 7, 176)   704         ['separable_conv_1_normal_right2_\n",
      " ht2_10 (BatchNormalization)                                     10[0][0]']                       \n",
      "                                                                                                  \n",
      " separable_conv_1_bn_normal_lef  (None, 7, 7, 176)   704         ['separable_conv_1_normal_left5_1\n",
      " t5_10 (BatchNormalization)                                      0[0][0]']                        \n",
      "                                                                                                  \n",
      " activation_154 (Activation)    (None, 7, 7, 176)    0           ['separable_conv_1_bn_normal_left\n",
      "                                                                 1_10[0][0]']                     \n",
      "                                                                                                  \n",
      " activation_156 (Activation)    (None, 7, 7, 176)    0           ['separable_conv_1_bn_normal_righ\n",
      "                                                                 t1_10[0][0]']                    \n",
      "                                                                                                  \n",
      " activation_158 (Activation)    (None, 7, 7, 176)    0           ['separable_conv_1_bn_normal_left\n",
      "                                                                 2_10[0][0]']                     \n",
      "                                                                                                  \n",
      " activation_160 (Activation)    (None, 7, 7, 176)    0           ['separable_conv_1_bn_normal_righ\n",
      "                                                                 t2_10[0][0]']                    \n",
      "                                                                                                  \n",
      " activation_162 (Activation)    (None, 7, 7, 176)    0           ['separable_conv_1_bn_normal_left\n",
      "                                                                 5_10[0][0]']                     \n",
      "                                                                                                  \n",
      " separable_conv_2_normal_left1_  (None, 7, 7, 176)   35376       ['activation_154[0][0]']         \n",
      " 10 (SeparableConv2D)                                                                             \n",
      "                                                                                                  \n",
      " separable_conv_2_normal_right1  (None, 7, 7, 176)   32560       ['activation_156[0][0]']         \n",
      " _10 (SeparableConv2D)                                                                            \n",
      "                                                                                                  \n",
      " separable_conv_2_normal_left2_  (None, 7, 7, 176)   35376       ['activation_158[0][0]']         \n",
      " 10 (SeparableConv2D)                                                                             \n",
      "                                                                                                  \n",
      " separable_conv_2_normal_right2  (None, 7, 7, 176)   32560       ['activation_160[0][0]']         \n",
      " _10 (SeparableConv2D)                                                                            \n",
      "                                                                                                  \n",
      " separable_conv_2_normal_left5_  (None, 7, 7, 176)   32560       ['activation_162[0][0]']         \n",
      " 10 (SeparableConv2D)                                                                             \n",
      "                                                                                                  \n",
      " separable_conv_2_bn_normal_lef  (None, 7, 7, 176)   704         ['separable_conv_2_normal_left1_1\n",
      " t1_10 (BatchNormalization)                                      0[0][0]']                        \n",
      "                                                                                                  \n",
      " separable_conv_2_bn_normal_rig  (None, 7, 7, 176)   704         ['separable_conv_2_normal_right1_\n",
      " ht1_10 (BatchNormalization)                                     10[0][0]']                       \n",
      "                                                                                                  \n",
      " separable_conv_2_bn_normal_lef  (None, 7, 7, 176)   704         ['separable_conv_2_normal_left2_1\n",
      " t2_10 (BatchNormalization)                                      0[0][0]']                        \n",
      "                                                                                                  \n",
      " separable_conv_2_bn_normal_rig  (None, 7, 7, 176)   704         ['separable_conv_2_normal_right2_\n",
      " ht2_10 (BatchNormalization)                                     10[0][0]']                       \n",
      "                                                                                                  \n",
      " normal_left3_10 (AveragePoolin  (None, 7, 7, 176)   0           ['normal_bn_1_10[0][0]']         \n",
      " g2D)                                                                                             \n",
      "                                                                                                  \n",
      " normal_left4_10 (AveragePoolin  (None, 7, 7, 176)   0           ['adjust_bn_10[0][0]']           \n",
      " g2D)                                                                                             \n",
      "                                                                                                  \n",
      " normal_right4_10 (AveragePooli  (None, 7, 7, 176)   0           ['adjust_bn_10[0][0]']           \n",
      " ng2D)                                                                                            \n",
      "                                                                                                  \n",
      " separable_conv_2_bn_normal_lef  (None, 7, 7, 176)   704         ['separable_conv_2_normal_left5_1\n",
      " t5_10 (BatchNormalization)                                      0[0][0]']                        \n",
      "                                                                                                  \n",
      " normal_add_1_10 (Add)          (None, 7, 7, 176)    0           ['separable_conv_2_bn_normal_left\n",
      "                                                                 1_10[0][0]',                     \n",
      "                                                                  'separable_conv_2_bn_normal_righ\n",
      "                                                                 t1_10[0][0]']                    \n",
      "                                                                                                  \n",
      " normal_add_2_10 (Add)          (None, 7, 7, 176)    0           ['separable_conv_2_bn_normal_left\n",
      "                                                                 2_10[0][0]',                     \n",
      "                                                                  'separable_conv_2_bn_normal_righ\n",
      "                                                                 t2_10[0][0]']                    \n",
      "                                                                                                  \n",
      " normal_add_3_10 (Add)          (None, 7, 7, 176)    0           ['normal_left3_10[0][0]',        \n",
      "                                                                  'adjust_bn_10[0][0]']           \n",
      "                                                                                                  \n",
      " normal_add_4_10 (Add)          (None, 7, 7, 176)    0           ['normal_left4_10[0][0]',        \n",
      "                                                                  'normal_right4_10[0][0]']       \n",
      "                                                                                                  \n",
      " normal_add_5_10 (Add)          (None, 7, 7, 176)    0           ['separable_conv_2_bn_normal_left\n",
      "                                                                 5_10[0][0]',                     \n",
      "                                                                  'normal_bn_1_10[0][0]']         \n",
      "                                                                                                  \n",
      " normal_concat_10 (Concatenate)  (None, 7, 7, 1056)  0           ['adjust_bn_10[0][0]',           \n",
      "                                                                  'normal_add_1_10[0][0]',        \n",
      "                                                                  'normal_add_2_10[0][0]',        \n",
      "                                                                  'normal_add_3_10[0][0]',        \n",
      "                                                                  'normal_add_4_10[0][0]',        \n",
      "                                                                  'normal_add_5_10[0][0]']        \n",
      "                                                                                                  \n",
      " activation_163 (Activation)    (None, 7, 7, 1056)   0           ['normal_concat_9[0][0]']        \n",
      "                                                                                                  \n",
      " activation_164 (Activation)    (None, 7, 7, 1056)   0           ['normal_concat_10[0][0]']       \n",
      "                                                                                                  \n",
      " adjust_conv_projection_11 (Con  (None, 7, 7, 176)   185856      ['activation_163[0][0]']         \n",
      " v2D)                                                                                             \n",
      "                                                                                                  \n",
      " normal_conv_1_11 (Conv2D)      (None, 7, 7, 176)    185856      ['activation_164[0][0]']         \n",
      "                                                                                                  \n",
      " adjust_bn_11 (BatchNormalizati  (None, 7, 7, 176)   704         ['adjust_conv_projection_11[0][0]\n",
      " on)                                                             ']                               \n",
      "                                                                                                  \n",
      " normal_bn_1_11 (BatchNormaliza  (None, 7, 7, 176)   704         ['normal_conv_1_11[0][0]']       \n",
      " tion)                                                                                            \n",
      "                                                                                                  \n",
      " activation_165 (Activation)    (None, 7, 7, 176)    0           ['normal_bn_1_11[0][0]']         \n",
      "                                                                                                  \n",
      " activation_167 (Activation)    (None, 7, 7, 176)    0           ['adjust_bn_11[0][0]']           \n",
      "                                                                                                  \n",
      " activation_169 (Activation)    (None, 7, 7, 176)    0           ['adjust_bn_11[0][0]']           \n",
      "                                                                                                  \n",
      " activation_171 (Activation)    (None, 7, 7, 176)    0           ['adjust_bn_11[0][0]']           \n",
      "                                                                                                  \n",
      " activation_173 (Activation)    (None, 7, 7, 176)    0           ['normal_bn_1_11[0][0]']         \n",
      "                                                                                                  \n",
      " separable_conv_1_normal_left1_  (None, 7, 7, 176)   35376       ['activation_165[0][0]']         \n",
      " 11 (SeparableConv2D)                                                                             \n",
      "                                                                                                  \n",
      " separable_conv_1_normal_right1  (None, 7, 7, 176)   32560       ['activation_167[0][0]']         \n",
      " _11 (SeparableConv2D)                                                                            \n",
      "                                                                                                  \n",
      " separable_conv_1_normal_left2_  (None, 7, 7, 176)   35376       ['activation_169[0][0]']         \n",
      " 11 (SeparableConv2D)                                                                             \n",
      "                                                                                                  \n",
      " separable_conv_1_normal_right2  (None, 7, 7, 176)   32560       ['activation_171[0][0]']         \n",
      " _11 (SeparableConv2D)                                                                            \n",
      "                                                                                                  \n",
      " separable_conv_1_normal_left5_  (None, 7, 7, 176)   32560       ['activation_173[0][0]']         \n",
      " 11 (SeparableConv2D)                                                                             \n",
      "                                                                                                  \n",
      " separable_conv_1_bn_normal_lef  (None, 7, 7, 176)   704         ['separable_conv_1_normal_left1_1\n",
      " t1_11 (BatchNormalization)                                      1[0][0]']                        \n",
      "                                                                                                  \n",
      " separable_conv_1_bn_normal_rig  (None, 7, 7, 176)   704         ['separable_conv_1_normal_right1_\n",
      " ht1_11 (BatchNormalization)                                     11[0][0]']                       \n",
      "                                                                                                  \n",
      " separable_conv_1_bn_normal_lef  (None, 7, 7, 176)   704         ['separable_conv_1_normal_left2_1\n",
      " t2_11 (BatchNormalization)                                      1[0][0]']                        \n",
      "                                                                                                  \n",
      " separable_conv_1_bn_normal_rig  (None, 7, 7, 176)   704         ['separable_conv_1_normal_right2_\n",
      " ht2_11 (BatchNormalization)                                     11[0][0]']                       \n",
      "                                                                                                  \n",
      " separable_conv_1_bn_normal_lef  (None, 7, 7, 176)   704         ['separable_conv_1_normal_left5_1\n",
      " t5_11 (BatchNormalization)                                      1[0][0]']                        \n",
      "                                                                                                  \n",
      " activation_166 (Activation)    (None, 7, 7, 176)    0           ['separable_conv_1_bn_normal_left\n",
      "                                                                 1_11[0][0]']                     \n",
      "                                                                                                  \n",
      " activation_168 (Activation)    (None, 7, 7, 176)    0           ['separable_conv_1_bn_normal_righ\n",
      "                                                                 t1_11[0][0]']                    \n",
      "                                                                                                  \n",
      " activation_170 (Activation)    (None, 7, 7, 176)    0           ['separable_conv_1_bn_normal_left\n",
      "                                                                 2_11[0][0]']                     \n",
      "                                                                                                  \n",
      " activation_172 (Activation)    (None, 7, 7, 176)    0           ['separable_conv_1_bn_normal_righ\n",
      "                                                                 t2_11[0][0]']                    \n",
      "                                                                                                  \n",
      " activation_174 (Activation)    (None, 7, 7, 176)    0           ['separable_conv_1_bn_normal_left\n",
      "                                                                 5_11[0][0]']                     \n",
      "                                                                                                  \n",
      " separable_conv_2_normal_left1_  (None, 7, 7, 176)   35376       ['activation_166[0][0]']         \n",
      " 11 (SeparableConv2D)                                                                             \n",
      "                                                                                                  \n",
      " separable_conv_2_normal_right1  (None, 7, 7, 176)   32560       ['activation_168[0][0]']         \n",
      " _11 (SeparableConv2D)                                                                            \n",
      "                                                                                                  \n",
      " separable_conv_2_normal_left2_  (None, 7, 7, 176)   35376       ['activation_170[0][0]']         \n",
      " 11 (SeparableConv2D)                                                                             \n",
      "                                                                                                  \n",
      " separable_conv_2_normal_right2  (None, 7, 7, 176)   32560       ['activation_172[0][0]']         \n",
      " _11 (SeparableConv2D)                                                                            \n",
      "                                                                                                  \n",
      " separable_conv_2_normal_left5_  (None, 7, 7, 176)   32560       ['activation_174[0][0]']         \n",
      " 11 (SeparableConv2D)                                                                             \n",
      "                                                                                                  \n",
      " separable_conv_2_bn_normal_lef  (None, 7, 7, 176)   704         ['separable_conv_2_normal_left1_1\n",
      " t1_11 (BatchNormalization)                                      1[0][0]']                        \n",
      "                                                                                                  \n",
      " separable_conv_2_bn_normal_rig  (None, 7, 7, 176)   704         ['separable_conv_2_normal_right1_\n",
      " ht1_11 (BatchNormalization)                                     11[0][0]']                       \n",
      "                                                                                                  \n",
      " separable_conv_2_bn_normal_lef  (None, 7, 7, 176)   704         ['separable_conv_2_normal_left2_1\n",
      " t2_11 (BatchNormalization)                                      1[0][0]']                        \n",
      "                                                                                                  \n",
      " separable_conv_2_bn_normal_rig  (None, 7, 7, 176)   704         ['separable_conv_2_normal_right2_\n",
      " ht2_11 (BatchNormalization)                                     11[0][0]']                       \n",
      "                                                                                                  \n",
      " normal_left3_11 (AveragePoolin  (None, 7, 7, 176)   0           ['normal_bn_1_11[0][0]']         \n",
      " g2D)                                                                                             \n",
      "                                                                                                  \n",
      " normal_left4_11 (AveragePoolin  (None, 7, 7, 176)   0           ['adjust_bn_11[0][0]']           \n",
      " g2D)                                                                                             \n",
      "                                                                                                  \n",
      " normal_right4_11 (AveragePooli  (None, 7, 7, 176)   0           ['adjust_bn_11[0][0]']           \n",
      " ng2D)                                                                                            \n",
      "                                                                                                  \n",
      " separable_conv_2_bn_normal_lef  (None, 7, 7, 176)   704         ['separable_conv_2_normal_left5_1\n",
      " t5_11 (BatchNormalization)                                      1[0][0]']                        \n",
      "                                                                                                  \n",
      " normal_add_1_11 (Add)          (None, 7, 7, 176)    0           ['separable_conv_2_bn_normal_left\n",
      "                                                                 1_11[0][0]',                     \n",
      "                                                                  'separable_conv_2_bn_normal_righ\n",
      "                                                                 t1_11[0][0]']                    \n",
      "                                                                                                  \n",
      " normal_add_2_11 (Add)          (None, 7, 7, 176)    0           ['separable_conv_2_bn_normal_left\n",
      "                                                                 2_11[0][0]',                     \n",
      "                                                                  'separable_conv_2_bn_normal_righ\n",
      "                                                                 t2_11[0][0]']                    \n",
      "                                                                                                  \n",
      " normal_add_3_11 (Add)          (None, 7, 7, 176)    0           ['normal_left3_11[0][0]',        \n",
      "                                                                  'adjust_bn_11[0][0]']           \n",
      "                                                                                                  \n",
      " normal_add_4_11 (Add)          (None, 7, 7, 176)    0           ['normal_left4_11[0][0]',        \n",
      "                                                                  'normal_right4_11[0][0]']       \n",
      "                                                                                                  \n",
      " normal_add_5_11 (Add)          (None, 7, 7, 176)    0           ['separable_conv_2_bn_normal_left\n",
      "                                                                 5_11[0][0]',                     \n",
      "                                                                  'normal_bn_1_11[0][0]']         \n",
      "                                                                                                  \n",
      " normal_concat_11 (Concatenate)  (None, 7, 7, 1056)  0           ['adjust_bn_11[0][0]',           \n",
      "                                                                  'normal_add_1_11[0][0]',        \n",
      "                                                                  'normal_add_2_11[0][0]',        \n",
      "                                                                  'normal_add_3_11[0][0]',        \n",
      "                                                                  'normal_add_4_11[0][0]',        \n",
      "                                                                  'normal_add_5_11[0][0]']        \n",
      "                                                                                                  \n",
      " activation_175 (Activation)    (None, 7, 7, 1056)   0           ['normal_concat_10[0][0]']       \n",
      "                                                                                                  \n",
      " activation_176 (Activation)    (None, 7, 7, 1056)   0           ['normal_concat_11[0][0]']       \n",
      "                                                                                                  \n",
      " adjust_conv_projection_12 (Con  (None, 7, 7, 176)   185856      ['activation_175[0][0]']         \n",
      " v2D)                                                                                             \n",
      "                                                                                                  \n",
      " normal_conv_1_12 (Conv2D)      (None, 7, 7, 176)    185856      ['activation_176[0][0]']         \n",
      "                                                                                                  \n",
      " adjust_bn_12 (BatchNormalizati  (None, 7, 7, 176)   704         ['adjust_conv_projection_12[0][0]\n",
      " on)                                                             ']                               \n",
      "                                                                                                  \n",
      " normal_bn_1_12 (BatchNormaliza  (None, 7, 7, 176)   704         ['normal_conv_1_12[0][0]']       \n",
      " tion)                                                                                            \n",
      "                                                                                                  \n",
      " activation_177 (Activation)    (None, 7, 7, 176)    0           ['normal_bn_1_12[0][0]']         \n",
      "                                                                                                  \n",
      " activation_179 (Activation)    (None, 7, 7, 176)    0           ['adjust_bn_12[0][0]']           \n",
      "                                                                                                  \n",
      " activation_181 (Activation)    (None, 7, 7, 176)    0           ['adjust_bn_12[0][0]']           \n",
      "                                                                                                  \n",
      " activation_183 (Activation)    (None, 7, 7, 176)    0           ['adjust_bn_12[0][0]']           \n",
      "                                                                                                  \n",
      " activation_185 (Activation)    (None, 7, 7, 176)    0           ['normal_bn_1_12[0][0]']         \n",
      "                                                                                                  \n",
      " separable_conv_1_normal_left1_  (None, 7, 7, 176)   35376       ['activation_177[0][0]']         \n",
      " 12 (SeparableConv2D)                                                                             \n",
      "                                                                                                  \n",
      " separable_conv_1_normal_right1  (None, 7, 7, 176)   32560       ['activation_179[0][0]']         \n",
      " _12 (SeparableConv2D)                                                                            \n",
      "                                                                                                  \n",
      " separable_conv_1_normal_left2_  (None, 7, 7, 176)   35376       ['activation_181[0][0]']         \n",
      " 12 (SeparableConv2D)                                                                             \n",
      "                                                                                                  \n",
      " separable_conv_1_normal_right2  (None, 7, 7, 176)   32560       ['activation_183[0][0]']         \n",
      " _12 (SeparableConv2D)                                                                            \n",
      "                                                                                                  \n",
      " separable_conv_1_normal_left5_  (None, 7, 7, 176)   32560       ['activation_185[0][0]']         \n",
      " 12 (SeparableConv2D)                                                                             \n",
      "                                                                                                  \n",
      " separable_conv_1_bn_normal_lef  (None, 7, 7, 176)   704         ['separable_conv_1_normal_left1_1\n",
      " t1_12 (BatchNormalization)                                      2[0][0]']                        \n",
      "                                                                                                  \n",
      " separable_conv_1_bn_normal_rig  (None, 7, 7, 176)   704         ['separable_conv_1_normal_right1_\n",
      " ht1_12 (BatchNormalization)                                     12[0][0]']                       \n",
      "                                                                                                  \n",
      " separable_conv_1_bn_normal_lef  (None, 7, 7, 176)   704         ['separable_conv_1_normal_left2_1\n",
      " t2_12 (BatchNormalization)                                      2[0][0]']                        \n",
      "                                                                                                  \n",
      " separable_conv_1_bn_normal_rig  (None, 7, 7, 176)   704         ['separable_conv_1_normal_right2_\n",
      " ht2_12 (BatchNormalization)                                     12[0][0]']                       \n",
      "                                                                                                  \n",
      " separable_conv_1_bn_normal_lef  (None, 7, 7, 176)   704         ['separable_conv_1_normal_left5_1\n",
      " t5_12 (BatchNormalization)                                      2[0][0]']                        \n",
      "                                                                                                  \n",
      " activation_178 (Activation)    (None, 7, 7, 176)    0           ['separable_conv_1_bn_normal_left\n",
      "                                                                 1_12[0][0]']                     \n",
      "                                                                                                  \n",
      " activation_180 (Activation)    (None, 7, 7, 176)    0           ['separable_conv_1_bn_normal_righ\n",
      "                                                                 t1_12[0][0]']                    \n",
      "                                                                                                  \n",
      " activation_182 (Activation)    (None, 7, 7, 176)    0           ['separable_conv_1_bn_normal_left\n",
      "                                                                 2_12[0][0]']                     \n",
      "                                                                                                  \n",
      " activation_184 (Activation)    (None, 7, 7, 176)    0           ['separable_conv_1_bn_normal_righ\n",
      "                                                                 t2_12[0][0]']                    \n",
      "                                                                                                  \n",
      " activation_186 (Activation)    (None, 7, 7, 176)    0           ['separable_conv_1_bn_normal_left\n",
      "                                                                 5_12[0][0]']                     \n",
      "                                                                                                  \n",
      " separable_conv_2_normal_left1_  (None, 7, 7, 176)   35376       ['activation_178[0][0]']         \n",
      " 12 (SeparableConv2D)                                                                             \n",
      "                                                                                                  \n",
      " separable_conv_2_normal_right1  (None, 7, 7, 176)   32560       ['activation_180[0][0]']         \n",
      " _12 (SeparableConv2D)                                                                            \n",
      "                                                                                                  \n",
      " separable_conv_2_normal_left2_  (None, 7, 7, 176)   35376       ['activation_182[0][0]']         \n",
      " 12 (SeparableConv2D)                                                                             \n",
      "                                                                                                  \n",
      " separable_conv_2_normal_right2  (None, 7, 7, 176)   32560       ['activation_184[0][0]']         \n",
      " _12 (SeparableConv2D)                                                                            \n",
      "                                                                                                  \n",
      " separable_conv_2_normal_left5_  (None, 7, 7, 176)   32560       ['activation_186[0][0]']         \n",
      " 12 (SeparableConv2D)                                                                             \n",
      "                                                                                                  \n",
      " separable_conv_2_bn_normal_lef  (None, 7, 7, 176)   704         ['separable_conv_2_normal_left1_1\n",
      " t1_12 (BatchNormalization)                                      2[0][0]']                        \n",
      "                                                                                                  \n",
      " separable_conv_2_bn_normal_rig  (None, 7, 7, 176)   704         ['separable_conv_2_normal_right1_\n",
      " ht1_12 (BatchNormalization)                                     12[0][0]']                       \n",
      "                                                                                                  \n",
      " separable_conv_2_bn_normal_lef  (None, 7, 7, 176)   704         ['separable_conv_2_normal_left2_1\n",
      " t2_12 (BatchNormalization)                                      2[0][0]']                        \n",
      "                                                                                                  \n",
      " separable_conv_2_bn_normal_rig  (None, 7, 7, 176)   704         ['separable_conv_2_normal_right2_\n",
      " ht2_12 (BatchNormalization)                                     12[0][0]']                       \n",
      "                                                                                                  \n",
      " normal_left3_12 (AveragePoolin  (None, 7, 7, 176)   0           ['normal_bn_1_12[0][0]']         \n",
      " g2D)                                                                                             \n",
      "                                                                                                  \n",
      " normal_left4_12 (AveragePoolin  (None, 7, 7, 176)   0           ['adjust_bn_12[0][0]']           \n",
      " g2D)                                                                                             \n",
      "                                                                                                  \n",
      " normal_right4_12 (AveragePooli  (None, 7, 7, 176)   0           ['adjust_bn_12[0][0]']           \n",
      " ng2D)                                                                                            \n",
      "                                                                                                  \n",
      " separable_conv_2_bn_normal_lef  (None, 7, 7, 176)   704         ['separable_conv_2_normal_left5_1\n",
      " t5_12 (BatchNormalization)                                      2[0][0]']                        \n",
      "                                                                                                  \n",
      " normal_add_1_12 (Add)          (None, 7, 7, 176)    0           ['separable_conv_2_bn_normal_left\n",
      "                                                                 1_12[0][0]',                     \n",
      "                                                                  'separable_conv_2_bn_normal_righ\n",
      "                                                                 t1_12[0][0]']                    \n",
      "                                                                                                  \n",
      " normal_add_2_12 (Add)          (None, 7, 7, 176)    0           ['separable_conv_2_bn_normal_left\n",
      "                                                                 2_12[0][0]',                     \n",
      "                                                                  'separable_conv_2_bn_normal_righ\n",
      "                                                                 t2_12[0][0]']                    \n",
      "                                                                                                  \n",
      " normal_add_3_12 (Add)          (None, 7, 7, 176)    0           ['normal_left3_12[0][0]',        \n",
      "                                                                  'adjust_bn_12[0][0]']           \n",
      "                                                                                                  \n",
      " normal_add_4_12 (Add)          (None, 7, 7, 176)    0           ['normal_left4_12[0][0]',        \n",
      "                                                                  'normal_right4_12[0][0]']       \n",
      "                                                                                                  \n",
      " normal_add_5_12 (Add)          (None, 7, 7, 176)    0           ['separable_conv_2_bn_normal_left\n",
      "                                                                 5_12[0][0]',                     \n",
      "                                                                  'normal_bn_1_12[0][0]']         \n",
      "                                                                                                  \n",
      " normal_concat_12 (Concatenate)  (None, 7, 7, 1056)  0           ['adjust_bn_12[0][0]',           \n",
      "                                                                  'normal_add_1_12[0][0]',        \n",
      "                                                                  'normal_add_2_12[0][0]',        \n",
      "                                                                  'normal_add_3_12[0][0]',        \n",
      "                                                                  'normal_add_4_12[0][0]',        \n",
      "                                                                  'normal_add_5_12[0][0]']        \n",
      "                                                                                                  \n",
      " activation_187 (Activation)    (None, 7, 7, 1056)   0           ['normal_concat_12[0][0]']       \n",
      "                                                                                                  \n",
      " average_pooling2d (AveragePool  (None, 1, 1, 1056)  0           ['activation_187[0][0]']         \n",
      " ing2D)                                                                                           \n",
      "                                                                                                  \n",
      " flatten (Flatten)              (None, 1056)         0           ['average_pooling2d[0][0]']      \n",
      "                                                                                                  \n",
      " dense (Dense)                  (None, 128)          135296      ['flatten[0][0]']                \n",
      "                                                                                                  \n",
      " batch_normalization (BatchNorm  (None, 128)         512         ['dense[0][0]']                  \n",
      " alization)                                                                                       \n",
      "                                                                                                  \n",
      " p_re_lu (PReLU)                (None, 128)          128         ['batch_normalization[0][0]']    \n",
      "                                                                                                  \n",
      " dropout (Dropout)              (None, 128)          0           ['p_re_lu[0][0]']                \n",
      "                                                                                                  \n",
      " dense_1 (Dense)                (None, 3)            387         ['dropout[0][0]']                \n",
      "                                                                                                  \n",
      "==================================================================================================\n",
      "Total params: 4,406,039\n",
      "Trainable params: 4,369,045\n",
      "Non-trainable params: 36,994\n",
      "__________________________________________________________________________________________________\n"
     ]
    }
   ],
   "source": [
    "from keras.metrics import Metric\n",
    "# Number of layers in model head (fresh weights), this is fixed in get_model.\n",
    "#num_head_layers =30\n",
    "# Freeze all VGG layers apart from the last layers (TRAINABLE_BASE_LAYERS)\n",
    "#num_layers = len(model.layers)\n",
    "#for ind, layer in enumerate(model.layers):\n",
    "#    if ind < num_layers - num_head_layers - TRAINABLE_BASE_LAYERS:\n",
    "#        layer.trainable = False\n",
    "\n",
    "# Define callbacks\n",
    "earlyStopping = EarlyStopping(\n",
    "    monitor='val_loss',\n",
    "    patience=20,\n",
    "    verbose=1,\n",
    "    mode='min',\n",
    "    restore_best_weights=True\n",
    ")\n",
    "\n",
    "mcp_save = ModelCheckpoint(\n",
    "    os.path.join(MODEL_DIR, 'fold_' + str(FOLD) + '_epoch_{epoch:02d}'),\n",
    "    save_best_only=True,\n",
    "    monitor='val_accuracy',\n",
    "    mode='max',\n",
    "    verbose=1\n",
    ")\n",
    "reduce_lr_loss = ReduceLROnPlateau(\n",
    "    monitor='val_loss',\n",
    "    factor=0.1,\n",
    "    patience=7,\n",
    "    verbose=1,\n",
    "    epsilon=1e-4,\n",
    "    mode='min'\n",
    ")\n",
    "# To show balanced accuracy\n",
    "# metrics = Metric((testX, testY), model)\n",
    "\n",
    "# compile model\n",
    "print('Compiling model...')\n",
    "opt = Adam(lr=LR, decay=LR / EPOCHS)\n",
    "model.compile(\n",
    "    loss='categorical_crossentropy', optimizer=opt, metrics=['accuracy']\n",
    ")\n",
    "\n",
    "print('Model has {model.count_params()} parameters')\n",
    "print('Model summary {model.summary()}')\n",
    "model.summary()"
   ]
  },
  {
   "cell_type": "code",
   "execution_count": 12,
   "metadata": {
    "scrolled": true
   },
   "outputs": [
    {
     "name": "stdout",
     "output_type": "stream",
     "text": [
      "Starting training model...\n"
     ]
    },
    {
     "name": "stderr",
     "output_type": "stream",
     "text": [
      "C:\\Users\\212733771\\AppData\\Local\\Temp\\ipykernel_11464\\3400543215.py:3: UserWarning: `Model.fit_generator` is deprecated and will be removed in a future version. Please use `Model.fit`, which supports generators.\n",
      "  H = model.fit_generator(\n"
     ]
    },
    {
     "name": "stdout",
     "output_type": "stream",
     "text": [
      "Epoch 1/50\n",
      "119/119 [==============================] - ETA: 0s - loss: 0.4836 - accuracy: 0.8035WARNING:tensorflow:Your input ran out of data; interrupting training. Make sure that your dataset or generator can generate at least `steps_per_epoch * epochs` batches (in this case, 39 batches). You may need to use the repeat() function when building your dataset.\n",
      "\n",
      "Epoch 1: val_accuracy improved from -inf to 0.40670, saving model to C:/Users/212733771/Documents/Covid-Ultrasound/mobilenet_models\\fold_0_epoch_01\n"
     ]
    },
    {
     "name": "stderr",
     "output_type": "stream",
     "text": [
      "WARNING:absl:Found untraced functions such as _jit_compiled_convolution_op, _jit_compiled_convolution_op, _jit_compiled_convolution_op, _jit_compiled_convolution_op, _jit_compiled_convolution_op while saving (showing 5 of 196). These functions will not be directly callable after loading.\n"
     ]
    },
    {
     "name": "stdout",
     "output_type": "stream",
     "text": [
      "INFO:tensorflow:Assets written to: C:/Users/212733771/Documents/Covid-Ultrasound/mobilenet_models\\fold_0_epoch_01\\assets\n"
     ]
    },
    {
     "name": "stderr",
     "output_type": "stream",
     "text": [
      "INFO:tensorflow:Assets written to: C:/Users/212733771/Documents/Covid-Ultrasound/mobilenet_models\\fold_0_epoch_01\\assets\n"
     ]
    },
    {
     "name": "stdout",
     "output_type": "stream",
     "text": [
      "119/119 [==============================] - 269s 2s/step - loss: 0.4836 - accuracy: 0.8035 - val_loss: 1.4977 - val_accuracy: 0.4067 - lr: 1.0000e-04\n",
      "Epoch 2/50\n",
      "119/119 [==============================] - ETA: 0s - loss: 0.1124 - accuracy: 0.9679WARNING:tensorflow:Early stopping conditioned on metric `val_loss` which is not available. Available metrics are: loss,accuracy\n"
     ]
    },
    {
     "name": "stderr",
     "output_type": "stream",
     "text": [
      "WARNING:tensorflow:Early stopping conditioned on metric `val_loss` which is not available. Available metrics are: loss,accuracy\n"
     ]
    },
    {
     "name": "stdout",
     "output_type": "stream",
     "text": [
      "WARNING:tensorflow:Can save best model only with val_accuracy available, skipping.\n"
     ]
    },
    {
     "name": "stderr",
     "output_type": "stream",
     "text": [
      "WARNING:tensorflow:Can save best model only with val_accuracy available, skipping.\n"
     ]
    },
    {
     "name": "stdout",
     "output_type": "stream",
     "text": [
      "WARNING:tensorflow:Learning rate reduction is conditioned on metric `val_loss` which is not available. Available metrics are: loss,accuracy,lr\n"
     ]
    },
    {
     "name": "stderr",
     "output_type": "stream",
     "text": [
      "WARNING:tensorflow:Learning rate reduction is conditioned on metric `val_loss` which is not available. Available metrics are: loss,accuracy,lr\n"
     ]
    },
    {
     "name": "stdout",
     "output_type": "stream",
     "text": [
      "119/119 [==============================] - 118s 989ms/step - loss: 0.1124 - accuracy: 0.9679 - lr: 1.0000e-04\n",
      "Epoch 3/50\n",
      "119/119 [==============================] - ETA: 0s - loss: 0.0620 - accuracy: 0.9795WARNING:tensorflow:Early stopping conditioned on metric `val_loss` which is not available. Available metrics are: loss,accuracy\n"
     ]
    },
    {
     "name": "stderr",
     "output_type": "stream",
     "text": [
      "WARNING:tensorflow:Early stopping conditioned on metric `val_loss` which is not available. Available metrics are: loss,accuracy\n"
     ]
    },
    {
     "name": "stdout",
     "output_type": "stream",
     "text": [
      "WARNING:tensorflow:Can save best model only with val_accuracy available, skipping.\n"
     ]
    },
    {
     "name": "stderr",
     "output_type": "stream",
     "text": [
      "WARNING:tensorflow:Can save best model only with val_accuracy available, skipping.\n"
     ]
    },
    {
     "name": "stdout",
     "output_type": "stream",
     "text": [
      "WARNING:tensorflow:Learning rate reduction is conditioned on metric `val_loss` which is not available. Available metrics are: loss,accuracy,lr\n"
     ]
    },
    {
     "name": "stderr",
     "output_type": "stream",
     "text": [
      "WARNING:tensorflow:Learning rate reduction is conditioned on metric `val_loss` which is not available. Available metrics are: loss,accuracy,lr\n"
     ]
    },
    {
     "name": "stdout",
     "output_type": "stream",
     "text": [
      "119/119 [==============================] - 120s 1s/step - loss: 0.0620 - accuracy: 0.9795 - lr: 1.0000e-04\n",
      "Epoch 4/50\n",
      "119/119 [==============================] - ETA: 0s - loss: 0.0361 - accuracy: 0.9916WARNING:tensorflow:Early stopping conditioned on metric `val_loss` which is not available. Available metrics are: loss,accuracy\n"
     ]
    },
    {
     "name": "stderr",
     "output_type": "stream",
     "text": [
      "WARNING:tensorflow:Early stopping conditioned on metric `val_loss` which is not available. Available metrics are: loss,accuracy\n"
     ]
    },
    {
     "name": "stdout",
     "output_type": "stream",
     "text": [
      "WARNING:tensorflow:Can save best model only with val_accuracy available, skipping.\n"
     ]
    },
    {
     "name": "stderr",
     "output_type": "stream",
     "text": [
      "WARNING:tensorflow:Can save best model only with val_accuracy available, skipping.\n"
     ]
    },
    {
     "name": "stdout",
     "output_type": "stream",
     "text": [
      "WARNING:tensorflow:Learning rate reduction is conditioned on metric `val_loss` which is not available. Available metrics are: loss,accuracy,lr\n"
     ]
    },
    {
     "name": "stderr",
     "output_type": "stream",
     "text": [
      "WARNING:tensorflow:Learning rate reduction is conditioned on metric `val_loss` which is not available. Available metrics are: loss,accuracy,lr\n"
     ]
    },
    {
     "name": "stdout",
     "output_type": "stream",
     "text": [
      "119/119 [==============================] - 118s 987ms/step - loss: 0.0361 - accuracy: 0.9916 - lr: 1.0000e-04\n",
      "Epoch 5/50\n",
      "119/119 [==============================] - ETA: 0s - loss: 0.0319 - accuracy: 0.9937WARNING:tensorflow:Early stopping conditioned on metric `val_loss` which is not available. Available metrics are: loss,accuracy\n"
     ]
    },
    {
     "name": "stderr",
     "output_type": "stream",
     "text": [
      "WARNING:tensorflow:Early stopping conditioned on metric `val_loss` which is not available. Available metrics are: loss,accuracy\n"
     ]
    },
    {
     "name": "stdout",
     "output_type": "stream",
     "text": [
      "WARNING:tensorflow:Can save best model only with val_accuracy available, skipping.\n"
     ]
    },
    {
     "name": "stderr",
     "output_type": "stream",
     "text": [
      "WARNING:tensorflow:Can save best model only with val_accuracy available, skipping.\n"
     ]
    },
    {
     "name": "stdout",
     "output_type": "stream",
     "text": [
      "WARNING:tensorflow:Learning rate reduction is conditioned on metric `val_loss` which is not available. Available metrics are: loss,accuracy,lr\n"
     ]
    },
    {
     "name": "stderr",
     "output_type": "stream",
     "text": [
      "WARNING:tensorflow:Learning rate reduction is conditioned on metric `val_loss` which is not available. Available metrics are: loss,accuracy,lr\n"
     ]
    },
    {
     "name": "stdout",
     "output_type": "stream",
     "text": [
      "119/119 [==============================] - 121s 1s/step - loss: 0.0319 - accuracy: 0.9937 - lr: 1.0000e-04\n",
      "Epoch 6/50\n",
      "119/119 [==============================] - ETA: 0s - loss: 0.0246 - accuracy: 0.9963WARNING:tensorflow:Early stopping conditioned on metric `val_loss` which is not available. Available metrics are: loss,accuracy\n"
     ]
    },
    {
     "name": "stderr",
     "output_type": "stream",
     "text": [
      "WARNING:tensorflow:Early stopping conditioned on metric `val_loss` which is not available. Available metrics are: loss,accuracy\n"
     ]
    },
    {
     "name": "stdout",
     "output_type": "stream",
     "text": [
      "WARNING:tensorflow:Can save best model only with val_accuracy available, skipping.\n"
     ]
    },
    {
     "name": "stderr",
     "output_type": "stream",
     "text": [
      "WARNING:tensorflow:Can save best model only with val_accuracy available, skipping.\n"
     ]
    },
    {
     "name": "stdout",
     "output_type": "stream",
     "text": [
      "WARNING:tensorflow:Learning rate reduction is conditioned on metric `val_loss` which is not available. Available metrics are: loss,accuracy,lr\n"
     ]
    },
    {
     "name": "stderr",
     "output_type": "stream",
     "text": [
      "WARNING:tensorflow:Learning rate reduction is conditioned on metric `val_loss` which is not available. Available metrics are: loss,accuracy,lr\n"
     ]
    },
    {
     "name": "stdout",
     "output_type": "stream",
     "text": [
      "119/119 [==============================] - 116s 973ms/step - loss: 0.0246 - accuracy: 0.9963 - lr: 1.0000e-04\n",
      "Epoch 7/50\n",
      "119/119 [==============================] - ETA: 0s - loss: 0.0231 - accuracy: 0.9953WARNING:tensorflow:Early stopping conditioned on metric `val_loss` which is not available. Available metrics are: loss,accuracy\n"
     ]
    },
    {
     "name": "stderr",
     "output_type": "stream",
     "text": [
      "WARNING:tensorflow:Early stopping conditioned on metric `val_loss` which is not available. Available metrics are: loss,accuracy\n"
     ]
    },
    {
     "name": "stdout",
     "output_type": "stream",
     "text": [
      "WARNING:tensorflow:Can save best model only with val_accuracy available, skipping.\n"
     ]
    },
    {
     "name": "stderr",
     "output_type": "stream",
     "text": [
      "WARNING:tensorflow:Can save best model only with val_accuracy available, skipping.\n"
     ]
    },
    {
     "name": "stdout",
     "output_type": "stream",
     "text": [
      "WARNING:tensorflow:Learning rate reduction is conditioned on metric `val_loss` which is not available. Available metrics are: loss,accuracy,lr\n"
     ]
    },
    {
     "name": "stderr",
     "output_type": "stream",
     "text": [
      "WARNING:tensorflow:Learning rate reduction is conditioned on metric `val_loss` which is not available. Available metrics are: loss,accuracy,lr\n"
     ]
    },
    {
     "name": "stdout",
     "output_type": "stream",
     "text": [
      "119/119 [==============================] - 115s 966ms/step - loss: 0.0231 - accuracy: 0.9953 - lr: 1.0000e-04\n",
      "Epoch 8/50\n",
      "119/119 [==============================] - ETA: 0s - loss: 0.0280 - accuracy: 0.9937WARNING:tensorflow:Early stopping conditioned on metric `val_loss` which is not available. Available metrics are: loss,accuracy\n"
     ]
    },
    {
     "name": "stderr",
     "output_type": "stream",
     "text": [
      "WARNING:tensorflow:Early stopping conditioned on metric `val_loss` which is not available. Available metrics are: loss,accuracy\n"
     ]
    },
    {
     "name": "stdout",
     "output_type": "stream",
     "text": [
      "WARNING:tensorflow:Can save best model only with val_accuracy available, skipping.\n"
     ]
    },
    {
     "name": "stderr",
     "output_type": "stream",
     "text": [
      "WARNING:tensorflow:Can save best model only with val_accuracy available, skipping.\n"
     ]
    },
    {
     "name": "stdout",
     "output_type": "stream",
     "text": [
      "WARNING:tensorflow:Learning rate reduction is conditioned on metric `val_loss` which is not available. Available metrics are: loss,accuracy,lr\n"
     ]
    },
    {
     "name": "stderr",
     "output_type": "stream",
     "text": [
      "WARNING:tensorflow:Learning rate reduction is conditioned on metric `val_loss` which is not available. Available metrics are: loss,accuracy,lr\n"
     ]
    },
    {
     "name": "stdout",
     "output_type": "stream",
     "text": [
      "119/119 [==============================] - 115s 966ms/step - loss: 0.0280 - accuracy: 0.9937 - lr: 1.0000e-04\n",
      "Epoch 9/50\n",
      "119/119 [==============================] - ETA: 0s - loss: 0.0237 - accuracy: 0.9953WARNING:tensorflow:Early stopping conditioned on metric `val_loss` which is not available. Available metrics are: loss,accuracy\n"
     ]
    },
    {
     "name": "stderr",
     "output_type": "stream",
     "text": [
      "WARNING:tensorflow:Early stopping conditioned on metric `val_loss` which is not available. Available metrics are: loss,accuracy\n"
     ]
    },
    {
     "name": "stdout",
     "output_type": "stream",
     "text": [
      "WARNING:tensorflow:Can save best model only with val_accuracy available, skipping.\n"
     ]
    },
    {
     "name": "stderr",
     "output_type": "stream",
     "text": [
      "WARNING:tensorflow:Can save best model only with val_accuracy available, skipping.\n"
     ]
    },
    {
     "name": "stdout",
     "output_type": "stream",
     "text": [
      "WARNING:tensorflow:Learning rate reduction is conditioned on metric `val_loss` which is not available. Available metrics are: loss,accuracy,lr\n"
     ]
    },
    {
     "name": "stderr",
     "output_type": "stream",
     "text": [
      "WARNING:tensorflow:Learning rate reduction is conditioned on metric `val_loss` which is not available. Available metrics are: loss,accuracy,lr\n"
     ]
    },
    {
     "name": "stdout",
     "output_type": "stream",
     "text": [
      "119/119 [==============================] - 117s 984ms/step - loss: 0.0237 - accuracy: 0.9953 - lr: 1.0000e-04\n",
      "Epoch 10/50\n",
      "119/119 [==============================] - ETA: 0s - loss: 0.0223 - accuracy: 0.9947WARNING:tensorflow:Early stopping conditioned on metric `val_loss` which is not available. Available metrics are: loss,accuracy\n"
     ]
    },
    {
     "name": "stderr",
     "output_type": "stream",
     "text": [
      "WARNING:tensorflow:Early stopping conditioned on metric `val_loss` which is not available. Available metrics are: loss,accuracy\n"
     ]
    },
    {
     "name": "stdout",
     "output_type": "stream",
     "text": [
      "WARNING:tensorflow:Can save best model only with val_accuracy available, skipping.\n"
     ]
    },
    {
     "name": "stderr",
     "output_type": "stream",
     "text": [
      "WARNING:tensorflow:Can save best model only with val_accuracy available, skipping.\n"
     ]
    },
    {
     "name": "stdout",
     "output_type": "stream",
     "text": [
      "WARNING:tensorflow:Learning rate reduction is conditioned on metric `val_loss` which is not available. Available metrics are: loss,accuracy,lr\n"
     ]
    },
    {
     "name": "stderr",
     "output_type": "stream",
     "text": [
      "WARNING:tensorflow:Learning rate reduction is conditioned on metric `val_loss` which is not available. Available metrics are: loss,accuracy,lr\n"
     ]
    },
    {
     "name": "stdout",
     "output_type": "stream",
     "text": [
      "119/119 [==============================] - 116s 975ms/step - loss: 0.0223 - accuracy: 0.9947 - lr: 1.0000e-04\n",
      "Epoch 11/50\n",
      "119/119 [==============================] - ETA: 0s - loss: 0.0111 - accuracy: 0.9984WARNING:tensorflow:Early stopping conditioned on metric `val_loss` which is not available. Available metrics are: loss,accuracy\n"
     ]
    },
    {
     "name": "stderr",
     "output_type": "stream",
     "text": [
      "WARNING:tensorflow:Early stopping conditioned on metric `val_loss` which is not available. Available metrics are: loss,accuracy\n"
     ]
    },
    {
     "name": "stdout",
     "output_type": "stream",
     "text": [
      "WARNING:tensorflow:Can save best model only with val_accuracy available, skipping.\n"
     ]
    },
    {
     "name": "stderr",
     "output_type": "stream",
     "text": [
      "WARNING:tensorflow:Can save best model only with val_accuracy available, skipping.\n"
     ]
    },
    {
     "name": "stdout",
     "output_type": "stream",
     "text": [
      "WARNING:tensorflow:Learning rate reduction is conditioned on metric `val_loss` which is not available. Available metrics are: loss,accuracy,lr\n"
     ]
    },
    {
     "name": "stderr",
     "output_type": "stream",
     "text": [
      "WARNING:tensorflow:Learning rate reduction is conditioned on metric `val_loss` which is not available. Available metrics are: loss,accuracy,lr\n"
     ]
    },
    {
     "name": "stdout",
     "output_type": "stream",
     "text": [
      "119/119 [==============================] - 116s 970ms/step - loss: 0.0111 - accuracy: 0.9984 - lr: 1.0000e-04\n",
      "Epoch 12/50\n",
      "119/119 [==============================] - ETA: 0s - loss: 0.0148 - accuracy: 0.9979WARNING:tensorflow:Early stopping conditioned on metric `val_loss` which is not available. Available metrics are: loss,accuracy\n"
     ]
    },
    {
     "name": "stderr",
     "output_type": "stream",
     "text": [
      "WARNING:tensorflow:Early stopping conditioned on metric `val_loss` which is not available. Available metrics are: loss,accuracy\n"
     ]
    },
    {
     "name": "stdout",
     "output_type": "stream",
     "text": [
      "WARNING:tensorflow:Can save best model only with val_accuracy available, skipping.\n"
     ]
    },
    {
     "name": "stderr",
     "output_type": "stream",
     "text": [
      "WARNING:tensorflow:Can save best model only with val_accuracy available, skipping.\n"
     ]
    },
    {
     "name": "stdout",
     "output_type": "stream",
     "text": [
      "WARNING:tensorflow:Learning rate reduction is conditioned on metric `val_loss` which is not available. Available metrics are: loss,accuracy,lr\n"
     ]
    },
    {
     "name": "stderr",
     "output_type": "stream",
     "text": [
      "WARNING:tensorflow:Learning rate reduction is conditioned on metric `val_loss` which is not available. Available metrics are: loss,accuracy,lr\n"
     ]
    },
    {
     "name": "stdout",
     "output_type": "stream",
     "text": [
      "119/119 [==============================] - 115s 968ms/step - loss: 0.0148 - accuracy: 0.9979 - lr: 1.0000e-04\n",
      "Epoch 13/50\n",
      "119/119 [==============================] - ETA: 0s - loss: 0.0125 - accuracy: 0.9974WARNING:tensorflow:Early stopping conditioned on metric `val_loss` which is not available. Available metrics are: loss,accuracy\n"
     ]
    },
    {
     "name": "stderr",
     "output_type": "stream",
     "text": [
      "WARNING:tensorflow:Early stopping conditioned on metric `val_loss` which is not available. Available metrics are: loss,accuracy\n"
     ]
    },
    {
     "name": "stdout",
     "output_type": "stream",
     "text": [
      "WARNING:tensorflow:Can save best model only with val_accuracy available, skipping.\n"
     ]
    },
    {
     "name": "stderr",
     "output_type": "stream",
     "text": [
      "WARNING:tensorflow:Can save best model only with val_accuracy available, skipping.\n"
     ]
    },
    {
     "name": "stdout",
     "output_type": "stream",
     "text": [
      "WARNING:tensorflow:Learning rate reduction is conditioned on metric `val_loss` which is not available. Available metrics are: loss,accuracy,lr\n"
     ]
    },
    {
     "name": "stderr",
     "output_type": "stream",
     "text": [
      "WARNING:tensorflow:Learning rate reduction is conditioned on metric `val_loss` which is not available. Available metrics are: loss,accuracy,lr\n"
     ]
    },
    {
     "name": "stdout",
     "output_type": "stream",
     "text": [
      "119/119 [==============================] - 116s 972ms/step - loss: 0.0125 - accuracy: 0.9974 - lr: 1.0000e-04\n",
      "Epoch 14/50\n",
      "119/119 [==============================] - ETA: 0s - loss: 0.0119 - accuracy: 0.9968WARNING:tensorflow:Early stopping conditioned on metric `val_loss` which is not available. Available metrics are: loss,accuracy\n"
     ]
    },
    {
     "name": "stderr",
     "output_type": "stream",
     "text": [
      "WARNING:tensorflow:Early stopping conditioned on metric `val_loss` which is not available. Available metrics are: loss,accuracy\n"
     ]
    },
    {
     "name": "stdout",
     "output_type": "stream",
     "text": [
      "WARNING:tensorflow:Can save best model only with val_accuracy available, skipping.\n"
     ]
    },
    {
     "name": "stderr",
     "output_type": "stream",
     "text": [
      "WARNING:tensorflow:Can save best model only with val_accuracy available, skipping.\n"
     ]
    },
    {
     "name": "stdout",
     "output_type": "stream",
     "text": [
      "WARNING:tensorflow:Learning rate reduction is conditioned on metric `val_loss` which is not available. Available metrics are: loss,accuracy,lr\n"
     ]
    },
    {
     "name": "stderr",
     "output_type": "stream",
     "text": [
      "WARNING:tensorflow:Learning rate reduction is conditioned on metric `val_loss` which is not available. Available metrics are: loss,accuracy,lr\n"
     ]
    },
    {
     "name": "stdout",
     "output_type": "stream",
     "text": [
      "119/119 [==============================] - 118s 990ms/step - loss: 0.0119 - accuracy: 0.9968 - lr: 1.0000e-04\n",
      "Epoch 15/50\n",
      "119/119 [==============================] - ETA: 0s - loss: 0.0105 - accuracy: 0.9989WARNING:tensorflow:Early stopping conditioned on metric `val_loss` which is not available. Available metrics are: loss,accuracy\n"
     ]
    },
    {
     "name": "stderr",
     "output_type": "stream",
     "text": [
      "WARNING:tensorflow:Early stopping conditioned on metric `val_loss` which is not available. Available metrics are: loss,accuracy\n"
     ]
    },
    {
     "name": "stdout",
     "output_type": "stream",
     "text": [
      "WARNING:tensorflow:Can save best model only with val_accuracy available, skipping.\n"
     ]
    },
    {
     "name": "stderr",
     "output_type": "stream",
     "text": [
      "WARNING:tensorflow:Can save best model only with val_accuracy available, skipping.\n"
     ]
    },
    {
     "name": "stdout",
     "output_type": "stream",
     "text": [
      "WARNING:tensorflow:Learning rate reduction is conditioned on metric `val_loss` which is not available. Available metrics are: loss,accuracy,lr\n"
     ]
    },
    {
     "name": "stderr",
     "output_type": "stream",
     "text": [
      "WARNING:tensorflow:Learning rate reduction is conditioned on metric `val_loss` which is not available. Available metrics are: loss,accuracy,lr\n"
     ]
    },
    {
     "name": "stdout",
     "output_type": "stream",
     "text": [
      "119/119 [==============================] - 121s 1s/step - loss: 0.0105 - accuracy: 0.9989 - lr: 1.0000e-04\n",
      "Epoch 16/50\n",
      "119/119 [==============================] - ETA: 0s - loss: 0.0244 - accuracy: 0.9937WARNING:tensorflow:Early stopping conditioned on metric `val_loss` which is not available. Available metrics are: loss,accuracy\n"
     ]
    },
    {
     "name": "stderr",
     "output_type": "stream",
     "text": [
      "WARNING:tensorflow:Early stopping conditioned on metric `val_loss` which is not available. Available metrics are: loss,accuracy\n"
     ]
    },
    {
     "name": "stdout",
     "output_type": "stream",
     "text": [
      "WARNING:tensorflow:Can save best model only with val_accuracy available, skipping.\n"
     ]
    },
    {
     "name": "stderr",
     "output_type": "stream",
     "text": [
      "WARNING:tensorflow:Can save best model only with val_accuracy available, skipping.\n"
     ]
    },
    {
     "name": "stdout",
     "output_type": "stream",
     "text": [
      "WARNING:tensorflow:Learning rate reduction is conditioned on metric `val_loss` which is not available. Available metrics are: loss,accuracy,lr\n"
     ]
    },
    {
     "name": "stderr",
     "output_type": "stream",
     "text": [
      "WARNING:tensorflow:Learning rate reduction is conditioned on metric `val_loss` which is not available. Available metrics are: loss,accuracy,lr\n"
     ]
    },
    {
     "name": "stdout",
     "output_type": "stream",
     "text": [
      "119/119 [==============================] - 117s 978ms/step - loss: 0.0244 - accuracy: 0.9937 - lr: 1.0000e-04\n",
      "Epoch 17/50\n",
      "119/119 [==============================] - ETA: 0s - loss: 0.0174 - accuracy: 0.9958WARNING:tensorflow:Early stopping conditioned on metric `val_loss` which is not available. Available metrics are: loss,accuracy\n"
     ]
    },
    {
     "name": "stderr",
     "output_type": "stream",
     "text": [
      "WARNING:tensorflow:Early stopping conditioned on metric `val_loss` which is not available. Available metrics are: loss,accuracy\n"
     ]
    },
    {
     "name": "stdout",
     "output_type": "stream",
     "text": [
      "WARNING:tensorflow:Can save best model only with val_accuracy available, skipping.\n"
     ]
    },
    {
     "name": "stderr",
     "output_type": "stream",
     "text": [
      "WARNING:tensorflow:Can save best model only with val_accuracy available, skipping.\n"
     ]
    },
    {
     "name": "stdout",
     "output_type": "stream",
     "text": [
      "WARNING:tensorflow:Learning rate reduction is conditioned on metric `val_loss` which is not available. Available metrics are: loss,accuracy,lr\n"
     ]
    },
    {
     "name": "stderr",
     "output_type": "stream",
     "text": [
      "WARNING:tensorflow:Learning rate reduction is conditioned on metric `val_loss` which is not available. Available metrics are: loss,accuracy,lr\n"
     ]
    },
    {
     "name": "stdout",
     "output_type": "stream",
     "text": [
      "119/119 [==============================] - 115s 968ms/step - loss: 0.0174 - accuracy: 0.9958 - lr: 1.0000e-04\n",
      "Epoch 18/50\n",
      "119/119 [==============================] - ETA: 0s - loss: 0.0140 - accuracy: 0.9974WARNING:tensorflow:Early stopping conditioned on metric `val_loss` which is not available. Available metrics are: loss,accuracy\n"
     ]
    },
    {
     "name": "stderr",
     "output_type": "stream",
     "text": [
      "WARNING:tensorflow:Early stopping conditioned on metric `val_loss` which is not available. Available metrics are: loss,accuracy\n"
     ]
    },
    {
     "name": "stdout",
     "output_type": "stream",
     "text": [
      "WARNING:tensorflow:Can save best model only with val_accuracy available, skipping.\n"
     ]
    },
    {
     "name": "stderr",
     "output_type": "stream",
     "text": [
      "WARNING:tensorflow:Can save best model only with val_accuracy available, skipping.\n"
     ]
    },
    {
     "name": "stdout",
     "output_type": "stream",
     "text": [
      "WARNING:tensorflow:Learning rate reduction is conditioned on metric `val_loss` which is not available. Available metrics are: loss,accuracy,lr\n"
     ]
    },
    {
     "name": "stderr",
     "output_type": "stream",
     "text": [
      "WARNING:tensorflow:Learning rate reduction is conditioned on metric `val_loss` which is not available. Available metrics are: loss,accuracy,lr\n"
     ]
    },
    {
     "name": "stdout",
     "output_type": "stream",
     "text": [
      "119/119 [==============================] - 116s 970ms/step - loss: 0.0140 - accuracy: 0.9974 - lr: 1.0000e-04\n",
      "Epoch 19/50\n",
      "119/119 [==============================] - ETA: 0s - loss: 0.0098 - accuracy: 0.9989WARNING:tensorflow:Early stopping conditioned on metric `val_loss` which is not available. Available metrics are: loss,accuracy\n"
     ]
    },
    {
     "name": "stderr",
     "output_type": "stream",
     "text": [
      "WARNING:tensorflow:Early stopping conditioned on metric `val_loss` which is not available. Available metrics are: loss,accuracy\n"
     ]
    },
    {
     "name": "stdout",
     "output_type": "stream",
     "text": [
      "WARNING:tensorflow:Can save best model only with val_accuracy available, skipping.\n"
     ]
    },
    {
     "name": "stderr",
     "output_type": "stream",
     "text": [
      "WARNING:tensorflow:Can save best model only with val_accuracy available, skipping.\n"
     ]
    },
    {
     "name": "stdout",
     "output_type": "stream",
     "text": [
      "WARNING:tensorflow:Learning rate reduction is conditioned on metric `val_loss` which is not available. Available metrics are: loss,accuracy,lr\n"
     ]
    },
    {
     "name": "stderr",
     "output_type": "stream",
     "text": [
      "WARNING:tensorflow:Learning rate reduction is conditioned on metric `val_loss` which is not available. Available metrics are: loss,accuracy,lr\n"
     ]
    },
    {
     "name": "stdout",
     "output_type": "stream",
     "text": [
      "119/119 [==============================] - 115s 968ms/step - loss: 0.0098 - accuracy: 0.9989 - lr: 1.0000e-04\n",
      "Epoch 20/50\n",
      "119/119 [==============================] - ETA: 0s - loss: 0.0089 - accuracy: 0.9974WARNING:tensorflow:Early stopping conditioned on metric `val_loss` which is not available. Available metrics are: loss,accuracy\n"
     ]
    },
    {
     "name": "stderr",
     "output_type": "stream",
     "text": [
      "WARNING:tensorflow:Early stopping conditioned on metric `val_loss` which is not available. Available metrics are: loss,accuracy\n"
     ]
    },
    {
     "name": "stdout",
     "output_type": "stream",
     "text": [
      "WARNING:tensorflow:Can save best model only with val_accuracy available, skipping.\n"
     ]
    },
    {
     "name": "stderr",
     "output_type": "stream",
     "text": [
      "WARNING:tensorflow:Can save best model only with val_accuracy available, skipping.\n"
     ]
    },
    {
     "name": "stdout",
     "output_type": "stream",
     "text": [
      "WARNING:tensorflow:Learning rate reduction is conditioned on metric `val_loss` which is not available. Available metrics are: loss,accuracy,lr\n"
     ]
    },
    {
     "name": "stderr",
     "output_type": "stream",
     "text": [
      "WARNING:tensorflow:Learning rate reduction is conditioned on metric `val_loss` which is not available. Available metrics are: loss,accuracy,lr\n"
     ]
    },
    {
     "name": "stdout",
     "output_type": "stream",
     "text": [
      "119/119 [==============================] - 115s 966ms/step - loss: 0.0089 - accuracy: 0.9974 - lr: 1.0000e-04\n",
      "Epoch 21/50\n",
      "119/119 [==============================] - ETA: 0s - loss: 0.0170 - accuracy: 0.9963WARNING:tensorflow:Early stopping conditioned on metric `val_loss` which is not available. Available metrics are: loss,accuracy\n"
     ]
    },
    {
     "name": "stderr",
     "output_type": "stream",
     "text": [
      "WARNING:tensorflow:Early stopping conditioned on metric `val_loss` which is not available. Available metrics are: loss,accuracy\n"
     ]
    },
    {
     "name": "stdout",
     "output_type": "stream",
     "text": [
      "WARNING:tensorflow:Can save best model only with val_accuracy available, skipping.\n"
     ]
    },
    {
     "name": "stderr",
     "output_type": "stream",
     "text": [
      "WARNING:tensorflow:Can save best model only with val_accuracy available, skipping.\n"
     ]
    },
    {
     "name": "stdout",
     "output_type": "stream",
     "text": [
      "WARNING:tensorflow:Learning rate reduction is conditioned on metric `val_loss` which is not available. Available metrics are: loss,accuracy,lr\n"
     ]
    },
    {
     "name": "stderr",
     "output_type": "stream",
     "text": [
      "WARNING:tensorflow:Learning rate reduction is conditioned on metric `val_loss` which is not available. Available metrics are: loss,accuracy,lr\n"
     ]
    },
    {
     "name": "stdout",
     "output_type": "stream",
     "text": [
      "119/119 [==============================] - 115s 968ms/step - loss: 0.0170 - accuracy: 0.9963 - lr: 1.0000e-04\n",
      "Epoch 22/50\n",
      "119/119 [==============================] - ETA: 0s - loss: 0.0083 - accuracy: 0.9984WARNING:tensorflow:Early stopping conditioned on metric `val_loss` which is not available. Available metrics are: loss,accuracy\n"
     ]
    },
    {
     "name": "stderr",
     "output_type": "stream",
     "text": [
      "WARNING:tensorflow:Early stopping conditioned on metric `val_loss` which is not available. Available metrics are: loss,accuracy\n"
     ]
    },
    {
     "name": "stdout",
     "output_type": "stream",
     "text": [
      "WARNING:tensorflow:Can save best model only with val_accuracy available, skipping.\n"
     ]
    },
    {
     "name": "stderr",
     "output_type": "stream",
     "text": [
      "WARNING:tensorflow:Can save best model only with val_accuracy available, skipping.\n"
     ]
    },
    {
     "name": "stdout",
     "output_type": "stream",
     "text": [
      "WARNING:tensorflow:Learning rate reduction is conditioned on metric `val_loss` which is not available. Available metrics are: loss,accuracy,lr\n"
     ]
    },
    {
     "name": "stderr",
     "output_type": "stream",
     "text": [
      "WARNING:tensorflow:Learning rate reduction is conditioned on metric `val_loss` which is not available. Available metrics are: loss,accuracy,lr\n"
     ]
    },
    {
     "name": "stdout",
     "output_type": "stream",
     "text": [
      "119/119 [==============================] - 115s 966ms/step - loss: 0.0083 - accuracy: 0.9984 - lr: 1.0000e-04\n",
      "Epoch 23/50\n",
      "119/119 [==============================] - ETA: 0s - loss: 0.0054 - accuracy: 1.0000WARNING:tensorflow:Early stopping conditioned on metric `val_loss` which is not available. Available metrics are: loss,accuracy\n"
     ]
    },
    {
     "name": "stderr",
     "output_type": "stream",
     "text": [
      "WARNING:tensorflow:Early stopping conditioned on metric `val_loss` which is not available. Available metrics are: loss,accuracy\n"
     ]
    },
    {
     "name": "stdout",
     "output_type": "stream",
     "text": [
      "WARNING:tensorflow:Can save best model only with val_accuracy available, skipping.\n"
     ]
    },
    {
     "name": "stderr",
     "output_type": "stream",
     "text": [
      "WARNING:tensorflow:Can save best model only with val_accuracy available, skipping.\n"
     ]
    },
    {
     "name": "stdout",
     "output_type": "stream",
     "text": [
      "WARNING:tensorflow:Learning rate reduction is conditioned on metric `val_loss` which is not available. Available metrics are: loss,accuracy,lr\n"
     ]
    },
    {
     "name": "stderr",
     "output_type": "stream",
     "text": [
      "WARNING:tensorflow:Learning rate reduction is conditioned on metric `val_loss` which is not available. Available metrics are: loss,accuracy,lr\n"
     ]
    },
    {
     "name": "stdout",
     "output_type": "stream",
     "text": [
      "119/119 [==============================] - 115s 966ms/step - loss: 0.0054 - accuracy: 1.0000 - lr: 1.0000e-04\n",
      "Epoch 24/50\n",
      "119/119 [==============================] - ETA: 0s - loss: 0.0036 - accuracy: 1.0000WARNING:tensorflow:Early stopping conditioned on metric `val_loss` which is not available. Available metrics are: loss,accuracy\n"
     ]
    },
    {
     "name": "stderr",
     "output_type": "stream",
     "text": [
      "WARNING:tensorflow:Early stopping conditioned on metric `val_loss` which is not available. Available metrics are: loss,accuracy\n"
     ]
    },
    {
     "name": "stdout",
     "output_type": "stream",
     "text": [
      "WARNING:tensorflow:Can save best model only with val_accuracy available, skipping.\n"
     ]
    },
    {
     "name": "stderr",
     "output_type": "stream",
     "text": [
      "WARNING:tensorflow:Can save best model only with val_accuracy available, skipping.\n"
     ]
    },
    {
     "name": "stdout",
     "output_type": "stream",
     "text": [
      "WARNING:tensorflow:Learning rate reduction is conditioned on metric `val_loss` which is not available. Available metrics are: loss,accuracy,lr\n"
     ]
    },
    {
     "name": "stderr",
     "output_type": "stream",
     "text": [
      "WARNING:tensorflow:Learning rate reduction is conditioned on metric `val_loss` which is not available. Available metrics are: loss,accuracy,lr\n"
     ]
    },
    {
     "name": "stdout",
     "output_type": "stream",
     "text": [
      "119/119 [==============================] - 117s 977ms/step - loss: 0.0036 - accuracy: 1.0000 - lr: 1.0000e-04\n",
      "Epoch 25/50\n",
      "119/119 [==============================] - ETA: 0s - loss: 0.0081 - accuracy: 0.9984WARNING:tensorflow:Early stopping conditioned on metric `val_loss` which is not available. Available metrics are: loss,accuracy\n"
     ]
    },
    {
     "name": "stderr",
     "output_type": "stream",
     "text": [
      "WARNING:tensorflow:Early stopping conditioned on metric `val_loss` which is not available. Available metrics are: loss,accuracy\n"
     ]
    },
    {
     "name": "stdout",
     "output_type": "stream",
     "text": [
      "WARNING:tensorflow:Can save best model only with val_accuracy available, skipping.\n"
     ]
    },
    {
     "name": "stderr",
     "output_type": "stream",
     "text": [
      "WARNING:tensorflow:Can save best model only with val_accuracy available, skipping.\n"
     ]
    },
    {
     "name": "stdout",
     "output_type": "stream",
     "text": [
      "WARNING:tensorflow:Learning rate reduction is conditioned on metric `val_loss` which is not available. Available metrics are: loss,accuracy,lr\n"
     ]
    },
    {
     "name": "stderr",
     "output_type": "stream",
     "text": [
      "WARNING:tensorflow:Learning rate reduction is conditioned on metric `val_loss` which is not available. Available metrics are: loss,accuracy,lr\n"
     ]
    },
    {
     "name": "stdout",
     "output_type": "stream",
     "text": [
      "119/119 [==============================] - 116s 975ms/step - loss: 0.0081 - accuracy: 0.9984 - lr: 1.0000e-04\n",
      "Epoch 26/50\n",
      "119/119 [==============================] - ETA: 0s - loss: 0.0117 - accuracy: 0.9963WARNING:tensorflow:Early stopping conditioned on metric `val_loss` which is not available. Available metrics are: loss,accuracy\n"
     ]
    },
    {
     "name": "stderr",
     "output_type": "stream",
     "text": [
      "WARNING:tensorflow:Early stopping conditioned on metric `val_loss` which is not available. Available metrics are: loss,accuracy\n"
     ]
    },
    {
     "name": "stdout",
     "output_type": "stream",
     "text": [
      "WARNING:tensorflow:Can save best model only with val_accuracy available, skipping.\n"
     ]
    },
    {
     "name": "stderr",
     "output_type": "stream",
     "text": [
      "WARNING:tensorflow:Can save best model only with val_accuracy available, skipping.\n"
     ]
    },
    {
     "name": "stdout",
     "output_type": "stream",
     "text": [
      "WARNING:tensorflow:Learning rate reduction is conditioned on metric `val_loss` which is not available. Available metrics are: loss,accuracy,lr\n"
     ]
    },
    {
     "name": "stderr",
     "output_type": "stream",
     "text": [
      "WARNING:tensorflow:Learning rate reduction is conditioned on metric `val_loss` which is not available. Available metrics are: loss,accuracy,lr\n"
     ]
    },
    {
     "name": "stdout",
     "output_type": "stream",
     "text": [
      "119/119 [==============================] - 117s 984ms/step - loss: 0.0117 - accuracy: 0.9963 - lr: 1.0000e-04\n",
      "Epoch 27/50\n",
      "119/119 [==============================] - ETA: 0s - loss: 0.0102 - accuracy: 0.9979WARNING:tensorflow:Early stopping conditioned on metric `val_loss` which is not available. Available metrics are: loss,accuracy\n"
     ]
    },
    {
     "name": "stderr",
     "output_type": "stream",
     "text": [
      "WARNING:tensorflow:Early stopping conditioned on metric `val_loss` which is not available. Available metrics are: loss,accuracy\n"
     ]
    },
    {
     "name": "stdout",
     "output_type": "stream",
     "text": [
      "WARNING:tensorflow:Can save best model only with val_accuracy available, skipping.\n"
     ]
    },
    {
     "name": "stderr",
     "output_type": "stream",
     "text": [
      "WARNING:tensorflow:Can save best model only with val_accuracy available, skipping.\n"
     ]
    },
    {
     "name": "stdout",
     "output_type": "stream",
     "text": [
      "WARNING:tensorflow:Learning rate reduction is conditioned on metric `val_loss` which is not available. Available metrics are: loss,accuracy,lr\n"
     ]
    },
    {
     "name": "stderr",
     "output_type": "stream",
     "text": [
      "WARNING:tensorflow:Learning rate reduction is conditioned on metric `val_loss` which is not available. Available metrics are: loss,accuracy,lr\n"
     ]
    },
    {
     "name": "stdout",
     "output_type": "stream",
     "text": [
      "119/119 [==============================] - 118s 990ms/step - loss: 0.0102 - accuracy: 0.9979 - lr: 1.0000e-04\n",
      "Epoch 28/50\n",
      "119/119 [==============================] - ETA: 0s - loss: 0.0041 - accuracy: 1.0000WARNING:tensorflow:Early stopping conditioned on metric `val_loss` which is not available. Available metrics are: loss,accuracy\n"
     ]
    },
    {
     "name": "stderr",
     "output_type": "stream",
     "text": [
      "WARNING:tensorflow:Early stopping conditioned on metric `val_loss` which is not available. Available metrics are: loss,accuracy\n"
     ]
    },
    {
     "name": "stdout",
     "output_type": "stream",
     "text": [
      "WARNING:tensorflow:Can save best model only with val_accuracy available, skipping.\n"
     ]
    },
    {
     "name": "stderr",
     "output_type": "stream",
     "text": [
      "WARNING:tensorflow:Can save best model only with val_accuracy available, skipping.\n"
     ]
    },
    {
     "name": "stdout",
     "output_type": "stream",
     "text": [
      "WARNING:tensorflow:Learning rate reduction is conditioned on metric `val_loss` which is not available. Available metrics are: loss,accuracy,lr\n"
     ]
    },
    {
     "name": "stderr",
     "output_type": "stream",
     "text": [
      "WARNING:tensorflow:Learning rate reduction is conditioned on metric `val_loss` which is not available. Available metrics are: loss,accuracy,lr\n"
     ]
    },
    {
     "name": "stdout",
     "output_type": "stream",
     "text": [
      "119/119 [==============================] - 117s 982ms/step - loss: 0.0041 - accuracy: 1.0000 - lr: 1.0000e-04\n",
      "Epoch 29/50\n",
      "119/119 [==============================] - ETA: 0s - loss: 0.0043 - accuracy: 0.9995WARNING:tensorflow:Early stopping conditioned on metric `val_loss` which is not available. Available metrics are: loss,accuracy\n"
     ]
    },
    {
     "name": "stderr",
     "output_type": "stream",
     "text": [
      "WARNING:tensorflow:Early stopping conditioned on metric `val_loss` which is not available. Available metrics are: loss,accuracy\n"
     ]
    },
    {
     "name": "stdout",
     "output_type": "stream",
     "text": [
      "WARNING:tensorflow:Can save best model only with val_accuracy available, skipping.\n"
     ]
    },
    {
     "name": "stderr",
     "output_type": "stream",
     "text": [
      "WARNING:tensorflow:Can save best model only with val_accuracy available, skipping.\n"
     ]
    },
    {
     "name": "stdout",
     "output_type": "stream",
     "text": [
      "WARNING:tensorflow:Learning rate reduction is conditioned on metric `val_loss` which is not available. Available metrics are: loss,accuracy,lr\n"
     ]
    },
    {
     "name": "stderr",
     "output_type": "stream",
     "text": [
      "WARNING:tensorflow:Learning rate reduction is conditioned on metric `val_loss` which is not available. Available metrics are: loss,accuracy,lr\n"
     ]
    },
    {
     "name": "stdout",
     "output_type": "stream",
     "text": [
      "119/119 [==============================] - 116s 970ms/step - loss: 0.0043 - accuracy: 0.9995 - lr: 1.0000e-04\n",
      "Epoch 30/50\n",
      "119/119 [==============================] - ETA: 0s - loss: 0.0034 - accuracy: 0.9995WARNING:tensorflow:Early stopping conditioned on metric `val_loss` which is not available. Available metrics are: loss,accuracy\n"
     ]
    },
    {
     "name": "stderr",
     "output_type": "stream",
     "text": [
      "WARNING:tensorflow:Early stopping conditioned on metric `val_loss` which is not available. Available metrics are: loss,accuracy\n"
     ]
    },
    {
     "name": "stdout",
     "output_type": "stream",
     "text": [
      "WARNING:tensorflow:Can save best model only with val_accuracy available, skipping.\n"
     ]
    },
    {
     "name": "stderr",
     "output_type": "stream",
     "text": [
      "WARNING:tensorflow:Can save best model only with val_accuracy available, skipping.\n"
     ]
    },
    {
     "name": "stdout",
     "output_type": "stream",
     "text": [
      "WARNING:tensorflow:Learning rate reduction is conditioned on metric `val_loss` which is not available. Available metrics are: loss,accuracy,lr\n"
     ]
    },
    {
     "name": "stderr",
     "output_type": "stream",
     "text": [
      "WARNING:tensorflow:Learning rate reduction is conditioned on metric `val_loss` which is not available. Available metrics are: loss,accuracy,lr\n"
     ]
    },
    {
     "name": "stdout",
     "output_type": "stream",
     "text": [
      "119/119 [==============================] - 115s 965ms/step - loss: 0.0034 - accuracy: 0.9995 - lr: 1.0000e-04\n",
      "Epoch 31/50\n",
      "119/119 [==============================] - ETA: 0s - loss: 0.0047 - accuracy: 0.9995WARNING:tensorflow:Early stopping conditioned on metric `val_loss` which is not available. Available metrics are: loss,accuracy\n"
     ]
    },
    {
     "name": "stderr",
     "output_type": "stream",
     "text": [
      "WARNING:tensorflow:Early stopping conditioned on metric `val_loss` which is not available. Available metrics are: loss,accuracy\n"
     ]
    },
    {
     "name": "stdout",
     "output_type": "stream",
     "text": [
      "WARNING:tensorflow:Can save best model only with val_accuracy available, skipping.\n"
     ]
    },
    {
     "name": "stderr",
     "output_type": "stream",
     "text": [
      "WARNING:tensorflow:Can save best model only with val_accuracy available, skipping.\n"
     ]
    },
    {
     "name": "stdout",
     "output_type": "stream",
     "text": [
      "WARNING:tensorflow:Learning rate reduction is conditioned on metric `val_loss` which is not available. Available metrics are: loss,accuracy,lr\n"
     ]
    },
    {
     "name": "stderr",
     "output_type": "stream",
     "text": [
      "WARNING:tensorflow:Learning rate reduction is conditioned on metric `val_loss` which is not available. Available metrics are: loss,accuracy,lr\n"
     ]
    },
    {
     "name": "stdout",
     "output_type": "stream",
     "text": [
      "119/119 [==============================] - 115s 966ms/step - loss: 0.0047 - accuracy: 0.9995 - lr: 1.0000e-04\n",
      "Epoch 32/50\n",
      "119/119 [==============================] - ETA: 0s - loss: 0.0055 - accuracy: 0.9989WARNING:tensorflow:Early stopping conditioned on metric `val_loss` which is not available. Available metrics are: loss,accuracy\n"
     ]
    },
    {
     "name": "stderr",
     "output_type": "stream",
     "text": [
      "WARNING:tensorflow:Early stopping conditioned on metric `val_loss` which is not available. Available metrics are: loss,accuracy\n"
     ]
    },
    {
     "name": "stdout",
     "output_type": "stream",
     "text": [
      "WARNING:tensorflow:Can save best model only with val_accuracy available, skipping.\n"
     ]
    },
    {
     "name": "stderr",
     "output_type": "stream",
     "text": [
      "WARNING:tensorflow:Can save best model only with val_accuracy available, skipping.\n"
     ]
    },
    {
     "name": "stdout",
     "output_type": "stream",
     "text": [
      "WARNING:tensorflow:Learning rate reduction is conditioned on metric `val_loss` which is not available. Available metrics are: loss,accuracy,lr\n"
     ]
    },
    {
     "name": "stderr",
     "output_type": "stream",
     "text": [
      "WARNING:tensorflow:Learning rate reduction is conditioned on metric `val_loss` which is not available. Available metrics are: loss,accuracy,lr\n"
     ]
    },
    {
     "name": "stdout",
     "output_type": "stream",
     "text": [
      "119/119 [==============================] - 115s 966ms/step - loss: 0.0055 - accuracy: 0.9989 - lr: 1.0000e-04\n",
      "Epoch 33/50\n",
      "119/119 [==============================] - ETA: 0s - loss: 0.0071 - accuracy: 0.9979WARNING:tensorflow:Early stopping conditioned on metric `val_loss` which is not available. Available metrics are: loss,accuracy\n"
     ]
    },
    {
     "name": "stderr",
     "output_type": "stream",
     "text": [
      "WARNING:tensorflow:Early stopping conditioned on metric `val_loss` which is not available. Available metrics are: loss,accuracy\n"
     ]
    },
    {
     "name": "stdout",
     "output_type": "stream",
     "text": [
      "WARNING:tensorflow:Can save best model only with val_accuracy available, skipping.\n"
     ]
    },
    {
     "name": "stderr",
     "output_type": "stream",
     "text": [
      "WARNING:tensorflow:Can save best model only with val_accuracy available, skipping.\n"
     ]
    },
    {
     "name": "stdout",
     "output_type": "stream",
     "text": [
      "WARNING:tensorflow:Learning rate reduction is conditioned on metric `val_loss` which is not available. Available metrics are: loss,accuracy,lr\n"
     ]
    },
    {
     "name": "stderr",
     "output_type": "stream",
     "text": [
      "WARNING:tensorflow:Learning rate reduction is conditioned on metric `val_loss` which is not available. Available metrics are: loss,accuracy,lr\n"
     ]
    },
    {
     "name": "stdout",
     "output_type": "stream",
     "text": [
      "119/119 [==============================] - 115s 967ms/step - loss: 0.0071 - accuracy: 0.9979 - lr: 1.0000e-04\n",
      "Epoch 34/50\n",
      "119/119 [==============================] - ETA: 0s - loss: 0.0045 - accuracy: 0.9995WARNING:tensorflow:Early stopping conditioned on metric `val_loss` which is not available. Available metrics are: loss,accuracy\n"
     ]
    },
    {
     "name": "stderr",
     "output_type": "stream",
     "text": [
      "WARNING:tensorflow:Early stopping conditioned on metric `val_loss` which is not available. Available metrics are: loss,accuracy\n"
     ]
    },
    {
     "name": "stdout",
     "output_type": "stream",
     "text": [
      "WARNING:tensorflow:Can save best model only with val_accuracy available, skipping.\n"
     ]
    },
    {
     "name": "stderr",
     "output_type": "stream",
     "text": [
      "WARNING:tensorflow:Can save best model only with val_accuracy available, skipping.\n"
     ]
    },
    {
     "name": "stdout",
     "output_type": "stream",
     "text": [
      "WARNING:tensorflow:Learning rate reduction is conditioned on metric `val_loss` which is not available. Available metrics are: loss,accuracy,lr\n"
     ]
    },
    {
     "name": "stderr",
     "output_type": "stream",
     "text": [
      "WARNING:tensorflow:Learning rate reduction is conditioned on metric `val_loss` which is not available. Available metrics are: loss,accuracy,lr\n"
     ]
    },
    {
     "name": "stdout",
     "output_type": "stream",
     "text": [
      "119/119 [==============================] - 116s 969ms/step - loss: 0.0045 - accuracy: 0.9995 - lr: 1.0000e-04\n",
      "Epoch 35/50\n",
      "119/119 [==============================] - ETA: 0s - loss: 0.0051 - accuracy: 0.9989WARNING:tensorflow:Early stopping conditioned on metric `val_loss` which is not available. Available metrics are: loss,accuracy\n"
     ]
    },
    {
     "name": "stderr",
     "output_type": "stream",
     "text": [
      "WARNING:tensorflow:Early stopping conditioned on metric `val_loss` which is not available. Available metrics are: loss,accuracy\n"
     ]
    },
    {
     "name": "stdout",
     "output_type": "stream",
     "text": [
      "WARNING:tensorflow:Can save best model only with val_accuracy available, skipping.\n"
     ]
    },
    {
     "name": "stderr",
     "output_type": "stream",
     "text": [
      "WARNING:tensorflow:Can save best model only with val_accuracy available, skipping.\n"
     ]
    },
    {
     "name": "stdout",
     "output_type": "stream",
     "text": [
      "WARNING:tensorflow:Learning rate reduction is conditioned on metric `val_loss` which is not available. Available metrics are: loss,accuracy,lr\n"
     ]
    },
    {
     "name": "stderr",
     "output_type": "stream",
     "text": [
      "WARNING:tensorflow:Learning rate reduction is conditioned on metric `val_loss` which is not available. Available metrics are: loss,accuracy,lr\n"
     ]
    },
    {
     "name": "stdout",
     "output_type": "stream",
     "text": [
      "119/119 [==============================] - 121s 1s/step - loss: 0.0051 - accuracy: 0.9989 - lr: 1.0000e-04\n",
      "Epoch 36/50\n",
      "119/119 [==============================] - ETA: 0s - loss: 0.0038 - accuracy: 1.0000WARNING:tensorflow:Early stopping conditioned on metric `val_loss` which is not available. Available metrics are: loss,accuracy\n"
     ]
    },
    {
     "name": "stderr",
     "output_type": "stream",
     "text": [
      "WARNING:tensorflow:Early stopping conditioned on metric `val_loss` which is not available. Available metrics are: loss,accuracy\n"
     ]
    },
    {
     "name": "stdout",
     "output_type": "stream",
     "text": [
      "WARNING:tensorflow:Can save best model only with val_accuracy available, skipping.\n"
     ]
    },
    {
     "name": "stderr",
     "output_type": "stream",
     "text": [
      "WARNING:tensorflow:Can save best model only with val_accuracy available, skipping.\n"
     ]
    },
    {
     "name": "stdout",
     "output_type": "stream",
     "text": [
      "WARNING:tensorflow:Learning rate reduction is conditioned on metric `val_loss` which is not available. Available metrics are: loss,accuracy,lr\n"
     ]
    },
    {
     "name": "stderr",
     "output_type": "stream",
     "text": [
      "WARNING:tensorflow:Learning rate reduction is conditioned on metric `val_loss` which is not available. Available metrics are: loss,accuracy,lr\n"
     ]
    },
    {
     "name": "stdout",
     "output_type": "stream",
     "text": [
      "119/119 [==============================] - 119s 998ms/step - loss: 0.0038 - accuracy: 1.0000 - lr: 1.0000e-04\n",
      "Epoch 37/50\n",
      "119/119 [==============================] - ETA: 0s - loss: 0.0020 - accuracy: 1.0000WARNING:tensorflow:Early stopping conditioned on metric `val_loss` which is not available. Available metrics are: loss,accuracy\n"
     ]
    },
    {
     "name": "stderr",
     "output_type": "stream",
     "text": [
      "WARNING:tensorflow:Early stopping conditioned on metric `val_loss` which is not available. Available metrics are: loss,accuracy\n"
     ]
    },
    {
     "name": "stdout",
     "output_type": "stream",
     "text": [
      "WARNING:tensorflow:Can save best model only with val_accuracy available, skipping.\n"
     ]
    },
    {
     "name": "stderr",
     "output_type": "stream",
     "text": [
      "WARNING:tensorflow:Can save best model only with val_accuracy available, skipping.\n"
     ]
    },
    {
     "name": "stdout",
     "output_type": "stream",
     "text": [
      "WARNING:tensorflow:Learning rate reduction is conditioned on metric `val_loss` which is not available. Available metrics are: loss,accuracy,lr\n"
     ]
    },
    {
     "name": "stderr",
     "output_type": "stream",
     "text": [
      "WARNING:tensorflow:Learning rate reduction is conditioned on metric `val_loss` which is not available. Available metrics are: loss,accuracy,lr\n"
     ]
    },
    {
     "name": "stdout",
     "output_type": "stream",
     "text": [
      "119/119 [==============================] - 116s 971ms/step - loss: 0.0020 - accuracy: 1.0000 - lr: 1.0000e-04\n",
      "Epoch 38/50\n",
      "119/119 [==============================] - ETA: 0s - loss: 0.0050 - accuracy: 0.9989WARNING:tensorflow:Early stopping conditioned on metric `val_loss` which is not available. Available metrics are: loss,accuracy\n"
     ]
    },
    {
     "name": "stderr",
     "output_type": "stream",
     "text": [
      "WARNING:tensorflow:Early stopping conditioned on metric `val_loss` which is not available. Available metrics are: loss,accuracy\n"
     ]
    },
    {
     "name": "stdout",
     "output_type": "stream",
     "text": [
      "WARNING:tensorflow:Can save best model only with val_accuracy available, skipping.\n"
     ]
    },
    {
     "name": "stderr",
     "output_type": "stream",
     "text": [
      "WARNING:tensorflow:Can save best model only with val_accuracy available, skipping.\n"
     ]
    },
    {
     "name": "stdout",
     "output_type": "stream",
     "text": [
      "WARNING:tensorflow:Learning rate reduction is conditioned on metric `val_loss` which is not available. Available metrics are: loss,accuracy,lr\n"
     ]
    },
    {
     "name": "stderr",
     "output_type": "stream",
     "text": [
      "WARNING:tensorflow:Learning rate reduction is conditioned on metric `val_loss` which is not available. Available metrics are: loss,accuracy,lr\n"
     ]
    },
    {
     "name": "stdout",
     "output_type": "stream",
     "text": [
      "119/119 [==============================] - 115s 967ms/step - loss: 0.0050 - accuracy: 0.9989 - lr: 1.0000e-04\n",
      "Epoch 39/50\n",
      "119/119 [==============================] - ETA: 0s - loss: 0.0057 - accuracy: 0.9984WARNING:tensorflow:Early stopping conditioned on metric `val_loss` which is not available. Available metrics are: loss,accuracy\n"
     ]
    },
    {
     "name": "stderr",
     "output_type": "stream",
     "text": [
      "WARNING:tensorflow:Early stopping conditioned on metric `val_loss` which is not available. Available metrics are: loss,accuracy\n"
     ]
    },
    {
     "name": "stdout",
     "output_type": "stream",
     "text": [
      "WARNING:tensorflow:Can save best model only with val_accuracy available, skipping.\n"
     ]
    },
    {
     "name": "stderr",
     "output_type": "stream",
     "text": [
      "WARNING:tensorflow:Can save best model only with val_accuracy available, skipping.\n"
     ]
    },
    {
     "name": "stdout",
     "output_type": "stream",
     "text": [
      "WARNING:tensorflow:Learning rate reduction is conditioned on metric `val_loss` which is not available. Available metrics are: loss,accuracy,lr\n"
     ]
    },
    {
     "name": "stderr",
     "output_type": "stream",
     "text": [
      "WARNING:tensorflow:Learning rate reduction is conditioned on metric `val_loss` which is not available. Available metrics are: loss,accuracy,lr\n"
     ]
    },
    {
     "name": "stdout",
     "output_type": "stream",
     "text": [
      "119/119 [==============================] - 117s 980ms/step - loss: 0.0057 - accuracy: 0.9984 - lr: 1.0000e-04\n",
      "Epoch 40/50\n",
      "119/119 [==============================] - ETA: 0s - loss: 0.0189 - accuracy: 0.9953WARNING:tensorflow:Early stopping conditioned on metric `val_loss` which is not available. Available metrics are: loss,accuracy\n"
     ]
    },
    {
     "name": "stderr",
     "output_type": "stream",
     "text": [
      "WARNING:tensorflow:Early stopping conditioned on metric `val_loss` which is not available. Available metrics are: loss,accuracy\n"
     ]
    },
    {
     "name": "stdout",
     "output_type": "stream",
     "text": [
      "WARNING:tensorflow:Can save best model only with val_accuracy available, skipping.\n"
     ]
    },
    {
     "name": "stderr",
     "output_type": "stream",
     "text": [
      "WARNING:tensorflow:Can save best model only with val_accuracy available, skipping.\n"
     ]
    },
    {
     "name": "stdout",
     "output_type": "stream",
     "text": [
      "WARNING:tensorflow:Learning rate reduction is conditioned on metric `val_loss` which is not available. Available metrics are: loss,accuracy,lr\n"
     ]
    },
    {
     "name": "stderr",
     "output_type": "stream",
     "text": [
      "WARNING:tensorflow:Learning rate reduction is conditioned on metric `val_loss` which is not available. Available metrics are: loss,accuracy,lr\n"
     ]
    },
    {
     "name": "stdout",
     "output_type": "stream",
     "text": [
      "119/119 [==============================] - 114s 959ms/step - loss: 0.0189 - accuracy: 0.9953 - lr: 1.0000e-04\n",
      "Epoch 41/50\n",
      "119/119 [==============================] - ETA: 0s - loss: 0.0035 - accuracy: 0.9995WARNING:tensorflow:Early stopping conditioned on metric `val_loss` which is not available. Available metrics are: loss,accuracy\n"
     ]
    },
    {
     "name": "stderr",
     "output_type": "stream",
     "text": [
      "WARNING:tensorflow:Early stopping conditioned on metric `val_loss` which is not available. Available metrics are: loss,accuracy\n"
     ]
    },
    {
     "name": "stdout",
     "output_type": "stream",
     "text": [
      "WARNING:tensorflow:Can save best model only with val_accuracy available, skipping.\n"
     ]
    },
    {
     "name": "stderr",
     "output_type": "stream",
     "text": [
      "WARNING:tensorflow:Can save best model only with val_accuracy available, skipping.\n"
     ]
    },
    {
     "name": "stdout",
     "output_type": "stream",
     "text": [
      "WARNING:tensorflow:Learning rate reduction is conditioned on metric `val_loss` which is not available. Available metrics are: loss,accuracy,lr\n"
     ]
    },
    {
     "name": "stderr",
     "output_type": "stream",
     "text": [
      "WARNING:tensorflow:Learning rate reduction is conditioned on metric `val_loss` which is not available. Available metrics are: loss,accuracy,lr\n"
     ]
    },
    {
     "name": "stdout",
     "output_type": "stream",
     "text": [
      "119/119 [==============================] - 114s 959ms/step - loss: 0.0035 - accuracy: 0.9995 - lr: 1.0000e-04\n",
      "Epoch 42/50\n",
      "119/119 [==============================] - ETA: 0s - loss: 0.0021 - accuracy: 0.9995WARNING:tensorflow:Early stopping conditioned on metric `val_loss` which is not available. Available metrics are: loss,accuracy\n"
     ]
    },
    {
     "name": "stderr",
     "output_type": "stream",
     "text": [
      "WARNING:tensorflow:Early stopping conditioned on metric `val_loss` which is not available. Available metrics are: loss,accuracy\n"
     ]
    },
    {
     "name": "stdout",
     "output_type": "stream",
     "text": [
      "WARNING:tensorflow:Can save best model only with val_accuracy available, skipping.\n"
     ]
    },
    {
     "name": "stderr",
     "output_type": "stream",
     "text": [
      "WARNING:tensorflow:Can save best model only with val_accuracy available, skipping.\n"
     ]
    },
    {
     "name": "stdout",
     "output_type": "stream",
     "text": [
      "WARNING:tensorflow:Learning rate reduction is conditioned on metric `val_loss` which is not available. Available metrics are: loss,accuracy,lr\n"
     ]
    },
    {
     "name": "stderr",
     "output_type": "stream",
     "text": [
      "WARNING:tensorflow:Learning rate reduction is conditioned on metric `val_loss` which is not available. Available metrics are: loss,accuracy,lr\n"
     ]
    },
    {
     "name": "stdout",
     "output_type": "stream",
     "text": [
      "119/119 [==============================] - 114s 958ms/step - loss: 0.0021 - accuracy: 0.9995 - lr: 1.0000e-04\n",
      "Epoch 43/50\n",
      "119/119 [==============================] - ETA: 0s - loss: 0.0039 - accuracy: 0.9995WARNING:tensorflow:Early stopping conditioned on metric `val_loss` which is not available. Available metrics are: loss,accuracy\n"
     ]
    },
    {
     "name": "stderr",
     "output_type": "stream",
     "text": [
      "WARNING:tensorflow:Early stopping conditioned on metric `val_loss` which is not available. Available metrics are: loss,accuracy\n"
     ]
    },
    {
     "name": "stdout",
     "output_type": "stream",
     "text": [
      "WARNING:tensorflow:Can save best model only with val_accuracy available, skipping.\n"
     ]
    },
    {
     "name": "stderr",
     "output_type": "stream",
     "text": [
      "WARNING:tensorflow:Can save best model only with val_accuracy available, skipping.\n"
     ]
    },
    {
     "name": "stdout",
     "output_type": "stream",
     "text": [
      "WARNING:tensorflow:Learning rate reduction is conditioned on metric `val_loss` which is not available. Available metrics are: loss,accuracy,lr\n"
     ]
    },
    {
     "name": "stderr",
     "output_type": "stream",
     "text": [
      "WARNING:tensorflow:Learning rate reduction is conditioned on metric `val_loss` which is not available. Available metrics are: loss,accuracy,lr\n"
     ]
    },
    {
     "name": "stdout",
     "output_type": "stream",
     "text": [
      "119/119 [==============================] - 114s 958ms/step - loss: 0.0039 - accuracy: 0.9995 - lr: 1.0000e-04\n",
      "Epoch 44/50\n",
      "119/119 [==============================] - ETA: 0s - loss: 0.0017 - accuracy: 1.0000WARNING:tensorflow:Early stopping conditioned on metric `val_loss` which is not available. Available metrics are: loss,accuracy\n"
     ]
    },
    {
     "name": "stderr",
     "output_type": "stream",
     "text": [
      "WARNING:tensorflow:Early stopping conditioned on metric `val_loss` which is not available. Available metrics are: loss,accuracy\n"
     ]
    },
    {
     "name": "stdout",
     "output_type": "stream",
     "text": [
      "WARNING:tensorflow:Can save best model only with val_accuracy available, skipping.\n"
     ]
    },
    {
     "name": "stderr",
     "output_type": "stream",
     "text": [
      "WARNING:tensorflow:Can save best model only with val_accuracy available, skipping.\n"
     ]
    },
    {
     "name": "stdout",
     "output_type": "stream",
     "text": [
      "WARNING:tensorflow:Learning rate reduction is conditioned on metric `val_loss` which is not available. Available metrics are: loss,accuracy,lr\n"
     ]
    },
    {
     "name": "stderr",
     "output_type": "stream",
     "text": [
      "WARNING:tensorflow:Learning rate reduction is conditioned on metric `val_loss` which is not available. Available metrics are: loss,accuracy,lr\n"
     ]
    },
    {
     "name": "stdout",
     "output_type": "stream",
     "text": [
      "119/119 [==============================] - 114s 959ms/step - loss: 0.0017 - accuracy: 1.0000 - lr: 1.0000e-04\n",
      "Epoch 45/50\n",
      "119/119 [==============================] - ETA: 0s - loss: 0.0031 - accuracy: 0.9995WARNING:tensorflow:Early stopping conditioned on metric `val_loss` which is not available. Available metrics are: loss,accuracy\n"
     ]
    },
    {
     "name": "stderr",
     "output_type": "stream",
     "text": [
      "WARNING:tensorflow:Early stopping conditioned on metric `val_loss` which is not available. Available metrics are: loss,accuracy\n"
     ]
    },
    {
     "name": "stdout",
     "output_type": "stream",
     "text": [
      "WARNING:tensorflow:Can save best model only with val_accuracy available, skipping.\n"
     ]
    },
    {
     "name": "stderr",
     "output_type": "stream",
     "text": [
      "WARNING:tensorflow:Can save best model only with val_accuracy available, skipping.\n"
     ]
    },
    {
     "name": "stdout",
     "output_type": "stream",
     "text": [
      "WARNING:tensorflow:Learning rate reduction is conditioned on metric `val_loss` which is not available. Available metrics are: loss,accuracy,lr\n"
     ]
    },
    {
     "name": "stderr",
     "output_type": "stream",
     "text": [
      "WARNING:tensorflow:Learning rate reduction is conditioned on metric `val_loss` which is not available. Available metrics are: loss,accuracy,lr\n"
     ]
    },
    {
     "name": "stdout",
     "output_type": "stream",
     "text": [
      "119/119 [==============================] - 114s 959ms/step - loss: 0.0031 - accuracy: 0.9995 - lr: 1.0000e-04\n",
      "Epoch 46/50\n",
      "119/119 [==============================] - ETA: 0s - loss: 0.0156 - accuracy: 0.9958WARNING:tensorflow:Early stopping conditioned on metric `val_loss` which is not available. Available metrics are: loss,accuracy\n"
     ]
    },
    {
     "name": "stderr",
     "output_type": "stream",
     "text": [
      "WARNING:tensorflow:Early stopping conditioned on metric `val_loss` which is not available. Available metrics are: loss,accuracy\n"
     ]
    },
    {
     "name": "stdout",
     "output_type": "stream",
     "text": [
      "WARNING:tensorflow:Can save best model only with val_accuracy available, skipping.\n"
     ]
    },
    {
     "name": "stderr",
     "output_type": "stream",
     "text": [
      "WARNING:tensorflow:Can save best model only with val_accuracy available, skipping.\n"
     ]
    },
    {
     "name": "stdout",
     "output_type": "stream",
     "text": [
      "WARNING:tensorflow:Learning rate reduction is conditioned on metric `val_loss` which is not available. Available metrics are: loss,accuracy,lr\n"
     ]
    },
    {
     "name": "stderr",
     "output_type": "stream",
     "text": [
      "WARNING:tensorflow:Learning rate reduction is conditioned on metric `val_loss` which is not available. Available metrics are: loss,accuracy,lr\n"
     ]
    },
    {
     "name": "stdout",
     "output_type": "stream",
     "text": [
      "119/119 [==============================] - 114s 959ms/step - loss: 0.0156 - accuracy: 0.9958 - lr: 1.0000e-04\n",
      "Epoch 47/50\n",
      "119/119 [==============================] - ETA: 0s - loss: 0.0025 - accuracy: 0.9995WARNING:tensorflow:Early stopping conditioned on metric `val_loss` which is not available. Available metrics are: loss,accuracy\n"
     ]
    },
    {
     "name": "stderr",
     "output_type": "stream",
     "text": [
      "WARNING:tensorflow:Early stopping conditioned on metric `val_loss` which is not available. Available metrics are: loss,accuracy\n"
     ]
    },
    {
     "name": "stdout",
     "output_type": "stream",
     "text": [
      "WARNING:tensorflow:Can save best model only with val_accuracy available, skipping.\n"
     ]
    },
    {
     "name": "stderr",
     "output_type": "stream",
     "text": [
      "WARNING:tensorflow:Can save best model only with val_accuracy available, skipping.\n"
     ]
    },
    {
     "name": "stdout",
     "output_type": "stream",
     "text": [
      "WARNING:tensorflow:Learning rate reduction is conditioned on metric `val_loss` which is not available. Available metrics are: loss,accuracy,lr\n"
     ]
    },
    {
     "name": "stderr",
     "output_type": "stream",
     "text": [
      "WARNING:tensorflow:Learning rate reduction is conditioned on metric `val_loss` which is not available. Available metrics are: loss,accuracy,lr\n"
     ]
    },
    {
     "name": "stdout",
     "output_type": "stream",
     "text": [
      "119/119 [==============================] - 114s 959ms/step - loss: 0.0025 - accuracy: 0.9995 - lr: 1.0000e-04\n",
      "Epoch 48/50\n",
      "119/119 [==============================] - ETA: 0s - loss: 0.0081 - accuracy: 0.9989WARNING:tensorflow:Early stopping conditioned on metric `val_loss` which is not available. Available metrics are: loss,accuracy\n"
     ]
    },
    {
     "name": "stderr",
     "output_type": "stream",
     "text": [
      "WARNING:tensorflow:Early stopping conditioned on metric `val_loss` which is not available. Available metrics are: loss,accuracy\n"
     ]
    },
    {
     "name": "stdout",
     "output_type": "stream",
     "text": [
      "WARNING:tensorflow:Can save best model only with val_accuracy available, skipping.\n"
     ]
    },
    {
     "name": "stderr",
     "output_type": "stream",
     "text": [
      "WARNING:tensorflow:Can save best model only with val_accuracy available, skipping.\n"
     ]
    },
    {
     "name": "stdout",
     "output_type": "stream",
     "text": [
      "WARNING:tensorflow:Learning rate reduction is conditioned on metric `val_loss` which is not available. Available metrics are: loss,accuracy,lr\n"
     ]
    },
    {
     "name": "stderr",
     "output_type": "stream",
     "text": [
      "WARNING:tensorflow:Learning rate reduction is conditioned on metric `val_loss` which is not available. Available metrics are: loss,accuracy,lr\n"
     ]
    },
    {
     "name": "stdout",
     "output_type": "stream",
     "text": [
      "119/119 [==============================] - 114s 959ms/step - loss: 0.0081 - accuracy: 0.9989 - lr: 1.0000e-04\n",
      "Epoch 49/50\n",
      "119/119 [==============================] - ETA: 0s - loss: 0.0051 - accuracy: 0.9984WARNING:tensorflow:Early stopping conditioned on metric `val_loss` which is not available. Available metrics are: loss,accuracy\n"
     ]
    },
    {
     "name": "stderr",
     "output_type": "stream",
     "text": [
      "WARNING:tensorflow:Early stopping conditioned on metric `val_loss` which is not available. Available metrics are: loss,accuracy\n"
     ]
    },
    {
     "name": "stdout",
     "output_type": "stream",
     "text": [
      "WARNING:tensorflow:Can save best model only with val_accuracy available, skipping.\n"
     ]
    },
    {
     "name": "stderr",
     "output_type": "stream",
     "text": [
      "WARNING:tensorflow:Can save best model only with val_accuracy available, skipping.\n"
     ]
    },
    {
     "name": "stdout",
     "output_type": "stream",
     "text": [
      "WARNING:tensorflow:Learning rate reduction is conditioned on metric `val_loss` which is not available. Available metrics are: loss,accuracy,lr\n"
     ]
    },
    {
     "name": "stderr",
     "output_type": "stream",
     "text": [
      "WARNING:tensorflow:Learning rate reduction is conditioned on metric `val_loss` which is not available. Available metrics are: loss,accuracy,lr\n"
     ]
    },
    {
     "name": "stdout",
     "output_type": "stream",
     "text": [
      "119/119 [==============================] - 114s 959ms/step - loss: 0.0051 - accuracy: 0.9984 - lr: 1.0000e-04\n",
      "Epoch 50/50\n",
      "119/119 [==============================] - ETA: 0s - loss: 0.0062 - accuracy: 0.9989WARNING:tensorflow:Early stopping conditioned on metric `val_loss` which is not available. Available metrics are: loss,accuracy\n"
     ]
    },
    {
     "name": "stderr",
     "output_type": "stream",
     "text": [
      "WARNING:tensorflow:Early stopping conditioned on metric `val_loss` which is not available. Available metrics are: loss,accuracy\n"
     ]
    },
    {
     "name": "stdout",
     "output_type": "stream",
     "text": [
      "WARNING:tensorflow:Can save best model only with val_accuracy available, skipping.\n"
     ]
    },
    {
     "name": "stderr",
     "output_type": "stream",
     "text": [
      "WARNING:tensorflow:Can save best model only with val_accuracy available, skipping.\n"
     ]
    },
    {
     "name": "stdout",
     "output_type": "stream",
     "text": [
      "WARNING:tensorflow:Learning rate reduction is conditioned on metric `val_loss` which is not available. Available metrics are: loss,accuracy,lr\n"
     ]
    },
    {
     "name": "stderr",
     "output_type": "stream",
     "text": [
      "WARNING:tensorflow:Learning rate reduction is conditioned on metric `val_loss` which is not available. Available metrics are: loss,accuracy,lr\n"
     ]
    },
    {
     "name": "stdout",
     "output_type": "stream",
     "text": [
      "119/119 [==============================] - 114s 958ms/step - loss: 0.0062 - accuracy: 0.9989 - lr: 1.0000e-04\n",
      "Evaluating network...\n",
      "40/40 [==============================] - 17s 281ms/step\n",
      "classification report sklearn:\n",
      "              precision    recall  f1-score   support\n",
      "\n",
      "         cov       0.96      0.87      0.91       177\n",
      "        pneu       1.00      0.97      0.98       352\n",
      "         reg       0.78      1.00      0.88        98\n",
      "\n",
      "    accuracy                           0.94       627\n",
      "   macro avg       0.91      0.95      0.92       627\n",
      "weighted avg       0.95      0.94      0.95       627\n",
      "\n"
     ]
    }
   ],
   "source": [
    "\n",
    "# train the head of the network\n",
    "print('Starting training model...')\n",
    "H = model.fit_generator(\n",
    "    trainAug.flow(trainX, trainY, batch_size=BATCH_SIZE),\n",
    "    steps_per_epoch=len(trainX) // BATCH_SIZE,\n",
    "    validation_data=(testX, testY),\n",
    "    validation_steps=len(testX) // BATCH_SIZE,\n",
    "    epochs=EPOCHS,\n",
    "    callbacks=[earlyStopping, mcp_save, reduce_lr_loss]\n",
    ")\n",
    "\n",
    "# make predictions on the testing set\n",
    "print('Evaluating network...')\n",
    "predIdxs = model.predict(testX, batch_size=BATCH_SIZE)\n",
    "\n",
    "# for each image in the testing set we need to find the index of the\n",
    "# label with corresponding largest predicted probability\n",
    "predIdxs = np.argmax(predIdxs, axis=1)\n",
    "\n",
    "print('classification report sklearn:')\n",
    "print(\n",
    "    classification_report(\n",
    "        testY.argmax(axis=1), predIdxs, target_names=lb.classes_\n",
    "    )\n",
    ")\n"
   ]
  },
  {
   "cell_type": "code",
   "execution_count": 13,
   "metadata": {},
   "outputs": [
    {
     "name": "stdout",
     "output_type": "stream",
     "text": [
      "classification report sklearn:\n",
      "              precision    recall  f1-score   support\n",
      "\n",
      "         cov       0.96      0.87      0.91       177\n",
      "        pneu       1.00      0.97      0.98       352\n",
      "         reg       0.78      1.00      0.88        98\n",
      "\n",
      "    accuracy                           0.94       627\n",
      "   macro avg       0.91      0.95      0.92       627\n",
      "weighted avg       0.95      0.94      0.95       627\n",
      "\n"
     ]
    }
   ],
   "source": [
    "print('classification report sklearn:')\n",
    "print(\n",
    "    classification_report(\n",
    "        testY.argmax(axis=1), predIdxs, target_names=lb.classes_\n",
    "    )\n",
    ")"
   ]
  },
  {
   "cell_type": "code",
   "execution_count": 15,
   "metadata": {},
   "outputs": [
    {
     "name": "stdout",
     "output_type": "stream",
     "text": [
      "confusion matrix:\n",
      "[[154   0  23]\n",
      " [  7 340   5]\n",
      " [  0   0  98]]\n",
      "Saving COVID-19 detector model on {model_name} data...\n",
      "Done, shuttting down!\n"
     ]
    },
    {
     "data": {
      "image/png": "[encoded data removed]",
      "text/plain": [
       "<Figure size 640x480 with 1 Axes>"
      ]
     },
     "metadata": {},
     "output_type": "display_data"
    }
   ],
   "source": [
    "print('confusion matrix:')\n",
    "cm = confusion_matrix(testY.argmax(axis=1), predIdxs)\n",
    "# show the confusion matrix, accuracy, sensitivity, and specificity\n",
    "print(cm)\n",
    "\n",
    "# serialize the model to disk\n",
    "print('Saving COVID-19 detector model on {model_name} data...')\n",
    "model.save(os.path.join(MODEL_DIR, model_name), save_format='h5')\n",
    "\n",
    "# plot the training loss and accuracy\n",
    "N = EPOCHS\n",
    "plt.style.use('ggplot')\n",
    "plt.figure()\n",
    "plt.plot(np.arange(0, N), H.history['loss'], label='train_loss')\n",
    "plt.plot(np.arange(0, N), H.history['accuracy'], label='train_acc')\n",
    "plt.title('Training Loss and Accuracy on COVID-19 Dataset')\n",
    "plt.xlabel('Epoch #')\n",
    "plt.ylabel('Loss/Accuracy')\n",
    "plt.legend(loc='lower left')\n",
    "plt.savefig(os.path.join(MODEL_DIR, plot_path))\n",
    "\n",
    "print('Done, shuttting down!')\n"
   ]
  }
 ],
 "metadata": {
  "kernelspec": {
   "display_name": "Python 3",
   "language": "python",
   "name": "python3"
  },
  "language_info": {
   "codemirror_mode": {
    "name": "ipython",
    "version": 3
   },
   "file_extension": ".py",
   "mimetype": "text/x-python",
   "name": "python",
   "nbconvert_exporter": "python",
   "pygments_lexer": "ipython3",
   "version": "3.9.0"
  }
 },
 "nbformat": 4,
 "nbformat_minor": 4
}
